{
 "cells": [
  {
   "cell_type": "markdown",
   "source": [
    "# Partie I: design d’ETL\n",
    "L’objectif de cette partie est de produire des spécifications d’ETL. A partir de données sources et à l’aide d’outils de la communautés OHDSI, vous produirez un document technique permettant d’expliciter les transformations nécessaires pour adapter les données sources au format OMOP CDM v5.4. Ce document doit permettre à tout intégrateur d’implémenter un ETL de ces données sources sans ambigüité ni interprétations personnelles."
   ],
   "metadata": {
    "collapsed": false,
    "pycharm": {
     "name": "#%% md\n"
    }
   }
  },
  {
   "cell_type": "markdown",
   "source": [
    "## Études de données synthétiques\n",
    "Données téléchargées depuis https://synthea.mitre.org/downloads"
   ],
   "metadata": {
    "collapsed": false,
    "pycharm": {
     "name": "#%% md\n"
    }
   }
  },
  {
   "cell_type": "markdown",
   "source": [
    "### Analyse du rapport généré par WhiteRabbit"
   ],
   "metadata": {
    "collapsed": false,
    "pycharm": {
     "name": "#%% md\n"
    }
   }
  },
  {
   "cell_type": "code",
   "execution_count": 23,
   "outputs": [
    {
     "name": "stdout",
     "output_type": "stream",
     "text": [
      "Le rapport contient 19 feuilles excel :\n",
      "['Field Overview', 'Table Overview', 'conditions.csv', 'providers.csv', 'patients.csv', 'allergies.csv', 'observations.csv', 'devices.csv', 'procedures.csv', 'supplies.csv', 'payers.csv', 'careplans.csv', 'payer_transitions.csv', 'immunizations.csv', 'imaging_studies.csv', 'medications.csv', 'encounters.csv', 'organizations.csv', '_']\n"
     ]
    }
   ],
   "source": [
    "import pandas as pd\n",
    "import warnings\n",
    "\n",
    "warnings.filterwarnings('ignore', category=UserWarning, module='openpyxl') # Ignorer le warning de manque de formatage du fichier excel\n",
    "\n",
    "path = \"ScanReport.xlsx\" # Path vers le rapport\n",
    "scan_report=pd.ExcelFile(path)\n",
    "print(\"Le rapport contient \" + str(len(scan_report.sheet_names)) + \" feuilles excel :\")\n",
    "print(scan_report.sheet_names)"
   ],
   "metadata": {
    "collapsed": false,
    "pycharm": {
     "name": "#%%\n"
    }
   }
  },
  {
   "cell_type": "markdown",
   "source": [
    "#### Feuille Field Overview"
   ],
   "metadata": {
    "collapsed": false,
    "pycharm": {
     "name": "#%% md\n"
    }
   }
  },
  {
   "cell_type": "code",
   "execution_count": 37,
   "outputs": [
    {
     "data": {
      "text/plain": "            Table         Field  Description     Type  Max length  N rows  \\\n0  conditions.csv         START          NaN     DATE        10.0    -1.0   \n1  conditions.csv          STOP          NaN     DATE        10.0    -1.0   \n2  conditions.csv       PATIENT          NaN  VARCHAR        36.0    -1.0   \n3  conditions.csv     ENCOUNTER          NaN  VARCHAR        36.0    -1.0   \n4  conditions.csv          CODE          NaN      INT        15.0    -1.0   \n5  conditions.csv   DESCRIPTION          NaN  VARCHAR        80.0    -1.0   \n6             NaN           NaN          NaN      NaN         NaN     NaN   \n7   providers.csv            Id          NaN  VARCHAR        36.0    -1.0   \n8   providers.csv  ORGANIZATION          NaN  VARCHAR        36.0    -1.0   \n9   providers.csv          NAME          NaN  VARCHAR        29.0    -1.0   \n\n   N rows checked  Fraction empty  N unique values  Fraction unique  \\\n0          8376.0         0.00000           5356.0         0.639446   \n1          8376.0         0.45499           2924.0         0.349093   \n2          8376.0         0.00000           1152.0         0.137536   \n3          8376.0         0.00000           7650.0         0.913324   \n4          8376.0         0.00000            129.0         0.015401   \n5          8376.0         0.00000            129.0         0.015401   \n6             NaN             NaN              NaN              NaN   \n7          5855.0         0.00000           5855.0         1.000000   \n8          5855.0         0.00000           1119.0         0.191119   \n9          5855.0         0.00000           5766.0         0.984799   \n\n                Average  Standard Deviation         Min         25%  \\\n0            2003-06-28        6.646630e+03  1916-12-28  1995-02-19   \n1            2012-03-13        3.839641e+03  1917-09-06  2011-10-29   \n2                   NaN                 NaN         NaN         NaN   \n3                   NaN                 NaN         NaN         NaN   \n4  1949885905490.615234        2.219533e+13   1734006.0  53741008.0   \n5                   NaN                 NaN         NaN         NaN   \n6                   NaN                 NaN         NaN         NaN   \n7                   NaN                 NaN         NaN         NaN   \n8                   NaN                 NaN         NaN         NaN   \n9                   NaN                 NaN         NaN         NaN   \n\n        Median          75%                Max  \n0   2011-08-26   2016-01-12         2020-04-25  \n1   2014-09-17   2017-06-15         2020-04-27  \n2          NaN          NaN                NaN  \n3          NaN          NaN                NaN  \n4  127013003.0  283371005.0  368581000119106.0  \n5          NaN          NaN                NaN  \n6          NaN          NaN                NaN  \n7          NaN          NaN                NaN  \n8          NaN          NaN                NaN  \n9          NaN          NaN                NaN  ",
      "text/html": "<div>\n<style scoped>\n    .dataframe tbody tr th:only-of-type {\n        vertical-align: middle;\n    }\n\n    .dataframe tbody tr th {\n        vertical-align: top;\n    }\n\n    .dataframe thead th {\n        text-align: right;\n    }\n</style>\n<table border=\"1\" class=\"dataframe\">\n  <thead>\n    <tr style=\"text-align: right;\">\n      <th></th>\n      <th>Table</th>\n      <th>Field</th>\n      <th>Description</th>\n      <th>Type</th>\n      <th>Max length</th>\n      <th>N rows</th>\n      <th>N rows checked</th>\n      <th>Fraction empty</th>\n      <th>N unique values</th>\n      <th>Fraction unique</th>\n      <th>Average</th>\n      <th>Standard Deviation</th>\n      <th>Min</th>\n      <th>25%</th>\n      <th>Median</th>\n      <th>75%</th>\n      <th>Max</th>\n    </tr>\n  </thead>\n  <tbody>\n    <tr>\n      <th>0</th>\n      <td>conditions.csv</td>\n      <td>START</td>\n      <td>NaN</td>\n      <td>DATE</td>\n      <td>10.0</td>\n      <td>-1.0</td>\n      <td>8376.0</td>\n      <td>0.00000</td>\n      <td>5356.0</td>\n      <td>0.639446</td>\n      <td>2003-06-28</td>\n      <td>6.646630e+03</td>\n      <td>1916-12-28</td>\n      <td>1995-02-19</td>\n      <td>2011-08-26</td>\n      <td>2016-01-12</td>\n      <td>2020-04-25</td>\n    </tr>\n    <tr>\n      <th>1</th>\n      <td>conditions.csv</td>\n      <td>STOP</td>\n      <td>NaN</td>\n      <td>DATE</td>\n      <td>10.0</td>\n      <td>-1.0</td>\n      <td>8376.0</td>\n      <td>0.45499</td>\n      <td>2924.0</td>\n      <td>0.349093</td>\n      <td>2012-03-13</td>\n      <td>3.839641e+03</td>\n      <td>1917-09-06</td>\n      <td>2011-10-29</td>\n      <td>2014-09-17</td>\n      <td>2017-06-15</td>\n      <td>2020-04-27</td>\n    </tr>\n    <tr>\n      <th>2</th>\n      <td>conditions.csv</td>\n      <td>PATIENT</td>\n      <td>NaN</td>\n      <td>VARCHAR</td>\n      <td>36.0</td>\n      <td>-1.0</td>\n      <td>8376.0</td>\n      <td>0.00000</td>\n      <td>1152.0</td>\n      <td>0.137536</td>\n      <td>NaN</td>\n      <td>NaN</td>\n      <td>NaN</td>\n      <td>NaN</td>\n      <td>NaN</td>\n      <td>NaN</td>\n      <td>NaN</td>\n    </tr>\n    <tr>\n      <th>3</th>\n      <td>conditions.csv</td>\n      <td>ENCOUNTER</td>\n      <td>NaN</td>\n      <td>VARCHAR</td>\n      <td>36.0</td>\n      <td>-1.0</td>\n      <td>8376.0</td>\n      <td>0.00000</td>\n      <td>7650.0</td>\n      <td>0.913324</td>\n      <td>NaN</td>\n      <td>NaN</td>\n      <td>NaN</td>\n      <td>NaN</td>\n      <td>NaN</td>\n      <td>NaN</td>\n      <td>NaN</td>\n    </tr>\n    <tr>\n      <th>4</th>\n      <td>conditions.csv</td>\n      <td>CODE</td>\n      <td>NaN</td>\n      <td>INT</td>\n      <td>15.0</td>\n      <td>-1.0</td>\n      <td>8376.0</td>\n      <td>0.00000</td>\n      <td>129.0</td>\n      <td>0.015401</td>\n      <td>1949885905490.615234</td>\n      <td>2.219533e+13</td>\n      <td>1734006.0</td>\n      <td>53741008.0</td>\n      <td>127013003.0</td>\n      <td>283371005.0</td>\n      <td>368581000119106.0</td>\n    </tr>\n    <tr>\n      <th>5</th>\n      <td>conditions.csv</td>\n      <td>DESCRIPTION</td>\n      <td>NaN</td>\n      <td>VARCHAR</td>\n      <td>80.0</td>\n      <td>-1.0</td>\n      <td>8376.0</td>\n      <td>0.00000</td>\n      <td>129.0</td>\n      <td>0.015401</td>\n      <td>NaN</td>\n      <td>NaN</td>\n      <td>NaN</td>\n      <td>NaN</td>\n      <td>NaN</td>\n      <td>NaN</td>\n      <td>NaN</td>\n    </tr>\n    <tr>\n      <th>6</th>\n      <td>NaN</td>\n      <td>NaN</td>\n      <td>NaN</td>\n      <td>NaN</td>\n      <td>NaN</td>\n      <td>NaN</td>\n      <td>NaN</td>\n      <td>NaN</td>\n      <td>NaN</td>\n      <td>NaN</td>\n      <td>NaN</td>\n      <td>NaN</td>\n      <td>NaN</td>\n      <td>NaN</td>\n      <td>NaN</td>\n      <td>NaN</td>\n      <td>NaN</td>\n    </tr>\n    <tr>\n      <th>7</th>\n      <td>providers.csv</td>\n      <td>Id</td>\n      <td>NaN</td>\n      <td>VARCHAR</td>\n      <td>36.0</td>\n      <td>-1.0</td>\n      <td>5855.0</td>\n      <td>0.00000</td>\n      <td>5855.0</td>\n      <td>1.000000</td>\n      <td>NaN</td>\n      <td>NaN</td>\n      <td>NaN</td>\n      <td>NaN</td>\n      <td>NaN</td>\n      <td>NaN</td>\n      <td>NaN</td>\n    </tr>\n    <tr>\n      <th>8</th>\n      <td>providers.csv</td>\n      <td>ORGANIZATION</td>\n      <td>NaN</td>\n      <td>VARCHAR</td>\n      <td>36.0</td>\n      <td>-1.0</td>\n      <td>5855.0</td>\n      <td>0.00000</td>\n      <td>1119.0</td>\n      <td>0.191119</td>\n      <td>NaN</td>\n      <td>NaN</td>\n      <td>NaN</td>\n      <td>NaN</td>\n      <td>NaN</td>\n      <td>NaN</td>\n      <td>NaN</td>\n    </tr>\n    <tr>\n      <th>9</th>\n      <td>providers.csv</td>\n      <td>NAME</td>\n      <td>NaN</td>\n      <td>VARCHAR</td>\n      <td>29.0</td>\n      <td>-1.0</td>\n      <td>5855.0</td>\n      <td>0.00000</td>\n      <td>5766.0</td>\n      <td>0.984799</td>\n      <td>NaN</td>\n      <td>NaN</td>\n      <td>NaN</td>\n      <td>NaN</td>\n      <td>NaN</td>\n      <td>NaN</td>\n      <td>NaN</td>\n    </tr>\n  </tbody>\n</table>\n</div>"
     },
     "execution_count": 37,
     "metadata": {},
     "output_type": "execute_result"
    }
   ],
   "source": [
    "scan_report.parse('Field Overview').head(10)"
   ],
   "metadata": {
    "collapsed": false,
    "pycharm": {
     "name": "#%%\n"
    }
   }
  },
  {
   "cell_type": "markdown",
   "source": [
    "La table résume les champs présentés dans les autres feuilles, on retrouve bien les 16 noms de fichiers csv, plus la ligne \"NaN\" qui sépare les différentes tables."
   ],
   "metadata": {
    "collapsed": false,
    "pycharm": {
     "name": "#%% md\n"
    }
   }
  }
 ],
 "metadata": {
  "kernelspec": {
   "display_name": "Python 3",
   "language": "python",
   "name": "python3"
  },
  "language_info": {
   "codemirror_mode": {
    "name": "ipython",
    "version": 2
   },
   "file_extension": ".py",
   "mimetype": "text/x-python",
   "name": "python",
   "nbconvert_exporter": "python",
   "pygments_lexer": "ipython2",
   "version": "2.7.6"
  }
 },
 "nbformat": 4,
 "nbformat_minor": 0
}