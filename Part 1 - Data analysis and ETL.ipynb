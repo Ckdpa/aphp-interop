{
 "cells": [
  {
   "cell_type": "markdown",
   "source": [
    "# Partie I: design d’ETL\n",
    "L’objectif de cette partie est de produire des spécifications d’ETL. A partir de données sources et à l’aide d’outils de la communautés OHDSI, vous produirez un document technique permettant d’expliciter les transformations nécessaires pour adapter les données sources au format OMOP CDM v5.4. Ce document doit permettre à tout intégrateur d’implémenter un ETL de ces données sources sans ambigüité ni interprétations personnelles."
   ],
   "metadata": {
    "collapsed": false,
    "pycharm": {
     "name": "#%% md\n"
    }
   }
  },
  {
   "cell_type": "markdown",
   "source": [
    "## Études de données synthétiques\n",
    "Données téléchargées depuis https://synthea.mitre.org/downloads"
   ],
   "metadata": {
    "collapsed": false,
    "pycharm": {
     "name": "#%% md\n"
    }
   }
  },
  {
   "cell_type": "markdown",
   "source": [
    "### Analyse du rapport généré par WhiteRabbit"
   ],
   "metadata": {
    "collapsed": false,
    "pycharm": {
     "name": "#%% md\n"
    }
   }
  },
  {
   "cell_type": "code",
   "execution_count": 34,
   "outputs": [
    {
     "name": "stdout",
     "output_type": "stream",
     "text": [
      "Le rapport contient 19 feuilles excel :\n",
      "['Field Overview', 'Table Overview', 'conditions.csv', 'providers.csv', 'patients.csv', 'allergies.csv', 'observations.csv', 'devices.csv', 'procedures.csv', 'supplies.csv', 'payers.csv', 'careplans.csv', 'payer_transitions.csv', 'immunizations.csv', 'imaging_studies.csv', 'medications.csv', 'encounters.csv', 'organizations.csv', '_']\n"
     ]
    }
   ],
   "source": [
    "import pandas as pd\n",
    "import warnings\n",
    "\n",
    "warnings.filterwarnings('ignore', category=UserWarning, module='openpyxl') # Ignorer le warning de manque de formatage du fichier excel\n",
    "\n",
    "path = \"ReportFrequency.xlsx\" # Path vers le rapport\n",
    "scan_report=pd.ExcelFile(path)\n",
    "print(\"Le rapport contient \" + str(len(scan_report.sheet_names)) + \" feuilles excel :\")\n",
    "print(scan_report.sheet_names)"
   ],
   "metadata": {
    "collapsed": false,
    "pycharm": {
     "name": "#%%\n"
    }
   }
  },
  {
   "cell_type": "code",
   "execution_count": 2,
   "outputs": [],
   "source": [],
   "metadata": {
    "collapsed": false,
    "pycharm": {
     "name": "#%%\n"
    }
   }
  },
  {
   "cell_type": "markdown",
   "source": [
    "#### Field Overview"
   ],
   "metadata": {
    "collapsed": false,
    "pycharm": {
     "name": "#%% md\n"
    }
   }
  },
  {
   "cell_type": "code",
   "execution_count": 3,
   "outputs": [
    {
     "data": {
      "text/plain": "            Table      Field  Description     Type  Max length  N rows  \\\n0  conditions.csv      START          NaN     DATE        10.0    -1.0   \n1  conditions.csv       STOP          NaN     DATE        10.0    -1.0   \n2  conditions.csv    PATIENT          NaN  VARCHAR        36.0    -1.0   \n3  conditions.csv  ENCOUNTER          NaN  VARCHAR        36.0    -1.0   \n4  conditions.csv       CODE          NaN      INT        15.0    -1.0   \n\n   N rows checked  Fraction empty  N unique values  Fraction unique  \\\n0          8376.0         0.00000           5356.0         0.639446   \n1          8376.0         0.45499           2924.0         0.349093   \n2          8376.0         0.00000           1152.0         0.137536   \n3          8376.0         0.00000           7650.0         0.913324   \n4          8376.0         0.00000            129.0         0.015401   \n\n                Average  Standard Deviation         Min         25%  \\\n0            2003-06-28        6.646630e+03  1916-12-28  1995-02-19   \n1            2012-03-13        3.839641e+03  1917-09-06  2011-10-29   \n2                   NaN                 NaN         NaN         NaN   \n3                   NaN                 NaN         NaN         NaN   \n4  1949885905490.615234        2.219533e+13   1734006.0  53741008.0   \n\n        Median          75%                Max  \n0   2011-08-26   2016-01-12         2020-04-25  \n1   2014-09-17   2017-06-15         2020-04-27  \n2          NaN          NaN                NaN  \n3          NaN          NaN                NaN  \n4  127013003.0  283371005.0  368581000119106.0  ",
      "text/html": "<div>\n<style scoped>\n    .dataframe tbody tr th:only-of-type {\n        vertical-align: middle;\n    }\n\n    .dataframe tbody tr th {\n        vertical-align: top;\n    }\n\n    .dataframe thead th {\n        text-align: right;\n    }\n</style>\n<table border=\"1\" class=\"dataframe\">\n  <thead>\n    <tr style=\"text-align: right;\">\n      <th></th>\n      <th>Table</th>\n      <th>Field</th>\n      <th>Description</th>\n      <th>Type</th>\n      <th>Max length</th>\n      <th>N rows</th>\n      <th>N rows checked</th>\n      <th>Fraction empty</th>\n      <th>N unique values</th>\n      <th>Fraction unique</th>\n      <th>Average</th>\n      <th>Standard Deviation</th>\n      <th>Min</th>\n      <th>25%</th>\n      <th>Median</th>\n      <th>75%</th>\n      <th>Max</th>\n    </tr>\n  </thead>\n  <tbody>\n    <tr>\n      <th>0</th>\n      <td>conditions.csv</td>\n      <td>START</td>\n      <td>NaN</td>\n      <td>DATE</td>\n      <td>10.0</td>\n      <td>-1.0</td>\n      <td>8376.0</td>\n      <td>0.00000</td>\n      <td>5356.0</td>\n      <td>0.639446</td>\n      <td>2003-06-28</td>\n      <td>6.646630e+03</td>\n      <td>1916-12-28</td>\n      <td>1995-02-19</td>\n      <td>2011-08-26</td>\n      <td>2016-01-12</td>\n      <td>2020-04-25</td>\n    </tr>\n    <tr>\n      <th>1</th>\n      <td>conditions.csv</td>\n      <td>STOP</td>\n      <td>NaN</td>\n      <td>DATE</td>\n      <td>10.0</td>\n      <td>-1.0</td>\n      <td>8376.0</td>\n      <td>0.45499</td>\n      <td>2924.0</td>\n      <td>0.349093</td>\n      <td>2012-03-13</td>\n      <td>3.839641e+03</td>\n      <td>1917-09-06</td>\n      <td>2011-10-29</td>\n      <td>2014-09-17</td>\n      <td>2017-06-15</td>\n      <td>2020-04-27</td>\n    </tr>\n    <tr>\n      <th>2</th>\n      <td>conditions.csv</td>\n      <td>PATIENT</td>\n      <td>NaN</td>\n      <td>VARCHAR</td>\n      <td>36.0</td>\n      <td>-1.0</td>\n      <td>8376.0</td>\n      <td>0.00000</td>\n      <td>1152.0</td>\n      <td>0.137536</td>\n      <td>NaN</td>\n      <td>NaN</td>\n      <td>NaN</td>\n      <td>NaN</td>\n      <td>NaN</td>\n      <td>NaN</td>\n      <td>NaN</td>\n    </tr>\n    <tr>\n      <th>3</th>\n      <td>conditions.csv</td>\n      <td>ENCOUNTER</td>\n      <td>NaN</td>\n      <td>VARCHAR</td>\n      <td>36.0</td>\n      <td>-1.0</td>\n      <td>8376.0</td>\n      <td>0.00000</td>\n      <td>7650.0</td>\n      <td>0.913324</td>\n      <td>NaN</td>\n      <td>NaN</td>\n      <td>NaN</td>\n      <td>NaN</td>\n      <td>NaN</td>\n      <td>NaN</td>\n      <td>NaN</td>\n    </tr>\n    <tr>\n      <th>4</th>\n      <td>conditions.csv</td>\n      <td>CODE</td>\n      <td>NaN</td>\n      <td>INT</td>\n      <td>15.0</td>\n      <td>-1.0</td>\n      <td>8376.0</td>\n      <td>0.00000</td>\n      <td>129.0</td>\n      <td>0.015401</td>\n      <td>1949885905490.615234</td>\n      <td>2.219533e+13</td>\n      <td>1734006.0</td>\n      <td>53741008.0</td>\n      <td>127013003.0</td>\n      <td>283371005.0</td>\n      <td>368581000119106.0</td>\n    </tr>\n  </tbody>\n</table>\n</div>"
     },
     "execution_count": 3,
     "metadata": {},
     "output_type": "execute_result"
    }
   ],
   "source": [
    "scan_report.parse('Field Overview').head(5)"
   ],
   "metadata": {
    "collapsed": false,
    "pycharm": {
     "name": "#%%\n"
    }
   }
  },
  {
   "cell_type": "markdown",
   "source": [
    "La table résume les champs présentés dans les autres feuilles.\n",
    "\n",
    "On retrouve bien les 16 noms de fichiers csv (plus la ligne \"NaN\" qui modélise la ligne vide entre les différentes tables). Pour chacun des fichiers, on a une ligne par colonne présente dans le csv associé.\n",
    "Les colonnes de la table nous donnent des informations statistiques sur les différentes colonnes des différents fichiers. Les colonnes utilisant des valeurs numériques (y compris les dates) présentent en plus des informations statistiques sur les valeurs qui les composent.\n",
    "On a également accès aux proportions de valeurs uniques et/ou vides, et au nombre de cellules lues pour la génération du rapport.\n",
    "\n",
    "Les jeux de données contiennent des informations variées et de sources multiples. On note la présence de certains champs dans plusieurs feuilles différentes, tels les champs:\n",
    "- \"PATIENT\"\n",
    "- \"ENCOUNTER\"\n",
    "- \"CODE\"\n",
    "- \"DESCRIPTION\"\n",
    "- \"REASONCODE\"\n",
    "- \"REASONDESCRIPTION\"\n",
    "- \"START_YEAR\"\n",
    "- \"END_YEAR\"\n",
    "- ...\n",
    "\n",
    "Il conviendra de bien faire attention à relier tous les champs dans les bonnes tables.\n",
    "\n",
    "Nous pouvons également trouver le pourcentage de lignes vides dans chaque colonne. 36 colonnes comportent des lignes vides. Si on retire la feuille devices, on obtient ainsi 30 colonnes incomplètes. Il faudra s'assurer que ces champs ne sont pas des champs obligatoires pour une ou des tables OMOP."
   ],
   "metadata": {
    "collapsed": false,
    "pycharm": {
     "name": "#%% md\n"
    }
   }
  },
  {
   "cell_type": "code",
   "execution_count": 33,
   "outputs": [
    {
     "data": {
      "text/plain": "                     Table                Field  Description     Type  \\\n1           conditions.csv                 STOP          NaN     DATE   \n6                      NaN                  NaN          NaN      NaN   \n19                     NaN                  NaN          NaN      NaN   \n22            patients.csv            DEATHDATE          NaN     DATE   \n24            patients.csv              DRIVERS          NaN  VARCHAR   \n25            patients.csv             PASSPORT          NaN  VARCHAR   \n26            patients.csv               PREFIX          NaN  VARCHAR   \n29            patients.csv               SUFFIX          NaN  VARCHAR   \n30            patients.csv               MAIDEN          NaN  VARCHAR   \n31            patients.csv              MARITAL          NaN  VARCHAR   \n40            patients.csv                  ZIP          NaN      INT   \n45                     NaN                  NaN          NaN      NaN   \n47           allergies.csv                 STOP          NaN     DATE   \n52                     NaN                  NaN          NaN      NaN   \n55        observations.csv            ENCOUNTER          NaN  VARCHAR   \n59        observations.csv                UNITS          NaN  VARCHAR   \n61                     NaN                  NaN          NaN      NaN   \n63             devices.csv                 STOP          NaN    EMPTY   \n69                     NaN                  NaN          NaN      NaN   \n76          procedures.csv           REASONCODE          NaN      INT   \n77          procedures.csv    REASONDESCRIPTION          NaN  VARCHAR   \n78                     NaN                  NaN          NaN      NaN   \n79            supplies.csv                 DATE          NaN    EMPTY   \n80            supplies.csv              PATIENT          NaN    EMPTY   \n81            supplies.csv            ENCOUNTER          NaN    EMPTY   \n82            supplies.csv                 CODE          NaN    EMPTY   \n83            supplies.csv          DESCRIPTION          NaN    EMPTY   \n84            supplies.csv             QUANTITY          NaN    EMPTY   \n85                     NaN                  NaN          NaN      NaN   \n88              payers.csv              ADDRESS          NaN  VARCHAR   \n89              payers.csv                 CITY          NaN  VARCHAR   \n90              payers.csv  STATE_HEADQUARTERED          NaN  VARCHAR   \n91              payers.csv                  ZIP          NaN      INT   \n92              payers.csv                PHONE          NaN  VARCHAR   \n107                    NaN                  NaN          NaN      NaN   \n110          careplans.csv                 STOP          NaN     DATE   \n115          careplans.csv           REASONCODE          NaN      INT   \n116          careplans.csv    REASONDESCRIPTION          NaN  VARCHAR   \n117                    NaN                  NaN          NaN      NaN   \n122  payer_transitions.csv            OWNERSHIP          NaN  VARCHAR   \n123                    NaN                  NaN          NaN      NaN   \n130                    NaN                  NaN          NaN      NaN   \n141                    NaN                  NaN          NaN      NaN   \n143        medications.csv                 STOP          NaN  VARCHAR   \n153        medications.csv           REASONCODE          NaN      INT   \n154        medications.csv    REASONDESCRIPTION          NaN  VARCHAR   \n155                    NaN                  NaN          NaN      NaN   \n169         encounters.csv           REASONCODE          NaN      INT   \n170         encounters.csv    REASONDESCRIPTION          NaN  VARCHAR   \n171                    NaN                  NaN          NaN      NaN   \n180      organizations.csv                PHONE          NaN  VARCHAR   \n\n     Max length  N rows  N rows checked  Fraction empty  N unique values  \\\n1          10.0    -1.0          8376.0        0.454990           2924.0   \n6           NaN     NaN             NaN             NaN              NaN   \n19          NaN     NaN             NaN             NaN              NaN   \n22         10.0    -1.0          1171.0        0.853971            172.0   \n24          9.0    -1.0          1171.0        0.181896            953.0   \n25         10.0    -1.0          1171.0        0.233134            899.0   \n26          4.0    -1.0          1171.0        0.208369              4.0   \n29          3.0    -1.0          1171.0        0.989752              4.0   \n30         16.0    -1.0          1171.0        0.717336            261.0   \n31          1.0    -1.0          1171.0        0.324509              3.0   \n40          5.0    -1.0          1171.0        0.463706            210.0   \n45          NaN     NaN             NaN             NaN              NaN   \n47         10.0    -1.0           597.0        0.892797             30.0   \n52          NaN     NaN             NaN             NaN              NaN   \n55         36.0    -1.0        299697.0        0.101312          20031.0   \n59         16.0    -1.0        299697.0        0.042440             36.0   \n61          NaN     NaN             NaN             NaN              NaN   \n63          0.0    -1.0            78.0        1.000000              1.0   \n69          NaN     NaN             NaN             NaN              NaN   \n76         14.0    -1.0         34981.0        0.444356             43.0   \n77         69.0    -1.0         34981.0        0.444356             43.0   \n78          NaN     NaN             NaN             NaN              NaN   \n79          0.0    -1.0             0.0        1.000000              0.0   \n80          0.0    -1.0             0.0        1.000000              0.0   \n81          0.0    -1.0             0.0        1.000000              0.0   \n82          0.0    -1.0             0.0        1.000000              0.0   \n83          0.0    -1.0             0.0        1.000000              0.0   \n84          0.0    -1.0             0.0        1.000000              0.0   \n85          NaN     NaN             NaN             NaN              NaN   \n88         20.0    -1.0            10.0        0.100000              8.0   \n89         12.0    -1.0            10.0        0.100000              8.0   \n90          2.0    -1.0            10.0        0.100000              7.0   \n91          5.0    -1.0            10.0        0.100000              8.0   \n92         14.0    -1.0            10.0        0.100000              9.0   \n107         NaN     NaN             NaN             NaN              NaN   \n110        10.0    -1.0          3483.0        0.439851           1635.0   \n115        14.0    -1.0          3483.0        0.093885             63.0   \n116        69.0    -1.0          3483.0        0.093885             63.0   \n117         NaN     NaN             NaN             NaN              NaN   \n122         8.0    -1.0          3801.0        0.062089              4.0   \n123         NaN     NaN             NaN             NaN              NaN   \n130         NaN     NaN             NaN             NaN              NaN   \n141         NaN     NaN             NaN             NaN              NaN   \n143        20.0    -1.0         42989.0        0.044081          24779.0   \n153        14.0    -1.0         42989.0        0.258601             37.0   \n154        69.0    -1.0         42989.0        0.258601             37.0   \n155         NaN     NaN             NaN             NaN              NaN   \n169        15.0    -1.0         53346.0        0.741743             81.0   \n170        69.0    -1.0         53346.0        0.741743             81.0   \n171         NaN     NaN             NaN             NaN              NaN   \n180        28.0    -1.0          1119.0        0.164433            905.0   \n\n     Fraction unique               Average  Standard Deviation         Min  \\\n1           0.349093            2012-03-13        3.839641e+03  1917-09-06   \n6                NaN                   NaN                 NaN         NaN   \n19               NaN                   NaN                 NaN         NaN   \n22          0.146883            1999-04-23        6.309625e+03  1926-03-05   \n24          0.813834                   NaN                 NaN         NaN   \n25          0.767720                   NaN                 NaN         NaN   \n26          0.003416                   NaN                 NaN         NaN   \n29          0.003416                   NaN                 NaN         NaN   \n30          0.222886                   NaN                 NaN         NaN   \n31          0.002562                   NaN                 NaN         NaN   \n40          0.179334              2009.645        4.518715e+02      1001.0   \n45               NaN                   NaN                 NaN         NaN   \n47          0.050251            2015-03-11        2.239636e+03  1993-07-10   \n52               NaN                   NaN                 NaN         NaN   \n55          0.066838                   NaN                 NaN         NaN   \n59          0.000120                   NaN                 NaN         NaN   \n61               NaN                   NaN                 NaN         NaN   \n63          0.000000                   NaN                 NaN         NaN   \n69               NaN                   NaN                 NaN         NaN   \n76          0.001229   111736435724.665894        2.749244e+12  10509002.0   \n77          0.001229                   NaN                 NaN         NaN   \n78               NaN                   NaN                 NaN         NaN   \n79          0.000000                   NaN                 NaN         NaN   \n80          0.000000                   NaN                 NaN         NaN   \n81          0.000000                   NaN                 NaN         NaN   \n82          0.000000                   NaN                 NaN         NaN   \n83          0.000000                   NaN                 NaN         NaN   \n84          0.000000                   NaN                 NaN         NaN   \n85               NaN                   NaN                 NaN         NaN   \n88          0.800000                   NaN                 NaN         NaN   \n89          0.800000                   NaN                 NaN         NaN   \n90          0.700000                   NaN                 NaN         NaN   \n91          0.800000               30839.4        2.024364e+04      6002.0   \n92          0.900000                   NaN                 NaN         NaN   \n107              NaN                   NaN                 NaN         NaN   \n110         0.469423            2010-11-10        4.656151e+03  1931-11-28   \n115         0.018088    21575842046.976601        1.207066e+12  10509002.0   \n116         0.018088                   NaN                 NaN         NaN   \n117              NaN                   NaN                 NaN         NaN   \n122         0.001052                   NaN                 NaN         NaN   \n123              NaN                   NaN                 NaN         NaN   \n130              NaN                   NaN                 NaN         NaN   \n141              NaN                   NaN                 NaN         NaN   \n143         0.576403                   NaN                 NaN         NaN   \n153         0.000861   132030074658.733719        2.987959e+12  10509002.0   \n154         0.000861                   NaN                 NaN         NaN   \n155              NaN                   NaN                 NaN         NaN   \n169         0.001518  1248207351030.018311        1.202287e+13   6072007.0   \n170         0.001518                   NaN                 NaN         NaN   \n171              NaN                   NaN                 NaN         NaN   \n180         0.808758                   NaN                 NaN         NaN   \n\n            25%      Median          75%                Max  \n1    2011-10-29  2014-09-17   2017-06-15         2020-04-27  \n6           NaN         NaN          NaN                NaN  \n19          NaN         NaN          NaN                NaN  \n22   1988-09-20  2003-02-15   2014-02-26         2020-03-30  \n24          NaN         NaN          NaN                NaN  \n25          NaN         NaN          NaN                NaN  \n26          NaN         NaN          NaN                NaN  \n29          NaN         NaN          NaN                NaN  \n30          NaN         NaN          NaN                NaN  \n31          NaN         NaN          NaN                NaN  \n40       1832.0      2119.0       2190.0             2861.0  \n45          NaN         NaN          NaN                NaN  \n47   2014-02-15  2016-09-18   2018-09-08         2020-03-21  \n52          NaN         NaN          NaN                NaN  \n55          NaN         NaN          NaN                NaN  \n59          NaN         NaN          NaN                NaN  \n61          NaN         NaN          NaN                NaN  \n63          NaN         NaN          NaN                NaN  \n69          NaN         NaN          NaN                NaN  \n76   72892002.0  72892002.0   72892002.0   67811000119102.0  \n77          NaN         NaN          NaN                NaN  \n78          NaN         NaN          NaN                NaN  \n79          NaN         NaN          NaN                NaN  \n80          NaN         NaN          NaN                NaN  \n81          NaN         NaN          NaN                NaN  \n82          NaN         NaN          NaN                NaN  \n83          NaN         NaN          NaN                NaN  \n84          NaN         NaN          NaN                NaN  \n85          NaN         NaN          NaN                NaN  \n88          NaN         NaN          NaN                NaN  \n89          NaN         NaN          NaN                NaN  \n90          NaN         NaN          NaN                NaN  \n91      13700.0     21244.0      50820.0            60007.0  \n92          NaN         NaN          NaN                NaN  \n107         NaN         NaN          NaN                NaN  \n110  2011-06-05  2014-06-26   2017-05-26         2020-04-26  \n115  15777000.0  59621000.0   72892002.0   67811000119102.0  \n116         NaN         NaN          NaN                NaN  \n117         NaN         NaN          NaN                NaN  \n122         NaN         NaN          NaN                NaN  \n123         NaN         NaN          NaN                NaN  \n130         NaN         NaN          NaN                NaN  \n141         NaN         NaN          NaN                NaN  \n143         NaN         NaN          NaN                NaN  \n153  55822004.0  59621000.0  233678006.0   67811000119102.0  \n154         NaN         NaN          NaN                NaN  \n155         NaN         NaN          NaN                NaN  \n169  55822004.0  72892002.0  195967001.0  124171000119105.0  \n170         NaN         NaN          NaN                NaN  \n171         NaN         NaN          NaN                NaN  \n180         NaN         NaN          NaN                NaN  ",
      "text/html": "<div>\n<style scoped>\n    .dataframe tbody tr th:only-of-type {\n        vertical-align: middle;\n    }\n\n    .dataframe tbody tr th {\n        vertical-align: top;\n    }\n\n    .dataframe thead th {\n        text-align: right;\n    }\n</style>\n<table border=\"1\" class=\"dataframe\">\n  <thead>\n    <tr style=\"text-align: right;\">\n      <th></th>\n      <th>Table</th>\n      <th>Field</th>\n      <th>Description</th>\n      <th>Type</th>\n      <th>Max length</th>\n      <th>N rows</th>\n      <th>N rows checked</th>\n      <th>Fraction empty</th>\n      <th>N unique values</th>\n      <th>Fraction unique</th>\n      <th>Average</th>\n      <th>Standard Deviation</th>\n      <th>Min</th>\n      <th>25%</th>\n      <th>Median</th>\n      <th>75%</th>\n      <th>Max</th>\n    </tr>\n  </thead>\n  <tbody>\n    <tr>\n      <th>1</th>\n      <td>conditions.csv</td>\n      <td>STOP</td>\n      <td>NaN</td>\n      <td>DATE</td>\n      <td>10.0</td>\n      <td>-1.0</td>\n      <td>8376.0</td>\n      <td>0.454990</td>\n      <td>2924.0</td>\n      <td>0.349093</td>\n      <td>2012-03-13</td>\n      <td>3.839641e+03</td>\n      <td>1917-09-06</td>\n      <td>2011-10-29</td>\n      <td>2014-09-17</td>\n      <td>2017-06-15</td>\n      <td>2020-04-27</td>\n    </tr>\n    <tr>\n      <th>6</th>\n      <td>NaN</td>\n      <td>NaN</td>\n      <td>NaN</td>\n      <td>NaN</td>\n      <td>NaN</td>\n      <td>NaN</td>\n      <td>NaN</td>\n      <td>NaN</td>\n      <td>NaN</td>\n      <td>NaN</td>\n      <td>NaN</td>\n      <td>NaN</td>\n      <td>NaN</td>\n      <td>NaN</td>\n      <td>NaN</td>\n      <td>NaN</td>\n      <td>NaN</td>\n    </tr>\n    <tr>\n      <th>19</th>\n      <td>NaN</td>\n      <td>NaN</td>\n      <td>NaN</td>\n      <td>NaN</td>\n      <td>NaN</td>\n      <td>NaN</td>\n      <td>NaN</td>\n      <td>NaN</td>\n      <td>NaN</td>\n      <td>NaN</td>\n      <td>NaN</td>\n      <td>NaN</td>\n      <td>NaN</td>\n      <td>NaN</td>\n      <td>NaN</td>\n      <td>NaN</td>\n      <td>NaN</td>\n    </tr>\n    <tr>\n      <th>22</th>\n      <td>patients.csv</td>\n      <td>DEATHDATE</td>\n      <td>NaN</td>\n      <td>DATE</td>\n      <td>10.0</td>\n      <td>-1.0</td>\n      <td>1171.0</td>\n      <td>0.853971</td>\n      <td>172.0</td>\n      <td>0.146883</td>\n      <td>1999-04-23</td>\n      <td>6.309625e+03</td>\n      <td>1926-03-05</td>\n      <td>1988-09-20</td>\n      <td>2003-02-15</td>\n      <td>2014-02-26</td>\n      <td>2020-03-30</td>\n    </tr>\n    <tr>\n      <th>24</th>\n      <td>patients.csv</td>\n      <td>DRIVERS</td>\n      <td>NaN</td>\n      <td>VARCHAR</td>\n      <td>9.0</td>\n      <td>-1.0</td>\n      <td>1171.0</td>\n      <td>0.181896</td>\n      <td>953.0</td>\n      <td>0.813834</td>\n      <td>NaN</td>\n      <td>NaN</td>\n      <td>NaN</td>\n      <td>NaN</td>\n      <td>NaN</td>\n      <td>NaN</td>\n      <td>NaN</td>\n    </tr>\n    <tr>\n      <th>25</th>\n      <td>patients.csv</td>\n      <td>PASSPORT</td>\n      <td>NaN</td>\n      <td>VARCHAR</td>\n      <td>10.0</td>\n      <td>-1.0</td>\n      <td>1171.0</td>\n      <td>0.233134</td>\n      <td>899.0</td>\n      <td>0.767720</td>\n      <td>NaN</td>\n      <td>NaN</td>\n      <td>NaN</td>\n      <td>NaN</td>\n      <td>NaN</td>\n      <td>NaN</td>\n      <td>NaN</td>\n    </tr>\n    <tr>\n      <th>26</th>\n      <td>patients.csv</td>\n      <td>PREFIX</td>\n      <td>NaN</td>\n      <td>VARCHAR</td>\n      <td>4.0</td>\n      <td>-1.0</td>\n      <td>1171.0</td>\n      <td>0.208369</td>\n      <td>4.0</td>\n      <td>0.003416</td>\n      <td>NaN</td>\n      <td>NaN</td>\n      <td>NaN</td>\n      <td>NaN</td>\n      <td>NaN</td>\n      <td>NaN</td>\n      <td>NaN</td>\n    </tr>\n    <tr>\n      <th>29</th>\n      <td>patients.csv</td>\n      <td>SUFFIX</td>\n      <td>NaN</td>\n      <td>VARCHAR</td>\n      <td>3.0</td>\n      <td>-1.0</td>\n      <td>1171.0</td>\n      <td>0.989752</td>\n      <td>4.0</td>\n      <td>0.003416</td>\n      <td>NaN</td>\n      <td>NaN</td>\n      <td>NaN</td>\n      <td>NaN</td>\n      <td>NaN</td>\n      <td>NaN</td>\n      <td>NaN</td>\n    </tr>\n    <tr>\n      <th>30</th>\n      <td>patients.csv</td>\n      <td>MAIDEN</td>\n      <td>NaN</td>\n      <td>VARCHAR</td>\n      <td>16.0</td>\n      <td>-1.0</td>\n      <td>1171.0</td>\n      <td>0.717336</td>\n      <td>261.0</td>\n      <td>0.222886</td>\n      <td>NaN</td>\n      <td>NaN</td>\n      <td>NaN</td>\n      <td>NaN</td>\n      <td>NaN</td>\n      <td>NaN</td>\n      <td>NaN</td>\n    </tr>\n    <tr>\n      <th>31</th>\n      <td>patients.csv</td>\n      <td>MARITAL</td>\n      <td>NaN</td>\n      <td>VARCHAR</td>\n      <td>1.0</td>\n      <td>-1.0</td>\n      <td>1171.0</td>\n      <td>0.324509</td>\n      <td>3.0</td>\n      <td>0.002562</td>\n      <td>NaN</td>\n      <td>NaN</td>\n      <td>NaN</td>\n      <td>NaN</td>\n      <td>NaN</td>\n      <td>NaN</td>\n      <td>NaN</td>\n    </tr>\n    <tr>\n      <th>40</th>\n      <td>patients.csv</td>\n      <td>ZIP</td>\n      <td>NaN</td>\n      <td>INT</td>\n      <td>5.0</td>\n      <td>-1.0</td>\n      <td>1171.0</td>\n      <td>0.463706</td>\n      <td>210.0</td>\n      <td>0.179334</td>\n      <td>2009.645</td>\n      <td>4.518715e+02</td>\n      <td>1001.0</td>\n      <td>1832.0</td>\n      <td>2119.0</td>\n      <td>2190.0</td>\n      <td>2861.0</td>\n    </tr>\n    <tr>\n      <th>45</th>\n      <td>NaN</td>\n      <td>NaN</td>\n      <td>NaN</td>\n      <td>NaN</td>\n      <td>NaN</td>\n      <td>NaN</td>\n      <td>NaN</td>\n      <td>NaN</td>\n      <td>NaN</td>\n      <td>NaN</td>\n      <td>NaN</td>\n      <td>NaN</td>\n      <td>NaN</td>\n      <td>NaN</td>\n      <td>NaN</td>\n      <td>NaN</td>\n      <td>NaN</td>\n    </tr>\n    <tr>\n      <th>47</th>\n      <td>allergies.csv</td>\n      <td>STOP</td>\n      <td>NaN</td>\n      <td>DATE</td>\n      <td>10.0</td>\n      <td>-1.0</td>\n      <td>597.0</td>\n      <td>0.892797</td>\n      <td>30.0</td>\n      <td>0.050251</td>\n      <td>2015-03-11</td>\n      <td>2.239636e+03</td>\n      <td>1993-07-10</td>\n      <td>2014-02-15</td>\n      <td>2016-09-18</td>\n      <td>2018-09-08</td>\n      <td>2020-03-21</td>\n    </tr>\n    <tr>\n      <th>52</th>\n      <td>NaN</td>\n      <td>NaN</td>\n      <td>NaN</td>\n      <td>NaN</td>\n      <td>NaN</td>\n      <td>NaN</td>\n      <td>NaN</td>\n      <td>NaN</td>\n      <td>NaN</td>\n      <td>NaN</td>\n      <td>NaN</td>\n      <td>NaN</td>\n      <td>NaN</td>\n      <td>NaN</td>\n      <td>NaN</td>\n      <td>NaN</td>\n      <td>NaN</td>\n    </tr>\n    <tr>\n      <th>55</th>\n      <td>observations.csv</td>\n      <td>ENCOUNTER</td>\n      <td>NaN</td>\n      <td>VARCHAR</td>\n      <td>36.0</td>\n      <td>-1.0</td>\n      <td>299697.0</td>\n      <td>0.101312</td>\n      <td>20031.0</td>\n      <td>0.066838</td>\n      <td>NaN</td>\n      <td>NaN</td>\n      <td>NaN</td>\n      <td>NaN</td>\n      <td>NaN</td>\n      <td>NaN</td>\n      <td>NaN</td>\n    </tr>\n    <tr>\n      <th>59</th>\n      <td>observations.csv</td>\n      <td>UNITS</td>\n      <td>NaN</td>\n      <td>VARCHAR</td>\n      <td>16.0</td>\n      <td>-1.0</td>\n      <td>299697.0</td>\n      <td>0.042440</td>\n      <td>36.0</td>\n      <td>0.000120</td>\n      <td>NaN</td>\n      <td>NaN</td>\n      <td>NaN</td>\n      <td>NaN</td>\n      <td>NaN</td>\n      <td>NaN</td>\n      <td>NaN</td>\n    </tr>\n    <tr>\n      <th>61</th>\n      <td>NaN</td>\n      <td>NaN</td>\n      <td>NaN</td>\n      <td>NaN</td>\n      <td>NaN</td>\n      <td>NaN</td>\n      <td>NaN</td>\n      <td>NaN</td>\n      <td>NaN</td>\n      <td>NaN</td>\n      <td>NaN</td>\n      <td>NaN</td>\n      <td>NaN</td>\n      <td>NaN</td>\n      <td>NaN</td>\n      <td>NaN</td>\n      <td>NaN</td>\n    </tr>\n    <tr>\n      <th>63</th>\n      <td>devices.csv</td>\n      <td>STOP</td>\n      <td>NaN</td>\n      <td>EMPTY</td>\n      <td>0.0</td>\n      <td>-1.0</td>\n      <td>78.0</td>\n      <td>1.000000</td>\n      <td>1.0</td>\n      <td>0.000000</td>\n      <td>NaN</td>\n      <td>NaN</td>\n      <td>NaN</td>\n      <td>NaN</td>\n      <td>NaN</td>\n      <td>NaN</td>\n      <td>NaN</td>\n    </tr>\n    <tr>\n      <th>69</th>\n      <td>NaN</td>\n      <td>NaN</td>\n      <td>NaN</td>\n      <td>NaN</td>\n      <td>NaN</td>\n      <td>NaN</td>\n      <td>NaN</td>\n      <td>NaN</td>\n      <td>NaN</td>\n      <td>NaN</td>\n      <td>NaN</td>\n      <td>NaN</td>\n      <td>NaN</td>\n      <td>NaN</td>\n      <td>NaN</td>\n      <td>NaN</td>\n      <td>NaN</td>\n    </tr>\n    <tr>\n      <th>76</th>\n      <td>procedures.csv</td>\n      <td>REASONCODE</td>\n      <td>NaN</td>\n      <td>INT</td>\n      <td>14.0</td>\n      <td>-1.0</td>\n      <td>34981.0</td>\n      <td>0.444356</td>\n      <td>43.0</td>\n      <td>0.001229</td>\n      <td>111736435724.665894</td>\n      <td>2.749244e+12</td>\n      <td>10509002.0</td>\n      <td>72892002.0</td>\n      <td>72892002.0</td>\n      <td>72892002.0</td>\n      <td>67811000119102.0</td>\n    </tr>\n    <tr>\n      <th>77</th>\n      <td>procedures.csv</td>\n      <td>REASONDESCRIPTION</td>\n      <td>NaN</td>\n      <td>VARCHAR</td>\n      <td>69.0</td>\n      <td>-1.0</td>\n      <td>34981.0</td>\n      <td>0.444356</td>\n      <td>43.0</td>\n      <td>0.001229</td>\n      <td>NaN</td>\n      <td>NaN</td>\n      <td>NaN</td>\n      <td>NaN</td>\n      <td>NaN</td>\n      <td>NaN</td>\n      <td>NaN</td>\n    </tr>\n    <tr>\n      <th>78</th>\n      <td>NaN</td>\n      <td>NaN</td>\n      <td>NaN</td>\n      <td>NaN</td>\n      <td>NaN</td>\n      <td>NaN</td>\n      <td>NaN</td>\n      <td>NaN</td>\n      <td>NaN</td>\n      <td>NaN</td>\n      <td>NaN</td>\n      <td>NaN</td>\n      <td>NaN</td>\n      <td>NaN</td>\n      <td>NaN</td>\n      <td>NaN</td>\n      <td>NaN</td>\n    </tr>\n    <tr>\n      <th>79</th>\n      <td>supplies.csv</td>\n      <td>DATE</td>\n      <td>NaN</td>\n      <td>EMPTY</td>\n      <td>0.0</td>\n      <td>-1.0</td>\n      <td>0.0</td>\n      <td>1.000000</td>\n      <td>0.0</td>\n      <td>0.000000</td>\n      <td>NaN</td>\n      <td>NaN</td>\n      <td>NaN</td>\n      <td>NaN</td>\n      <td>NaN</td>\n      <td>NaN</td>\n      <td>NaN</td>\n    </tr>\n    <tr>\n      <th>80</th>\n      <td>supplies.csv</td>\n      <td>PATIENT</td>\n      <td>NaN</td>\n      <td>EMPTY</td>\n      <td>0.0</td>\n      <td>-1.0</td>\n      <td>0.0</td>\n      <td>1.000000</td>\n      <td>0.0</td>\n      <td>0.000000</td>\n      <td>NaN</td>\n      <td>NaN</td>\n      <td>NaN</td>\n      <td>NaN</td>\n      <td>NaN</td>\n      <td>NaN</td>\n      <td>NaN</td>\n    </tr>\n    <tr>\n      <th>81</th>\n      <td>supplies.csv</td>\n      <td>ENCOUNTER</td>\n      <td>NaN</td>\n      <td>EMPTY</td>\n      <td>0.0</td>\n      <td>-1.0</td>\n      <td>0.0</td>\n      <td>1.000000</td>\n      <td>0.0</td>\n      <td>0.000000</td>\n      <td>NaN</td>\n      <td>NaN</td>\n      <td>NaN</td>\n      <td>NaN</td>\n      <td>NaN</td>\n      <td>NaN</td>\n      <td>NaN</td>\n    </tr>\n    <tr>\n      <th>82</th>\n      <td>supplies.csv</td>\n      <td>CODE</td>\n      <td>NaN</td>\n      <td>EMPTY</td>\n      <td>0.0</td>\n      <td>-1.0</td>\n      <td>0.0</td>\n      <td>1.000000</td>\n      <td>0.0</td>\n      <td>0.000000</td>\n      <td>NaN</td>\n      <td>NaN</td>\n      <td>NaN</td>\n      <td>NaN</td>\n      <td>NaN</td>\n      <td>NaN</td>\n      <td>NaN</td>\n    </tr>\n    <tr>\n      <th>83</th>\n      <td>supplies.csv</td>\n      <td>DESCRIPTION</td>\n      <td>NaN</td>\n      <td>EMPTY</td>\n      <td>0.0</td>\n      <td>-1.0</td>\n      <td>0.0</td>\n      <td>1.000000</td>\n      <td>0.0</td>\n      <td>0.000000</td>\n      <td>NaN</td>\n      <td>NaN</td>\n      <td>NaN</td>\n      <td>NaN</td>\n      <td>NaN</td>\n      <td>NaN</td>\n      <td>NaN</td>\n    </tr>\n    <tr>\n      <th>84</th>\n      <td>supplies.csv</td>\n      <td>QUANTITY</td>\n      <td>NaN</td>\n      <td>EMPTY</td>\n      <td>0.0</td>\n      <td>-1.0</td>\n      <td>0.0</td>\n      <td>1.000000</td>\n      <td>0.0</td>\n      <td>0.000000</td>\n      <td>NaN</td>\n      <td>NaN</td>\n      <td>NaN</td>\n      <td>NaN</td>\n      <td>NaN</td>\n      <td>NaN</td>\n      <td>NaN</td>\n    </tr>\n    <tr>\n      <th>85</th>\n      <td>NaN</td>\n      <td>NaN</td>\n      <td>NaN</td>\n      <td>NaN</td>\n      <td>NaN</td>\n      <td>NaN</td>\n      <td>NaN</td>\n      <td>NaN</td>\n      <td>NaN</td>\n      <td>NaN</td>\n      <td>NaN</td>\n      <td>NaN</td>\n      <td>NaN</td>\n      <td>NaN</td>\n      <td>NaN</td>\n      <td>NaN</td>\n      <td>NaN</td>\n    </tr>\n    <tr>\n      <th>88</th>\n      <td>payers.csv</td>\n      <td>ADDRESS</td>\n      <td>NaN</td>\n      <td>VARCHAR</td>\n      <td>20.0</td>\n      <td>-1.0</td>\n      <td>10.0</td>\n      <td>0.100000</td>\n      <td>8.0</td>\n      <td>0.800000</td>\n      <td>NaN</td>\n      <td>NaN</td>\n      <td>NaN</td>\n      <td>NaN</td>\n      <td>NaN</td>\n      <td>NaN</td>\n      <td>NaN</td>\n    </tr>\n    <tr>\n      <th>89</th>\n      <td>payers.csv</td>\n      <td>CITY</td>\n      <td>NaN</td>\n      <td>VARCHAR</td>\n      <td>12.0</td>\n      <td>-1.0</td>\n      <td>10.0</td>\n      <td>0.100000</td>\n      <td>8.0</td>\n      <td>0.800000</td>\n      <td>NaN</td>\n      <td>NaN</td>\n      <td>NaN</td>\n      <td>NaN</td>\n      <td>NaN</td>\n      <td>NaN</td>\n      <td>NaN</td>\n    </tr>\n    <tr>\n      <th>90</th>\n      <td>payers.csv</td>\n      <td>STATE_HEADQUARTERED</td>\n      <td>NaN</td>\n      <td>VARCHAR</td>\n      <td>2.0</td>\n      <td>-1.0</td>\n      <td>10.0</td>\n      <td>0.100000</td>\n      <td>7.0</td>\n      <td>0.700000</td>\n      <td>NaN</td>\n      <td>NaN</td>\n      <td>NaN</td>\n      <td>NaN</td>\n      <td>NaN</td>\n      <td>NaN</td>\n      <td>NaN</td>\n    </tr>\n    <tr>\n      <th>91</th>\n      <td>payers.csv</td>\n      <td>ZIP</td>\n      <td>NaN</td>\n      <td>INT</td>\n      <td>5.0</td>\n      <td>-1.0</td>\n      <td>10.0</td>\n      <td>0.100000</td>\n      <td>8.0</td>\n      <td>0.800000</td>\n      <td>30839.4</td>\n      <td>2.024364e+04</td>\n      <td>6002.0</td>\n      <td>13700.0</td>\n      <td>21244.0</td>\n      <td>50820.0</td>\n      <td>60007.0</td>\n    </tr>\n    <tr>\n      <th>92</th>\n      <td>payers.csv</td>\n      <td>PHONE</td>\n      <td>NaN</td>\n      <td>VARCHAR</td>\n      <td>14.0</td>\n      <td>-1.0</td>\n      <td>10.0</td>\n      <td>0.100000</td>\n      <td>9.0</td>\n      <td>0.900000</td>\n      <td>NaN</td>\n      <td>NaN</td>\n      <td>NaN</td>\n      <td>NaN</td>\n      <td>NaN</td>\n      <td>NaN</td>\n      <td>NaN</td>\n    </tr>\n    <tr>\n      <th>107</th>\n      <td>NaN</td>\n      <td>NaN</td>\n      <td>NaN</td>\n      <td>NaN</td>\n      <td>NaN</td>\n      <td>NaN</td>\n      <td>NaN</td>\n      <td>NaN</td>\n      <td>NaN</td>\n      <td>NaN</td>\n      <td>NaN</td>\n      <td>NaN</td>\n      <td>NaN</td>\n      <td>NaN</td>\n      <td>NaN</td>\n      <td>NaN</td>\n      <td>NaN</td>\n    </tr>\n    <tr>\n      <th>110</th>\n      <td>careplans.csv</td>\n      <td>STOP</td>\n      <td>NaN</td>\n      <td>DATE</td>\n      <td>10.0</td>\n      <td>-1.0</td>\n      <td>3483.0</td>\n      <td>0.439851</td>\n      <td>1635.0</td>\n      <td>0.469423</td>\n      <td>2010-11-10</td>\n      <td>4.656151e+03</td>\n      <td>1931-11-28</td>\n      <td>2011-06-05</td>\n      <td>2014-06-26</td>\n      <td>2017-05-26</td>\n      <td>2020-04-26</td>\n    </tr>\n    <tr>\n      <th>115</th>\n      <td>careplans.csv</td>\n      <td>REASONCODE</td>\n      <td>NaN</td>\n      <td>INT</td>\n      <td>14.0</td>\n      <td>-1.0</td>\n      <td>3483.0</td>\n      <td>0.093885</td>\n      <td>63.0</td>\n      <td>0.018088</td>\n      <td>21575842046.976601</td>\n      <td>1.207066e+12</td>\n      <td>10509002.0</td>\n      <td>15777000.0</td>\n      <td>59621000.0</td>\n      <td>72892002.0</td>\n      <td>67811000119102.0</td>\n    </tr>\n    <tr>\n      <th>116</th>\n      <td>careplans.csv</td>\n      <td>REASONDESCRIPTION</td>\n      <td>NaN</td>\n      <td>VARCHAR</td>\n      <td>69.0</td>\n      <td>-1.0</td>\n      <td>3483.0</td>\n      <td>0.093885</td>\n      <td>63.0</td>\n      <td>0.018088</td>\n      <td>NaN</td>\n      <td>NaN</td>\n      <td>NaN</td>\n      <td>NaN</td>\n      <td>NaN</td>\n      <td>NaN</td>\n      <td>NaN</td>\n    </tr>\n    <tr>\n      <th>117</th>\n      <td>NaN</td>\n      <td>NaN</td>\n      <td>NaN</td>\n      <td>NaN</td>\n      <td>NaN</td>\n      <td>NaN</td>\n      <td>NaN</td>\n      <td>NaN</td>\n      <td>NaN</td>\n      <td>NaN</td>\n      <td>NaN</td>\n      <td>NaN</td>\n      <td>NaN</td>\n      <td>NaN</td>\n      <td>NaN</td>\n      <td>NaN</td>\n      <td>NaN</td>\n    </tr>\n    <tr>\n      <th>122</th>\n      <td>payer_transitions.csv</td>\n      <td>OWNERSHIP</td>\n      <td>NaN</td>\n      <td>VARCHAR</td>\n      <td>8.0</td>\n      <td>-1.0</td>\n      <td>3801.0</td>\n      <td>0.062089</td>\n      <td>4.0</td>\n      <td>0.001052</td>\n      <td>NaN</td>\n      <td>NaN</td>\n      <td>NaN</td>\n      <td>NaN</td>\n      <td>NaN</td>\n      <td>NaN</td>\n      <td>NaN</td>\n    </tr>\n    <tr>\n      <th>123</th>\n      <td>NaN</td>\n      <td>NaN</td>\n      <td>NaN</td>\n      <td>NaN</td>\n      <td>NaN</td>\n      <td>NaN</td>\n      <td>NaN</td>\n      <td>NaN</td>\n      <td>NaN</td>\n      <td>NaN</td>\n      <td>NaN</td>\n      <td>NaN</td>\n      <td>NaN</td>\n      <td>NaN</td>\n      <td>NaN</td>\n      <td>NaN</td>\n      <td>NaN</td>\n    </tr>\n    <tr>\n      <th>130</th>\n      <td>NaN</td>\n      <td>NaN</td>\n      <td>NaN</td>\n      <td>NaN</td>\n      <td>NaN</td>\n      <td>NaN</td>\n      <td>NaN</td>\n      <td>NaN</td>\n      <td>NaN</td>\n      <td>NaN</td>\n      <td>NaN</td>\n      <td>NaN</td>\n      <td>NaN</td>\n      <td>NaN</td>\n      <td>NaN</td>\n      <td>NaN</td>\n      <td>NaN</td>\n    </tr>\n    <tr>\n      <th>141</th>\n      <td>NaN</td>\n      <td>NaN</td>\n      <td>NaN</td>\n      <td>NaN</td>\n      <td>NaN</td>\n      <td>NaN</td>\n      <td>NaN</td>\n      <td>NaN</td>\n      <td>NaN</td>\n      <td>NaN</td>\n      <td>NaN</td>\n      <td>NaN</td>\n      <td>NaN</td>\n      <td>NaN</td>\n      <td>NaN</td>\n      <td>NaN</td>\n      <td>NaN</td>\n    </tr>\n    <tr>\n      <th>143</th>\n      <td>medications.csv</td>\n      <td>STOP</td>\n      <td>NaN</td>\n      <td>VARCHAR</td>\n      <td>20.0</td>\n      <td>-1.0</td>\n      <td>42989.0</td>\n      <td>0.044081</td>\n      <td>24779.0</td>\n      <td>0.576403</td>\n      <td>NaN</td>\n      <td>NaN</td>\n      <td>NaN</td>\n      <td>NaN</td>\n      <td>NaN</td>\n      <td>NaN</td>\n      <td>NaN</td>\n    </tr>\n    <tr>\n      <th>153</th>\n      <td>medications.csv</td>\n      <td>REASONCODE</td>\n      <td>NaN</td>\n      <td>INT</td>\n      <td>14.0</td>\n      <td>-1.0</td>\n      <td>42989.0</td>\n      <td>0.258601</td>\n      <td>37.0</td>\n      <td>0.000861</td>\n      <td>132030074658.733719</td>\n      <td>2.987959e+12</td>\n      <td>10509002.0</td>\n      <td>55822004.0</td>\n      <td>59621000.0</td>\n      <td>233678006.0</td>\n      <td>67811000119102.0</td>\n    </tr>\n    <tr>\n      <th>154</th>\n      <td>medications.csv</td>\n      <td>REASONDESCRIPTION</td>\n      <td>NaN</td>\n      <td>VARCHAR</td>\n      <td>69.0</td>\n      <td>-1.0</td>\n      <td>42989.0</td>\n      <td>0.258601</td>\n      <td>37.0</td>\n      <td>0.000861</td>\n      <td>NaN</td>\n      <td>NaN</td>\n      <td>NaN</td>\n      <td>NaN</td>\n      <td>NaN</td>\n      <td>NaN</td>\n      <td>NaN</td>\n    </tr>\n    <tr>\n      <th>155</th>\n      <td>NaN</td>\n      <td>NaN</td>\n      <td>NaN</td>\n      <td>NaN</td>\n      <td>NaN</td>\n      <td>NaN</td>\n      <td>NaN</td>\n      <td>NaN</td>\n      <td>NaN</td>\n      <td>NaN</td>\n      <td>NaN</td>\n      <td>NaN</td>\n      <td>NaN</td>\n      <td>NaN</td>\n      <td>NaN</td>\n      <td>NaN</td>\n      <td>NaN</td>\n    </tr>\n    <tr>\n      <th>169</th>\n      <td>encounters.csv</td>\n      <td>REASONCODE</td>\n      <td>NaN</td>\n      <td>INT</td>\n      <td>15.0</td>\n      <td>-1.0</td>\n      <td>53346.0</td>\n      <td>0.741743</td>\n      <td>81.0</td>\n      <td>0.001518</td>\n      <td>1248207351030.018311</td>\n      <td>1.202287e+13</td>\n      <td>6072007.0</td>\n      <td>55822004.0</td>\n      <td>72892002.0</td>\n      <td>195967001.0</td>\n      <td>124171000119105.0</td>\n    </tr>\n    <tr>\n      <th>170</th>\n      <td>encounters.csv</td>\n      <td>REASONDESCRIPTION</td>\n      <td>NaN</td>\n      <td>VARCHAR</td>\n      <td>69.0</td>\n      <td>-1.0</td>\n      <td>53346.0</td>\n      <td>0.741743</td>\n      <td>81.0</td>\n      <td>0.001518</td>\n      <td>NaN</td>\n      <td>NaN</td>\n      <td>NaN</td>\n      <td>NaN</td>\n      <td>NaN</td>\n      <td>NaN</td>\n      <td>NaN</td>\n    </tr>\n    <tr>\n      <th>171</th>\n      <td>NaN</td>\n      <td>NaN</td>\n      <td>NaN</td>\n      <td>NaN</td>\n      <td>NaN</td>\n      <td>NaN</td>\n      <td>NaN</td>\n      <td>NaN</td>\n      <td>NaN</td>\n      <td>NaN</td>\n      <td>NaN</td>\n      <td>NaN</td>\n      <td>NaN</td>\n      <td>NaN</td>\n      <td>NaN</td>\n      <td>NaN</td>\n      <td>NaN</td>\n    </tr>\n    <tr>\n      <th>180</th>\n      <td>organizations.csv</td>\n      <td>PHONE</td>\n      <td>NaN</td>\n      <td>VARCHAR</td>\n      <td>28.0</td>\n      <td>-1.0</td>\n      <td>1119.0</td>\n      <td>0.164433</td>\n      <td>905.0</td>\n      <td>0.808758</td>\n      <td>NaN</td>\n      <td>NaN</td>\n      <td>NaN</td>\n      <td>NaN</td>\n      <td>NaN</td>\n      <td>NaN</td>\n      <td>NaN</td>\n    </tr>\n  </tbody>\n</table>\n</div>"
     },
     "execution_count": 33,
     "metadata": {},
     "output_type": "execute_result"
    }
   ],
   "source": [
    "scan_report.parse(\"Field Overview\")[scan_report.parse(\"Field Overview\")[\"Fraction empty\"] != 0]"
   ],
   "metadata": {
    "collapsed": false,
    "pycharm": {
     "name": "#%%\n"
    }
   }
  },
  {
   "cell_type": "markdown",
   "source": [
    "#### Table Overview"
   ],
   "metadata": {
    "collapsed": false,
    "pycharm": {
     "name": "#%% md\n"
    }
   }
  },
  {
   "cell_type": "code",
   "execution_count": 4,
   "outputs": [
    {
     "data": {
      "text/plain": "              Table  Description  N rows  N rows checked  N Fields  \\\n0    conditions.csv          NaN    -1.0          8376.0       6.0   \n1     providers.csv          NaN    -1.0          5855.0      12.0   \n2      patients.csv          NaN    -1.0          1171.0      25.0   \n3     allergies.csv          NaN    -1.0           597.0       6.0   \n4  observations.csv          NaN    -1.0        299697.0       8.0   \n\n   N Fields Empty  \n0             0.0  \n1             0.0  \n2             0.0  \n3             0.0  \n4             0.0  ",
      "text/html": "<div>\n<style scoped>\n    .dataframe tbody tr th:only-of-type {\n        vertical-align: middle;\n    }\n\n    .dataframe tbody tr th {\n        vertical-align: top;\n    }\n\n    .dataframe thead th {\n        text-align: right;\n    }\n</style>\n<table border=\"1\" class=\"dataframe\">\n  <thead>\n    <tr style=\"text-align: right;\">\n      <th></th>\n      <th>Table</th>\n      <th>Description</th>\n      <th>N rows</th>\n      <th>N rows checked</th>\n      <th>N Fields</th>\n      <th>N Fields Empty</th>\n    </tr>\n  </thead>\n  <tbody>\n    <tr>\n      <th>0</th>\n      <td>conditions.csv</td>\n      <td>NaN</td>\n      <td>-1.0</td>\n      <td>8376.0</td>\n      <td>6.0</td>\n      <td>0.0</td>\n    </tr>\n    <tr>\n      <th>1</th>\n      <td>providers.csv</td>\n      <td>NaN</td>\n      <td>-1.0</td>\n      <td>5855.0</td>\n      <td>12.0</td>\n      <td>0.0</td>\n    </tr>\n    <tr>\n      <th>2</th>\n      <td>patients.csv</td>\n      <td>NaN</td>\n      <td>-1.0</td>\n      <td>1171.0</td>\n      <td>25.0</td>\n      <td>0.0</td>\n    </tr>\n    <tr>\n      <th>3</th>\n      <td>allergies.csv</td>\n      <td>NaN</td>\n      <td>-1.0</td>\n      <td>597.0</td>\n      <td>6.0</td>\n      <td>0.0</td>\n    </tr>\n    <tr>\n      <th>4</th>\n      <td>observations.csv</td>\n      <td>NaN</td>\n      <td>-1.0</td>\n      <td>299697.0</td>\n      <td>8.0</td>\n      <td>0.0</td>\n    </tr>\n  </tbody>\n</table>\n</div>"
     },
     "execution_count": 4,
     "metadata": {},
     "output_type": "execute_result"
    }
   ],
   "source": [
    "scan_report.parse('Table Overview').head(5)"
   ],
   "metadata": {
    "collapsed": false,
    "pycharm": {
     "name": "#%%\n"
    }
   }
  },
  {
   "cell_type": "markdown",
   "source": [
    "On voit ici pour chaque table le nombre de lignes lues, le nombre de champs existants, et de champs vides.\n",
    "\n",
    "On remarque déjà qu'une feuille est totalement vide (supplies.csv), nous n'avons donc pas à la traiter pour intégrer ces données. Une autre feuille, devices, contient un champ vide. Il faut vérifier si le champ est un champ obligatoire d'une table OMOP, afin d'éviter toute erreur."
   ],
   "metadata": {
    "collapsed": false,
    "pycharm": {
     "name": "#%% md\n"
    }
   }
  },
  {
   "cell_type": "code",
   "execution_count": 5,
   "outputs": [
    {
     "data": {
      "text/plain": "          Table  Description  N rows  N rows checked  N Fields  N Fields Empty\n5   devices.csv          NaN    -1.0            78.0       7.0             1.0\n7  supplies.csv          NaN    -1.0             0.0       6.0             6.0",
      "text/html": "<div>\n<style scoped>\n    .dataframe tbody tr th:only-of-type {\n        vertical-align: middle;\n    }\n\n    .dataframe tbody tr th {\n        vertical-align: top;\n    }\n\n    .dataframe thead th {\n        text-align: right;\n    }\n</style>\n<table border=\"1\" class=\"dataframe\">\n  <thead>\n    <tr style=\"text-align: right;\">\n      <th></th>\n      <th>Table</th>\n      <th>Description</th>\n      <th>N rows</th>\n      <th>N rows checked</th>\n      <th>N Fields</th>\n      <th>N Fields Empty</th>\n    </tr>\n  </thead>\n  <tbody>\n    <tr>\n      <th>5</th>\n      <td>devices.csv</td>\n      <td>NaN</td>\n      <td>-1.0</td>\n      <td>78.0</td>\n      <td>7.0</td>\n      <td>1.0</td>\n    </tr>\n    <tr>\n      <th>7</th>\n      <td>supplies.csv</td>\n      <td>NaN</td>\n      <td>-1.0</td>\n      <td>0.0</td>\n      <td>6.0</td>\n      <td>6.0</td>\n    </tr>\n  </tbody>\n</table>\n</div>"
     },
     "execution_count": 5,
     "metadata": {},
     "output_type": "execute_result"
    }
   ],
   "source": [
    "scan_report.parse('Table Overview')[scan_report.parse('Table Overview')[\"N Fields Empty\"] != 0]"
   ],
   "metadata": {
    "collapsed": false,
    "pycharm": {
     "name": "#%%\n"
    }
   }
  },
  {
   "cell_type": "code",
   "execution_count": 6,
   "outputs": [
    {
     "data": {
      "text/plain": "                    Table  Description  N rows  N rows checked  N Fields  \\\n4        observations.csv          NaN    -1.0        299697.0       8.0   \n14         encounters.csv          NaN    -1.0         53346.0      15.0   \n13        medications.csv          NaN    -1.0         42989.0      13.0   \n6          procedures.csv          NaN    -1.0         34981.0       8.0   \n11      immunizations.csv          NaN    -1.0         15478.0       6.0   \n0          conditions.csv          NaN    -1.0          8376.0       6.0   \n1           providers.csv          NaN    -1.0          5855.0      12.0   \n10  payer_transitions.csv          NaN    -1.0          3801.0       5.0   \n9           careplans.csv          NaN    -1.0          3483.0       9.0   \n2            patients.csv          NaN    -1.0          1171.0      25.0   \n15      organizations.csv          NaN    -1.0          1119.0      11.0   \n12    imaging_studies.csv          NaN    -1.0           855.0      10.0   \n3           allergies.csv          NaN    -1.0           597.0       6.0   \n5             devices.csv          NaN    -1.0            78.0       7.0   \n8              payers.csv          NaN    -1.0            10.0      21.0   \n7            supplies.csv          NaN    -1.0             0.0       6.0   \n\n    N Fields Empty  \n4              0.0  \n14             0.0  \n13             0.0  \n6              0.0  \n11             0.0  \n0              0.0  \n1              0.0  \n10             0.0  \n9              0.0  \n2              0.0  \n15             0.0  \n12             0.0  \n3              0.0  \n5              1.0  \n8              0.0  \n7              6.0  ",
      "text/html": "<div>\n<style scoped>\n    .dataframe tbody tr th:only-of-type {\n        vertical-align: middle;\n    }\n\n    .dataframe tbody tr th {\n        vertical-align: top;\n    }\n\n    .dataframe thead th {\n        text-align: right;\n    }\n</style>\n<table border=\"1\" class=\"dataframe\">\n  <thead>\n    <tr style=\"text-align: right;\">\n      <th></th>\n      <th>Table</th>\n      <th>Description</th>\n      <th>N rows</th>\n      <th>N rows checked</th>\n      <th>N Fields</th>\n      <th>N Fields Empty</th>\n    </tr>\n  </thead>\n  <tbody>\n    <tr>\n      <th>4</th>\n      <td>observations.csv</td>\n      <td>NaN</td>\n      <td>-1.0</td>\n      <td>299697.0</td>\n      <td>8.0</td>\n      <td>0.0</td>\n    </tr>\n    <tr>\n      <th>14</th>\n      <td>encounters.csv</td>\n      <td>NaN</td>\n      <td>-1.0</td>\n      <td>53346.0</td>\n      <td>15.0</td>\n      <td>0.0</td>\n    </tr>\n    <tr>\n      <th>13</th>\n      <td>medications.csv</td>\n      <td>NaN</td>\n      <td>-1.0</td>\n      <td>42989.0</td>\n      <td>13.0</td>\n      <td>0.0</td>\n    </tr>\n    <tr>\n      <th>6</th>\n      <td>procedures.csv</td>\n      <td>NaN</td>\n      <td>-1.0</td>\n      <td>34981.0</td>\n      <td>8.0</td>\n      <td>0.0</td>\n    </tr>\n    <tr>\n      <th>11</th>\n      <td>immunizations.csv</td>\n      <td>NaN</td>\n      <td>-1.0</td>\n      <td>15478.0</td>\n      <td>6.0</td>\n      <td>0.0</td>\n    </tr>\n    <tr>\n      <th>0</th>\n      <td>conditions.csv</td>\n      <td>NaN</td>\n      <td>-1.0</td>\n      <td>8376.0</td>\n      <td>6.0</td>\n      <td>0.0</td>\n    </tr>\n    <tr>\n      <th>1</th>\n      <td>providers.csv</td>\n      <td>NaN</td>\n      <td>-1.0</td>\n      <td>5855.0</td>\n      <td>12.0</td>\n      <td>0.0</td>\n    </tr>\n    <tr>\n      <th>10</th>\n      <td>payer_transitions.csv</td>\n      <td>NaN</td>\n      <td>-1.0</td>\n      <td>3801.0</td>\n      <td>5.0</td>\n      <td>0.0</td>\n    </tr>\n    <tr>\n      <th>9</th>\n      <td>careplans.csv</td>\n      <td>NaN</td>\n      <td>-1.0</td>\n      <td>3483.0</td>\n      <td>9.0</td>\n      <td>0.0</td>\n    </tr>\n    <tr>\n      <th>2</th>\n      <td>patients.csv</td>\n      <td>NaN</td>\n      <td>-1.0</td>\n      <td>1171.0</td>\n      <td>25.0</td>\n      <td>0.0</td>\n    </tr>\n    <tr>\n      <th>15</th>\n      <td>organizations.csv</td>\n      <td>NaN</td>\n      <td>-1.0</td>\n      <td>1119.0</td>\n      <td>11.0</td>\n      <td>0.0</td>\n    </tr>\n    <tr>\n      <th>12</th>\n      <td>imaging_studies.csv</td>\n      <td>NaN</td>\n      <td>-1.0</td>\n      <td>855.0</td>\n      <td>10.0</td>\n      <td>0.0</td>\n    </tr>\n    <tr>\n      <th>3</th>\n      <td>allergies.csv</td>\n      <td>NaN</td>\n      <td>-1.0</td>\n      <td>597.0</td>\n      <td>6.0</td>\n      <td>0.0</td>\n    </tr>\n    <tr>\n      <th>5</th>\n      <td>devices.csv</td>\n      <td>NaN</td>\n      <td>-1.0</td>\n      <td>78.0</td>\n      <td>7.0</td>\n      <td>1.0</td>\n    </tr>\n    <tr>\n      <th>8</th>\n      <td>payers.csv</td>\n      <td>NaN</td>\n      <td>-1.0</td>\n      <td>10.0</td>\n      <td>21.0</td>\n      <td>0.0</td>\n    </tr>\n    <tr>\n      <th>7</th>\n      <td>supplies.csv</td>\n      <td>NaN</td>\n      <td>-1.0</td>\n      <td>0.0</td>\n      <td>6.0</td>\n      <td>6.0</td>\n    </tr>\n  </tbody>\n</table>\n</div>"
     },
     "execution_count": 6,
     "metadata": {},
     "output_type": "execute_result"
    }
   ],
   "source": [
    "scan_report.parse('Table Overview').sort_values(by=[\"N rows checked\"], ascending=False)"
   ],
   "metadata": {
    "collapsed": false,
    "pycharm": {
     "name": "#%%\n"
    }
   }
  },
  {
   "cell_type": "markdown",
   "source": [
    "On note que la table \"Observation\" est la plus remplie, contenant 6 fois plus de lignes que la table \"encounters\" qui la suit, ce qui veut certainement dire qu'une encounter amène généralement à plus d'une observation. On peut confirmer cela en regardant dans la feuille \"Table Overview\", le pourcentage de rencontres uniques au sein des observations est de 6,7%."
   ],
   "metadata": {
    "collapsed": false,
    "pycharm": {
     "name": "#%% md\n"
    }
   }
  },
  {
   "cell_type": "markdown",
   "source": [
    "#### Condition"
   ],
   "metadata": {
    "collapsed": false,
    "pycharm": {
     "name": "#%% md\n"
    }
   }
  },
  {
   "cell_type": "code",
   "execution_count": 7,
   "outputs": [
    {
     "data": {
      "text/plain": "        START  Frequency        STOP  Frequency.1  \\\n0  2017-03-21        8.0         NaN       3811.0   \n1  2016-10-08        8.0  2011-01-18          8.0   \n2  1990-02-05        8.0  2012-08-03          6.0   \n3  2012-03-12        7.0  2017-04-23          6.0   \n4  2017-06-03        7.0  2015-01-27          6.0   \n\n                                PATIENT  Frequency.2  \\\n0  6ec18ddf-e9ee-421a-9033-456f558c7b4b         25.0   \n1  9394cb52-7d92-4577-976e-d017af06ed8f         23.0   \n2  3f336702-bf73-4fc8-bd59-3ba77fd65d0d         23.0   \n3  5c06120a-9af5-4204-951b-7a8bfc465df3         22.0   \n4  2c71dd97-7085-416a-aa07-d675bbe3adf2         21.0   \n\n                              ENCOUNTER  Frequency.3         CODE  \\\n0  78880c30-e6ce-4598-a08b-d222b55c64af          7.0  444814009.0   \n1  b27ef5b9-4549-457c-8ef5-f8091d380f7d          5.0  195662009.0   \n2  6ba161b6-121f-44e9-9899-6505efe0aea6          5.0   10509002.0   \n3  ee5898a0-7865-442a-a004-56db5d81a67e          5.0   72892002.0   \n4  d9166bb6-91e8-4e1a-9faa-613b2c1dcfb5          4.0  162864005.0   \n\n   Frequency.4                              DESCRIPTION  Frequency.5  \n0       1248.0               Viral sinusitis (disorder)       1248.0  \n1        653.0       Acute viral pharyngitis (disorder)        653.0  \n2        563.0              Acute bronchitis (disorder)        563.0  \n3        516.0                         Normal pregnancy        516.0  \n4        449.0  Body mass index 30+ - obesity (finding)        449.0  ",
      "text/html": "<div>\n<style scoped>\n    .dataframe tbody tr th:only-of-type {\n        vertical-align: middle;\n    }\n\n    .dataframe tbody tr th {\n        vertical-align: top;\n    }\n\n    .dataframe thead th {\n        text-align: right;\n    }\n</style>\n<table border=\"1\" class=\"dataframe\">\n  <thead>\n    <tr style=\"text-align: right;\">\n      <th></th>\n      <th>START</th>\n      <th>Frequency</th>\n      <th>STOP</th>\n      <th>Frequency.1</th>\n      <th>PATIENT</th>\n      <th>Frequency.2</th>\n      <th>ENCOUNTER</th>\n      <th>Frequency.3</th>\n      <th>CODE</th>\n      <th>Frequency.4</th>\n      <th>DESCRIPTION</th>\n      <th>Frequency.5</th>\n    </tr>\n  </thead>\n  <tbody>\n    <tr>\n      <th>0</th>\n      <td>2017-03-21</td>\n      <td>8.0</td>\n      <td>NaN</td>\n      <td>3811.0</td>\n      <td>6ec18ddf-e9ee-421a-9033-456f558c7b4b</td>\n      <td>25.0</td>\n      <td>78880c30-e6ce-4598-a08b-d222b55c64af</td>\n      <td>7.0</td>\n      <td>444814009.0</td>\n      <td>1248.0</td>\n      <td>Viral sinusitis (disorder)</td>\n      <td>1248.0</td>\n    </tr>\n    <tr>\n      <th>1</th>\n      <td>2016-10-08</td>\n      <td>8.0</td>\n      <td>2011-01-18</td>\n      <td>8.0</td>\n      <td>9394cb52-7d92-4577-976e-d017af06ed8f</td>\n      <td>23.0</td>\n      <td>b27ef5b9-4549-457c-8ef5-f8091d380f7d</td>\n      <td>5.0</td>\n      <td>195662009.0</td>\n      <td>653.0</td>\n      <td>Acute viral pharyngitis (disorder)</td>\n      <td>653.0</td>\n    </tr>\n    <tr>\n      <th>2</th>\n      <td>1990-02-05</td>\n      <td>8.0</td>\n      <td>2012-08-03</td>\n      <td>6.0</td>\n      <td>3f336702-bf73-4fc8-bd59-3ba77fd65d0d</td>\n      <td>23.0</td>\n      <td>6ba161b6-121f-44e9-9899-6505efe0aea6</td>\n      <td>5.0</td>\n      <td>10509002.0</td>\n      <td>563.0</td>\n      <td>Acute bronchitis (disorder)</td>\n      <td>563.0</td>\n    </tr>\n    <tr>\n      <th>3</th>\n      <td>2012-03-12</td>\n      <td>7.0</td>\n      <td>2017-04-23</td>\n      <td>6.0</td>\n      <td>5c06120a-9af5-4204-951b-7a8bfc465df3</td>\n      <td>22.0</td>\n      <td>ee5898a0-7865-442a-a004-56db5d81a67e</td>\n      <td>5.0</td>\n      <td>72892002.0</td>\n      <td>516.0</td>\n      <td>Normal pregnancy</td>\n      <td>516.0</td>\n    </tr>\n    <tr>\n      <th>4</th>\n      <td>2017-06-03</td>\n      <td>7.0</td>\n      <td>2015-01-27</td>\n      <td>6.0</td>\n      <td>2c71dd97-7085-416a-aa07-d675bbe3adf2</td>\n      <td>21.0</td>\n      <td>d9166bb6-91e8-4e1a-9faa-613b2c1dcfb5</td>\n      <td>4.0</td>\n      <td>162864005.0</td>\n      <td>449.0</td>\n      <td>Body mass index 30+ - obesity (finding)</td>\n      <td>449.0</td>\n    </tr>\n  </tbody>\n</table>\n</div>"
     },
     "execution_count": 7,
     "metadata": {},
     "output_type": "execute_result"
    }
   ],
   "source": [
    "scan_report.parse(\"conditions.csv\").head(5)"
   ],
   "metadata": {
    "collapsed": false,
    "pycharm": {
     "name": "#%%\n"
    }
   }
  },
  {
   "cell_type": "markdown",
   "source": [
    "La table présente les dates de débuts et de fin d'un état observé pour un patient donné, avec le code de l'état et sa description associée.\n",
    "L'état le plus observé est la sinusite virale, qui représente presque 15% des diagnostics de rencontres"
   ],
   "metadata": {
    "collapsed": false,
    "pycharm": {
     "name": "#%% md\n"
    }
   }
  },
  {
   "cell_type": "markdown",
   "source": [
    "#### Providers"
   ],
   "metadata": {
    "collapsed": false,
    "pycharm": {
     "name": "#%% md\n"
    }
   }
  },
  {
   "cell_type": "code",
   "execution_count": 8,
   "outputs": [
    {
     "data": {
      "text/plain": "                                     Id  Frequency  \\\n0  74656ce3-3c5a-369c-b15d-69e1d0f94995        1.0   \n1  293f20d7-5c01-3e04-bf8d-c65f0862440e        1.0   \n2  ea69cf24-c6f5-389d-9fb6-93cd21403cdf        1.0   \n3  fec9ef0e-dc7f-3062-a19d-f7f1722afdac        1.0   \n4  fe83d7d5-26ff-3fd1-8851-fe2d88fa5d33        1.0   \n\n                           ORGANIZATION  Frequency.1                    NAME  \\\n0  7e79cf8f-66ff-3696-9f73-172be755ac72        403.0    Vern731 Powlowski563   \n1  4215bb3e-96a5-326d-96c1-b54744a390fd        356.0     Leonor133 Nájera755   \n2  01cf784f-f213-3ab8-bca3-919795beaaf6        329.0  Colby655 Schowalter414   \n3  a441cbca-6d65-33ff-980c-d8e58235b7e5        136.0     Mari763 Reynolds644   \n4  819cb4e2-fb1c-3917-80c9-fdb705d2cd19        117.0   Lynwood354 Monahan736   \n\n   Frequency.2 GENDER  Frequency.3              SPECIALITY  Frequency.4  ...  \\\n0          4.0      F       3062.0        GENERAL PRACTICE       1120.0  ...   \n1          4.0      M       2793.0       INTERNAL MEDICINE        608.0  ...   \n2          4.0    NaN          NaN      NURSE PRACTITIONER        511.0  ...   \n3          4.0    NaN          NaN  CLINICAL SOCIAL WORKER        367.0  ...   \n4          4.0    NaN          NaN     PHYSICIAN ASSISTANT        311.0  ...   \n\n  STATE  Frequency.7         ZIP  Frequency.8        LAT  Frequency.9  \\\n0    MA       5855.0  02144-2705        404.0  42.390445        453.0   \n1   NaN          NaN  01960-2901        356.0  42.534279        381.0   \n2   NaN          NaN  01830-6738        329.0  42.782945        342.0   \n3   NaN          NaN  02726-1220        136.0  42.376043        272.0   \n4   NaN          NaN  02719-5208        123.0  41.738479        151.0   \n\n         LON  Frequency.10  UTILIZATION  Frequency.11  \n0 -71.101033         453.0          0.0        4735.0  \n1 -70.969782         381.0         28.0          68.0  \n2 -71.087436         342.0         30.0          33.0  \n3 -71.118680         272.0         31.0          31.0  \n4 -71.165065         151.0         29.0          25.0  \n\n[5 rows x 24 columns]",
      "text/html": "<div>\n<style scoped>\n    .dataframe tbody tr th:only-of-type {\n        vertical-align: middle;\n    }\n\n    .dataframe tbody tr th {\n        vertical-align: top;\n    }\n\n    .dataframe thead th {\n        text-align: right;\n    }\n</style>\n<table border=\"1\" class=\"dataframe\">\n  <thead>\n    <tr style=\"text-align: right;\">\n      <th></th>\n      <th>Id</th>\n      <th>Frequency</th>\n      <th>ORGANIZATION</th>\n      <th>Frequency.1</th>\n      <th>NAME</th>\n      <th>Frequency.2</th>\n      <th>GENDER</th>\n      <th>Frequency.3</th>\n      <th>SPECIALITY</th>\n      <th>Frequency.4</th>\n      <th>...</th>\n      <th>STATE</th>\n      <th>Frequency.7</th>\n      <th>ZIP</th>\n      <th>Frequency.8</th>\n      <th>LAT</th>\n      <th>Frequency.9</th>\n      <th>LON</th>\n      <th>Frequency.10</th>\n      <th>UTILIZATION</th>\n      <th>Frequency.11</th>\n    </tr>\n  </thead>\n  <tbody>\n    <tr>\n      <th>0</th>\n      <td>74656ce3-3c5a-369c-b15d-69e1d0f94995</td>\n      <td>1.0</td>\n      <td>7e79cf8f-66ff-3696-9f73-172be755ac72</td>\n      <td>403.0</td>\n      <td>Vern731 Powlowski563</td>\n      <td>4.0</td>\n      <td>F</td>\n      <td>3062.0</td>\n      <td>GENERAL PRACTICE</td>\n      <td>1120.0</td>\n      <td>...</td>\n      <td>MA</td>\n      <td>5855.0</td>\n      <td>02144-2705</td>\n      <td>404.0</td>\n      <td>42.390445</td>\n      <td>453.0</td>\n      <td>-71.101033</td>\n      <td>453.0</td>\n      <td>0.0</td>\n      <td>4735.0</td>\n    </tr>\n    <tr>\n      <th>1</th>\n      <td>293f20d7-5c01-3e04-bf8d-c65f0862440e</td>\n      <td>1.0</td>\n      <td>4215bb3e-96a5-326d-96c1-b54744a390fd</td>\n      <td>356.0</td>\n      <td>Leonor133 Nájera755</td>\n      <td>4.0</td>\n      <td>M</td>\n      <td>2793.0</td>\n      <td>INTERNAL MEDICINE</td>\n      <td>608.0</td>\n      <td>...</td>\n      <td>NaN</td>\n      <td>NaN</td>\n      <td>01960-2901</td>\n      <td>356.0</td>\n      <td>42.534279</td>\n      <td>381.0</td>\n      <td>-70.969782</td>\n      <td>381.0</td>\n      <td>28.0</td>\n      <td>68.0</td>\n    </tr>\n    <tr>\n      <th>2</th>\n      <td>ea69cf24-c6f5-389d-9fb6-93cd21403cdf</td>\n      <td>1.0</td>\n      <td>01cf784f-f213-3ab8-bca3-919795beaaf6</td>\n      <td>329.0</td>\n      <td>Colby655 Schowalter414</td>\n      <td>4.0</td>\n      <td>NaN</td>\n      <td>NaN</td>\n      <td>NURSE PRACTITIONER</td>\n      <td>511.0</td>\n      <td>...</td>\n      <td>NaN</td>\n      <td>NaN</td>\n      <td>01830-6738</td>\n      <td>329.0</td>\n      <td>42.782945</td>\n      <td>342.0</td>\n      <td>-71.087436</td>\n      <td>342.0</td>\n      <td>30.0</td>\n      <td>33.0</td>\n    </tr>\n    <tr>\n      <th>3</th>\n      <td>fec9ef0e-dc7f-3062-a19d-f7f1722afdac</td>\n      <td>1.0</td>\n      <td>a441cbca-6d65-33ff-980c-d8e58235b7e5</td>\n      <td>136.0</td>\n      <td>Mari763 Reynolds644</td>\n      <td>4.0</td>\n      <td>NaN</td>\n      <td>NaN</td>\n      <td>CLINICAL SOCIAL WORKER</td>\n      <td>367.0</td>\n      <td>...</td>\n      <td>NaN</td>\n      <td>NaN</td>\n      <td>02726-1220</td>\n      <td>136.0</td>\n      <td>42.376043</td>\n      <td>272.0</td>\n      <td>-71.118680</td>\n      <td>272.0</td>\n      <td>31.0</td>\n      <td>31.0</td>\n    </tr>\n    <tr>\n      <th>4</th>\n      <td>fe83d7d5-26ff-3fd1-8851-fe2d88fa5d33</td>\n      <td>1.0</td>\n      <td>819cb4e2-fb1c-3917-80c9-fdb705d2cd19</td>\n      <td>117.0</td>\n      <td>Lynwood354 Monahan736</td>\n      <td>4.0</td>\n      <td>NaN</td>\n      <td>NaN</td>\n      <td>PHYSICIAN ASSISTANT</td>\n      <td>311.0</td>\n      <td>...</td>\n      <td>NaN</td>\n      <td>NaN</td>\n      <td>02719-5208</td>\n      <td>123.0</td>\n      <td>41.738479</td>\n      <td>151.0</td>\n      <td>-71.165065</td>\n      <td>151.0</td>\n      <td>29.0</td>\n      <td>25.0</td>\n    </tr>\n  </tbody>\n</table>\n<p>5 rows × 24 columns</p>\n</div>"
     },
     "execution_count": 8,
     "metadata": {},
     "output_type": "execute_result"
    }
   ],
   "source": [
    "scan_report.parse(\"providers.csv\").head(5)"
   ],
   "metadata": {
    "collapsed": false,
    "pycharm": {
     "name": "#%%\n"
    }
   }
  },
  {
   "cell_type": "markdown",
   "source": [
    "Nous retrouvons ici la liste des praticiens, ainsi que leurs spécialités et localisation.\n",
    "Nous notons entre autres :\n",
    "- Les chiffres dans le nom nous paraissent étranges\n",
    "- Nous n'avons pas trouvé de signification au champ utilisation\n",
    "- La colonne \"STATE\" est toujours égale à \"MA\""
   ],
   "metadata": {
    "collapsed": false,
    "pycharm": {
     "name": "#%% md\n"
    }
   }
  },
  {
   "cell_type": "markdown",
   "source": [
    "#### Patients"
   ],
   "metadata": {
    "collapsed": false,
    "pycharm": {
     "name": "#%% md\n"
    }
   }
  },
  {
   "cell_type": "code",
   "execution_count": 9,
   "outputs": [
    {
     "data": {
      "text/plain": "                                     Id  Frequency   BIRTHDATE  Frequency.1  \\\n0  87f05059-de42-4630-a35b-edb53d880640        1.0  1942-05-23         10.0   \n1  d78faf3a-dfad-4b6b-a353-e688cd2b8568        1.0  1913-05-30          8.0   \n2  4217ed61-af8b-47be-80d2-c84336bc01a2        1.0  1914-09-05          8.0   \n3  0e1ad739-81d1-4170-841d-414ddc97c93a        1.0  1923-05-15          7.0   \n4  bfb101aa-8d36-422b-8e5c-b7275d279de0        1.0  1925-04-22          7.0   \n\n    DEATHDATE  Frequency.2          SSN  Frequency.3    DRIVERS  Frequency.4  \\\n0         NaN       1000.0  999-56-8425          2.0        NaN        213.0   \n1  1991-02-17          1.0  999-81-2423          1.0  S99976102          2.0   \n2  1958-01-03          1.0  999-75-7372          1.0  S99951275          2.0   \n3  2003-02-15          1.0  999-70-6525          1.0  S99958686          2.0   \n4  2018-05-29          1.0  999-69-3267          1.0  S99973225          2.0   \n\n   ...     ZIP  Frequency.20        LAT  Frequency.21        LON  \\\n0  ...     NaN         543.0  42.581626           1.0 -70.967142   \n1  ...  2472.0          12.0  42.474901           1.0 -69.968061   \n2  ...  2151.0          11.0  42.477650           1.0 -71.160521   \n3  ...  2140.0          10.0  42.215817           1.0 -71.551489   \n4  ...  2155.0          10.0  42.331358           1.0 -71.167223   \n\n   Frequency.22 HEALTHCARE_EXPENSES  Frequency.23 HEALTHCARE_COVERAGE  \\\n0           1.0           475343.76           1.0                0.00   \n1           1.0          1660466.31           1.0              645.80   \n2           1.0            26070.08           1.0              516.64   \n3           1.0           300475.37           1.0             1033.28   \n4           1.0           319572.37           1.0             1162.44   \n\n   Frequency.24  \n0          28.0  \n1           8.0  \n2           6.0  \n3           5.0  \n4           4.0  \n\n[5 rows x 50 columns]",
      "text/html": "<div>\n<style scoped>\n    .dataframe tbody tr th:only-of-type {\n        vertical-align: middle;\n    }\n\n    .dataframe tbody tr th {\n        vertical-align: top;\n    }\n\n    .dataframe thead th {\n        text-align: right;\n    }\n</style>\n<table border=\"1\" class=\"dataframe\">\n  <thead>\n    <tr style=\"text-align: right;\">\n      <th></th>\n      <th>Id</th>\n      <th>Frequency</th>\n      <th>BIRTHDATE</th>\n      <th>Frequency.1</th>\n      <th>DEATHDATE</th>\n      <th>Frequency.2</th>\n      <th>SSN</th>\n      <th>Frequency.3</th>\n      <th>DRIVERS</th>\n      <th>Frequency.4</th>\n      <th>...</th>\n      <th>ZIP</th>\n      <th>Frequency.20</th>\n      <th>LAT</th>\n      <th>Frequency.21</th>\n      <th>LON</th>\n      <th>Frequency.22</th>\n      <th>HEALTHCARE_EXPENSES</th>\n      <th>Frequency.23</th>\n      <th>HEALTHCARE_COVERAGE</th>\n      <th>Frequency.24</th>\n    </tr>\n  </thead>\n  <tbody>\n    <tr>\n      <th>0</th>\n      <td>87f05059-de42-4630-a35b-edb53d880640</td>\n      <td>1.0</td>\n      <td>1942-05-23</td>\n      <td>10.0</td>\n      <td>NaN</td>\n      <td>1000.0</td>\n      <td>999-56-8425</td>\n      <td>2.0</td>\n      <td>NaN</td>\n      <td>213.0</td>\n      <td>...</td>\n      <td>NaN</td>\n      <td>543.0</td>\n      <td>42.581626</td>\n      <td>1.0</td>\n      <td>-70.967142</td>\n      <td>1.0</td>\n      <td>475343.76</td>\n      <td>1.0</td>\n      <td>0.00</td>\n      <td>28.0</td>\n    </tr>\n    <tr>\n      <th>1</th>\n      <td>d78faf3a-dfad-4b6b-a353-e688cd2b8568</td>\n      <td>1.0</td>\n      <td>1913-05-30</td>\n      <td>8.0</td>\n      <td>1991-02-17</td>\n      <td>1.0</td>\n      <td>999-81-2423</td>\n      <td>1.0</td>\n      <td>S99976102</td>\n      <td>2.0</td>\n      <td>...</td>\n      <td>2472.0</td>\n      <td>12.0</td>\n      <td>42.474901</td>\n      <td>1.0</td>\n      <td>-69.968061</td>\n      <td>1.0</td>\n      <td>1660466.31</td>\n      <td>1.0</td>\n      <td>645.80</td>\n      <td>8.0</td>\n    </tr>\n    <tr>\n      <th>2</th>\n      <td>4217ed61-af8b-47be-80d2-c84336bc01a2</td>\n      <td>1.0</td>\n      <td>1914-09-05</td>\n      <td>8.0</td>\n      <td>1958-01-03</td>\n      <td>1.0</td>\n      <td>999-75-7372</td>\n      <td>1.0</td>\n      <td>S99951275</td>\n      <td>2.0</td>\n      <td>...</td>\n      <td>2151.0</td>\n      <td>11.0</td>\n      <td>42.477650</td>\n      <td>1.0</td>\n      <td>-71.160521</td>\n      <td>1.0</td>\n      <td>26070.08</td>\n      <td>1.0</td>\n      <td>516.64</td>\n      <td>6.0</td>\n    </tr>\n    <tr>\n      <th>3</th>\n      <td>0e1ad739-81d1-4170-841d-414ddc97c93a</td>\n      <td>1.0</td>\n      <td>1923-05-15</td>\n      <td>7.0</td>\n      <td>2003-02-15</td>\n      <td>1.0</td>\n      <td>999-70-6525</td>\n      <td>1.0</td>\n      <td>S99958686</td>\n      <td>2.0</td>\n      <td>...</td>\n      <td>2140.0</td>\n      <td>10.0</td>\n      <td>42.215817</td>\n      <td>1.0</td>\n      <td>-71.551489</td>\n      <td>1.0</td>\n      <td>300475.37</td>\n      <td>1.0</td>\n      <td>1033.28</td>\n      <td>5.0</td>\n    </tr>\n    <tr>\n      <th>4</th>\n      <td>bfb101aa-8d36-422b-8e5c-b7275d279de0</td>\n      <td>1.0</td>\n      <td>1925-04-22</td>\n      <td>7.0</td>\n      <td>2018-05-29</td>\n      <td>1.0</td>\n      <td>999-69-3267</td>\n      <td>1.0</td>\n      <td>S99973225</td>\n      <td>2.0</td>\n      <td>...</td>\n      <td>2155.0</td>\n      <td>10.0</td>\n      <td>42.331358</td>\n      <td>1.0</td>\n      <td>-71.167223</td>\n      <td>1.0</td>\n      <td>319572.37</td>\n      <td>1.0</td>\n      <td>1162.44</td>\n      <td>4.0</td>\n    </tr>\n  </tbody>\n</table>\n<p>5 rows × 50 columns</p>\n</div>"
     },
     "execution_count": 9,
     "metadata": {},
     "output_type": "execute_result"
    }
   ],
   "source": [
    "scan_report.parse(\"patients.csv\").head(5)"
   ],
   "metadata": {
    "collapsed": false,
    "pycharm": {
     "name": "#%%\n"
    }
   }
  },
  {
   "cell_type": "markdown",
   "source": [
    "La table regroupe les informations administratives des patients (dont noms, permis de conduire, identifiant unique, assurance maladie, ethnie, localisation ...).\n",
    "\n",
    "On note qu'un SSN est dupliqué (2 apparitions) alors qu'aucun ID n'est dupliqué pour matcher ce SSN.\n",
    "Les données semblent toutes provenir du Massachusets"
   ],
   "metadata": {
    "collapsed": false,
    "pycharm": {
     "name": "#%% md\n"
    }
   }
  },
  {
   "cell_type": "markdown",
   "source": [
    "#### Allergies"
   ],
   "metadata": {
    "collapsed": false,
    "pycharm": {
     "name": "#%% md\n"
    }
   }
  },
  {
   "cell_type": "code",
   "execution_count": 10,
   "outputs": [
    {
     "data": {
      "text/plain": "        START  Frequency        STOP  Frequency.1  \\\n0  2014-04-24       10.0         NaN        533.0   \n1  2010-04-03       10.0  2017-01-31          5.0   \n2  2002-01-24       10.0  2015-11-30          5.0   \n3  1963-07-23       10.0  1993-07-10          4.0   \n4  2016-04-25        9.0  2013-06-25          4.0   \n\n                                PATIENT  Frequency.2  \\\n0  1c2aa038-9366-4c7d-9a3e-52cb753a670f         10.0   \n1  bf35e4fa-ea4f-40a4-8fe6-1f2f26e0aa45         10.0   \n2  e112cedd-a98e-489e-abb0-875420d40397         10.0   \n3  2174522f-1d23-47cf-b56c-4ce3193c5bab         10.0   \n4  b37c9b35-6fea-4570-b7f6-379baf4c9399          9.0   \n\n                              ENCOUNTER  Frequency.3         CODE  \\\n0  d47a0669-53b1-4914-b18d-dd593f7e1767         10.0  419474003.0   \n1  c90b2536-b388-479c-aa7e-3406fe4c2211         10.0  232347008.0   \n2  a61f97fa-70c3-4366-90e1-7c6fdcba5cbb         10.0  419263009.0   \n3  89685e6f-cb99-47aa-8304-e9bc4506e7cd         10.0  232350006.0   \n4  469fbd8a-ec48-4da9-9165-027144ccf9a0          9.0  418689008.0   \n\n   Frequency.4              DESCRIPTION  Frequency.5  \n0         81.0         Allergy to mould         81.0  \n1         77.0  Dander (animal) allergy         77.0  \n2         63.0   Allergy to tree pollen         63.0  \n3         61.0  House dust mite allergy         61.0  \n4         60.0  Allergy to grass pollen         60.0  ",
      "text/html": "<div>\n<style scoped>\n    .dataframe tbody tr th:only-of-type {\n        vertical-align: middle;\n    }\n\n    .dataframe tbody tr th {\n        vertical-align: top;\n    }\n\n    .dataframe thead th {\n        text-align: right;\n    }\n</style>\n<table border=\"1\" class=\"dataframe\">\n  <thead>\n    <tr style=\"text-align: right;\">\n      <th></th>\n      <th>START</th>\n      <th>Frequency</th>\n      <th>STOP</th>\n      <th>Frequency.1</th>\n      <th>PATIENT</th>\n      <th>Frequency.2</th>\n      <th>ENCOUNTER</th>\n      <th>Frequency.3</th>\n      <th>CODE</th>\n      <th>Frequency.4</th>\n      <th>DESCRIPTION</th>\n      <th>Frequency.5</th>\n    </tr>\n  </thead>\n  <tbody>\n    <tr>\n      <th>0</th>\n      <td>2014-04-24</td>\n      <td>10.0</td>\n      <td>NaN</td>\n      <td>533.0</td>\n      <td>1c2aa038-9366-4c7d-9a3e-52cb753a670f</td>\n      <td>10.0</td>\n      <td>d47a0669-53b1-4914-b18d-dd593f7e1767</td>\n      <td>10.0</td>\n      <td>419474003.0</td>\n      <td>81.0</td>\n      <td>Allergy to mould</td>\n      <td>81.0</td>\n    </tr>\n    <tr>\n      <th>1</th>\n      <td>2010-04-03</td>\n      <td>10.0</td>\n      <td>2017-01-31</td>\n      <td>5.0</td>\n      <td>bf35e4fa-ea4f-40a4-8fe6-1f2f26e0aa45</td>\n      <td>10.0</td>\n      <td>c90b2536-b388-479c-aa7e-3406fe4c2211</td>\n      <td>10.0</td>\n      <td>232347008.0</td>\n      <td>77.0</td>\n      <td>Dander (animal) allergy</td>\n      <td>77.0</td>\n    </tr>\n    <tr>\n      <th>2</th>\n      <td>2002-01-24</td>\n      <td>10.0</td>\n      <td>2015-11-30</td>\n      <td>5.0</td>\n      <td>e112cedd-a98e-489e-abb0-875420d40397</td>\n      <td>10.0</td>\n      <td>a61f97fa-70c3-4366-90e1-7c6fdcba5cbb</td>\n      <td>10.0</td>\n      <td>419263009.0</td>\n      <td>63.0</td>\n      <td>Allergy to tree pollen</td>\n      <td>63.0</td>\n    </tr>\n    <tr>\n      <th>3</th>\n      <td>1963-07-23</td>\n      <td>10.0</td>\n      <td>1993-07-10</td>\n      <td>4.0</td>\n      <td>2174522f-1d23-47cf-b56c-4ce3193c5bab</td>\n      <td>10.0</td>\n      <td>89685e6f-cb99-47aa-8304-e9bc4506e7cd</td>\n      <td>10.0</td>\n      <td>232350006.0</td>\n      <td>61.0</td>\n      <td>House dust mite allergy</td>\n      <td>61.0</td>\n    </tr>\n    <tr>\n      <th>4</th>\n      <td>2016-04-25</td>\n      <td>9.0</td>\n      <td>2013-06-25</td>\n      <td>4.0</td>\n      <td>b37c9b35-6fea-4570-b7f6-379baf4c9399</td>\n      <td>9.0</td>\n      <td>469fbd8a-ec48-4da9-9165-027144ccf9a0</td>\n      <td>9.0</td>\n      <td>418689008.0</td>\n      <td>60.0</td>\n      <td>Allergy to grass pollen</td>\n      <td>60.0</td>\n    </tr>\n  </tbody>\n</table>\n</div>"
     },
     "execution_count": 10,
     "metadata": {},
     "output_type": "execute_result"
    }
   ],
   "source": [
    "scan_report.parse(\"allergies.csv\").head(5)"
   ],
   "metadata": {
    "collapsed": false,
    "pycharm": {
     "name": "#%%\n"
    }
   }
  },
  {
   "cell_type": "markdown",
   "source": [
    "On retrouve ici les informations des rencontres en lien avec les allergies.\n",
    "\n",
    "On note que seulement 64 patients ont une date de fin pour leur allergie, sur les 597 diagnostiqués."
   ],
   "metadata": {
    "collapsed": false,
    "pycharm": {
     "name": "#%% md\n"
    }
   }
  },
  {
   "cell_type": "markdown",
   "source": [
    "#### Observations"
   ],
   "metadata": {
    "collapsed": false,
    "pycharm": {
     "name": "#%% md\n"
    }
   }
  },
  {
   "cell_type": "code",
   "execution_count": 11,
   "outputs": [
    {
     "data": {
      "text/plain": "                   DATE  Frequency                               PATIENT  \\\n0  1998-08-02T13:25:58Z       94.0  cae10920-f977-48b4-a0d3-4d70ad561fd1   \n1  2011-10-27T12:08:54Z       86.0  19d2cfb8-439b-454a-b47e-5274c219005b   \n2  1968-11-24T09:30:42Z       83.0  3f336702-bf73-4fc8-bd59-3ba77fd65d0d   \n3  2001-08-19T13:25:58Z       83.0  59cf17d9-6c13-4333-a1cb-cc5fdf63366d   \n4  1971-10-10T09:30:42Z       83.0  941f66eb-5ca6-45cc-b205-6de1f1a59233   \n\n   Frequency.1                             ENCOUNTER  Frequency.2     CODE  \\\n0       9023.0                                   NaN      30363.0  72514-3   \n1       8560.0  44b9670e-fd47-4f04-b75d-3346f2cef9e4         79.0   8480-6   \n2       7322.0  8a3a36ec-980e-449e-b21c-2b73c8980cd3         78.0   8462-4   \n3       2988.0  95dc9058-ff5e-41af-bb0d-e573df1c389c         73.0  29463-7   \n4       2916.0  dad811f9-6f39-434e-9ace-cb4341f0a4f2         68.0   9279-1   \n\n   Frequency.3                                        DESCRIPTION  \\\n0      16820.0  Pain severity - 0-10 verbal numeric rating [Sc...   \n1      12963.0                            Systolic Blood Pressure   \n2      12963.0                           Diastolic Blood Pressure   \n3      12552.0                        Tobacco smoking status NHIS   \n4      12552.0                                        Body Height   \n\n   Frequency.4         VALUE  Frequency.5    UNITS  Frequency.6     TYPE  \\\n0      16820.0           1.0      11382.0    mg/dL      51907.0  numeric   \n1      12963.0  Never smoker       9319.0  {score}      26941.0     text   \n2      12963.0           0.0       6144.0   mmol/L      26060.0      NaN   \n3      12552.0           3.0       4752.0   mm[Hg]      25926.0      NaN   \n4      12552.0           2.0       4112.0     /min      25104.0      NaN   \n\n   Frequency.7  \n0     278488.0  \n1      21209.0  \n2          NaN  \n3          NaN  \n4          NaN  ",
      "text/html": "<div>\n<style scoped>\n    .dataframe tbody tr th:only-of-type {\n        vertical-align: middle;\n    }\n\n    .dataframe tbody tr th {\n        vertical-align: top;\n    }\n\n    .dataframe thead th {\n        text-align: right;\n    }\n</style>\n<table border=\"1\" class=\"dataframe\">\n  <thead>\n    <tr style=\"text-align: right;\">\n      <th></th>\n      <th>DATE</th>\n      <th>Frequency</th>\n      <th>PATIENT</th>\n      <th>Frequency.1</th>\n      <th>ENCOUNTER</th>\n      <th>Frequency.2</th>\n      <th>CODE</th>\n      <th>Frequency.3</th>\n      <th>DESCRIPTION</th>\n      <th>Frequency.4</th>\n      <th>VALUE</th>\n      <th>Frequency.5</th>\n      <th>UNITS</th>\n      <th>Frequency.6</th>\n      <th>TYPE</th>\n      <th>Frequency.7</th>\n    </tr>\n  </thead>\n  <tbody>\n    <tr>\n      <th>0</th>\n      <td>1998-08-02T13:25:58Z</td>\n      <td>94.0</td>\n      <td>cae10920-f977-48b4-a0d3-4d70ad561fd1</td>\n      <td>9023.0</td>\n      <td>NaN</td>\n      <td>30363.0</td>\n      <td>72514-3</td>\n      <td>16820.0</td>\n      <td>Pain severity - 0-10 verbal numeric rating [Sc...</td>\n      <td>16820.0</td>\n      <td>1.0</td>\n      <td>11382.0</td>\n      <td>mg/dL</td>\n      <td>51907.0</td>\n      <td>numeric</td>\n      <td>278488.0</td>\n    </tr>\n    <tr>\n      <th>1</th>\n      <td>2011-10-27T12:08:54Z</td>\n      <td>86.0</td>\n      <td>19d2cfb8-439b-454a-b47e-5274c219005b</td>\n      <td>8560.0</td>\n      <td>44b9670e-fd47-4f04-b75d-3346f2cef9e4</td>\n      <td>79.0</td>\n      <td>8480-6</td>\n      <td>12963.0</td>\n      <td>Systolic Blood Pressure</td>\n      <td>12963.0</td>\n      <td>Never smoker</td>\n      <td>9319.0</td>\n      <td>{score}</td>\n      <td>26941.0</td>\n      <td>text</td>\n      <td>21209.0</td>\n    </tr>\n    <tr>\n      <th>2</th>\n      <td>1968-11-24T09:30:42Z</td>\n      <td>83.0</td>\n      <td>3f336702-bf73-4fc8-bd59-3ba77fd65d0d</td>\n      <td>7322.0</td>\n      <td>8a3a36ec-980e-449e-b21c-2b73c8980cd3</td>\n      <td>78.0</td>\n      <td>8462-4</td>\n      <td>12963.0</td>\n      <td>Diastolic Blood Pressure</td>\n      <td>12963.0</td>\n      <td>0.0</td>\n      <td>6144.0</td>\n      <td>mmol/L</td>\n      <td>26060.0</td>\n      <td>NaN</td>\n      <td>NaN</td>\n    </tr>\n    <tr>\n      <th>3</th>\n      <td>2001-08-19T13:25:58Z</td>\n      <td>83.0</td>\n      <td>59cf17d9-6c13-4333-a1cb-cc5fdf63366d</td>\n      <td>2988.0</td>\n      <td>95dc9058-ff5e-41af-bb0d-e573df1c389c</td>\n      <td>73.0</td>\n      <td>29463-7</td>\n      <td>12552.0</td>\n      <td>Tobacco smoking status NHIS</td>\n      <td>12552.0</td>\n      <td>3.0</td>\n      <td>4752.0</td>\n      <td>mm[Hg]</td>\n      <td>25926.0</td>\n      <td>NaN</td>\n      <td>NaN</td>\n    </tr>\n    <tr>\n      <th>4</th>\n      <td>1971-10-10T09:30:42Z</td>\n      <td>83.0</td>\n      <td>941f66eb-5ca6-45cc-b205-6de1f1a59233</td>\n      <td>2916.0</td>\n      <td>dad811f9-6f39-434e-9ace-cb4341f0a4f2</td>\n      <td>68.0</td>\n      <td>9279-1</td>\n      <td>12552.0</td>\n      <td>Body Height</td>\n      <td>12552.0</td>\n      <td>2.0</td>\n      <td>4112.0</td>\n      <td>/min</td>\n      <td>25104.0</td>\n      <td>NaN</td>\n      <td>NaN</td>\n    </tr>\n  </tbody>\n</table>\n</div>"
     },
     "execution_count": 11,
     "metadata": {},
     "output_type": "execute_result"
    }
   ],
   "source": [
    "scan_report.parse(\"observations.csv\").head(5)"
   ],
   "metadata": {
    "collapsed": false,
    "pycharm": {
     "name": "#%%\n"
    }
   }
  },
  {
   "cell_type": "markdown",
   "source": [
    "La table regroupe toutes les observations et leurs informations.\n",
    "\n",
    "On note que 10% des observations sont sur le niveau de douleur, le premier test passé en entrant à l'hôpital\n",
    "\n",
    "On remarque que les données sont majoritairement numériques, et que parmi les données non numériques, la majorité est réponse au statut fumeur. Les réponses à cette question (57 fumeurs quotidiens sur 12552 patients interrogés) laissent penser que les patients cachent la vérité. Les données étant tirées des États-Unis, on supposera que la peur d'un acte non couvert car lié à la cigarette pousse les patients à cacher la vérité"
   ],
   "metadata": {
    "collapsed": false,
    "pycharm": {
     "name": "#%% md\n"
    }
   }
  },
  {
   "cell_type": "markdown",
   "source": [
    "#### Devices"
   ],
   "metadata": {
    "collapsed": false,
    "pycharm": {
     "name": "#%% md\n"
    }
   }
  },
  {
   "cell_type": "code",
   "execution_count": 12,
   "outputs": [
    {
     "data": {
      "text/plain": "                  START  Frequency  STOP  Frequency.1  \\\n0  1973-07-19T04:25:46Z        1.0   NaN         78.0   \n1  1988-05-17T13:04:22Z        1.0   NaN          NaN   \n2  1965-07-11T19:05:21Z        1.0   NaN          NaN   \n3  2007-09-10T04:16:32Z        1.0   NaN          NaN   \n4  1991-02-18T01:51:56Z        1.0   NaN          NaN   \n\n                                PATIENT  Frequency.2  \\\n0  fd1e9a6d-5b50-4a6f-bd61-c884ab89f5c6          2.0   \n1  668ad49e-46d7-45ec-a4b4-dab0961d180b          2.0   \n2  2c71dd97-7085-416a-aa07-d675bbe3adf2          2.0   \n3  85a0da4b-6e8d-492c-976b-748e39daf4ef          2.0   \n4  87f05059-de42-4630-a35b-edb53d880640          1.0   \n\n                              ENCOUNTER  Frequency.3         CODE  \\\n0  e7d4e283-2a2c-4733-9456-0e7ad7793114          1.0   72506001.0   \n1  ef913b44-a6af-4a36-9085-75e0cf514497          1.0  705643001.0   \n2  b7dd8a72-8ec2-482a-bc99-d043362e08d6          1.0  706004007.0   \n3  4f1264b0-40f7-4e5f-af2c-f3dc83345dc2          1.0          NaN   \n4  1785e2e2-41cd-4e80-bda9-42ef955f47c8          1.0          NaN   \n\n   Frequency.4                                        DESCRIPTION  \\\n0         47.0  Implantable defibrillator  device (physical ob...   \n1         21.0            Coronary artery stent (physical object)   \n2         10.0    Implantable cardiac pacemaker (physical object)   \n3          NaN                                                NaN   \n4          NaN                                                NaN   \n\n   Frequency.5                                                UDI  Frequency.6  \n0         47.0  (01)30949086444789(11)470718(17)720801(10)1045...          1.0  \n1         21.0  (01)84512353376760(11)620911(17)870926(10)4832...          1.0  \n2         10.0  (01)11821950664484(11)131010(17)381025(10)7096...          1.0  \n3          NaN  (01)87969465031282(11)111028(17)361111(10)7964...          1.0  \n4          NaN  (01)83989236019812(11)870614(17)120628(10)1790...          1.0  ",
      "text/html": "<div>\n<style scoped>\n    .dataframe tbody tr th:only-of-type {\n        vertical-align: middle;\n    }\n\n    .dataframe tbody tr th {\n        vertical-align: top;\n    }\n\n    .dataframe thead th {\n        text-align: right;\n    }\n</style>\n<table border=\"1\" class=\"dataframe\">\n  <thead>\n    <tr style=\"text-align: right;\">\n      <th></th>\n      <th>START</th>\n      <th>Frequency</th>\n      <th>STOP</th>\n      <th>Frequency.1</th>\n      <th>PATIENT</th>\n      <th>Frequency.2</th>\n      <th>ENCOUNTER</th>\n      <th>Frequency.3</th>\n      <th>CODE</th>\n      <th>Frequency.4</th>\n      <th>DESCRIPTION</th>\n      <th>Frequency.5</th>\n      <th>UDI</th>\n      <th>Frequency.6</th>\n    </tr>\n  </thead>\n  <tbody>\n    <tr>\n      <th>0</th>\n      <td>1973-07-19T04:25:46Z</td>\n      <td>1.0</td>\n      <td>NaN</td>\n      <td>78.0</td>\n      <td>fd1e9a6d-5b50-4a6f-bd61-c884ab89f5c6</td>\n      <td>2.0</td>\n      <td>e7d4e283-2a2c-4733-9456-0e7ad7793114</td>\n      <td>1.0</td>\n      <td>72506001.0</td>\n      <td>47.0</td>\n      <td>Implantable defibrillator  device (physical ob...</td>\n      <td>47.0</td>\n      <td>(01)30949086444789(11)470718(17)720801(10)1045...</td>\n      <td>1.0</td>\n    </tr>\n    <tr>\n      <th>1</th>\n      <td>1988-05-17T13:04:22Z</td>\n      <td>1.0</td>\n      <td>NaN</td>\n      <td>NaN</td>\n      <td>668ad49e-46d7-45ec-a4b4-dab0961d180b</td>\n      <td>2.0</td>\n      <td>ef913b44-a6af-4a36-9085-75e0cf514497</td>\n      <td>1.0</td>\n      <td>705643001.0</td>\n      <td>21.0</td>\n      <td>Coronary artery stent (physical object)</td>\n      <td>21.0</td>\n      <td>(01)84512353376760(11)620911(17)870926(10)4832...</td>\n      <td>1.0</td>\n    </tr>\n    <tr>\n      <th>2</th>\n      <td>1965-07-11T19:05:21Z</td>\n      <td>1.0</td>\n      <td>NaN</td>\n      <td>NaN</td>\n      <td>2c71dd97-7085-416a-aa07-d675bbe3adf2</td>\n      <td>2.0</td>\n      <td>b7dd8a72-8ec2-482a-bc99-d043362e08d6</td>\n      <td>1.0</td>\n      <td>706004007.0</td>\n      <td>10.0</td>\n      <td>Implantable cardiac pacemaker (physical object)</td>\n      <td>10.0</td>\n      <td>(01)11821950664484(11)131010(17)381025(10)7096...</td>\n      <td>1.0</td>\n    </tr>\n    <tr>\n      <th>3</th>\n      <td>2007-09-10T04:16:32Z</td>\n      <td>1.0</td>\n      <td>NaN</td>\n      <td>NaN</td>\n      <td>85a0da4b-6e8d-492c-976b-748e39daf4ef</td>\n      <td>2.0</td>\n      <td>4f1264b0-40f7-4e5f-af2c-f3dc83345dc2</td>\n      <td>1.0</td>\n      <td>NaN</td>\n      <td>NaN</td>\n      <td>NaN</td>\n      <td>NaN</td>\n      <td>(01)87969465031282(11)111028(17)361111(10)7964...</td>\n      <td>1.0</td>\n    </tr>\n    <tr>\n      <th>4</th>\n      <td>1991-02-18T01:51:56Z</td>\n      <td>1.0</td>\n      <td>NaN</td>\n      <td>NaN</td>\n      <td>87f05059-de42-4630-a35b-edb53d880640</td>\n      <td>1.0</td>\n      <td>1785e2e2-41cd-4e80-bda9-42ef955f47c8</td>\n      <td>1.0</td>\n      <td>NaN</td>\n      <td>NaN</td>\n      <td>NaN</td>\n      <td>NaN</td>\n      <td>(01)83989236019812(11)870614(17)120628(10)1790...</td>\n      <td>1.0</td>\n    </tr>\n  </tbody>\n</table>\n</div>"
     },
     "execution_count": 12,
     "metadata": {},
     "output_type": "execute_result"
    }
   ],
   "source": [
    "scan_report.parse(\"devices.csv\").head(5)"
   ],
   "metadata": {
    "collapsed": false,
    "pycharm": {
     "name": "#%%\n"
    }
   }
  },
  {
   "cell_type": "markdown",
   "source": [
    "Cette table liste les différents appareils implantés à des patients au cours de rencontres.\n",
    "\n",
    "Seuls trois types de devices sont répertoriés, dont plus de la moitié étant des défibrillateurs. Il n'y a pas de date d'arrêt bien que certaines opérations datent d'il y a des décennies, on suppose que les remplacements d'appareil ne sont pas comptabilisés comme 2 implants différents."
   ],
   "metadata": {
    "collapsed": false,
    "pycharm": {
     "name": "#%% md\n"
    }
   }
  },
  {
   "cell_type": "markdown",
   "source": [
    "#### Procedures"
   ],
   "metadata": {
    "collapsed": false,
    "pycharm": {
     "name": "#%% md\n"
    }
   }
  },
  {
   "cell_type": "code",
   "execution_count": 13,
   "outputs": [
    {
     "data": {
      "text/plain": "                   DATE  Frequency                               PATIENT  \\\n0  2016-12-30T13:51:47Z       24.0  cae10920-f977-48b4-a0d3-4d70ad561fd1   \n1  2012-04-06T12:19:58Z       24.0  19d2cfb8-439b-454a-b47e-5274c219005b   \n2  2016-12-17T18:46:04Z       24.0  3f336702-bf73-4fc8-bd59-3ba77fd65d0d   \n3  2012-12-22T06:41:05Z       24.0  3acf9313-1874-4dff-ab2a-3187516d92d6   \n4  2018-03-29T21:30:58Z       24.0  10a4a009-2d24-4512-8506-f8d8c36255d5   \n\n   Frequency.1                             ENCOUNTER  Frequency.2  \\\n0       1273.0  0f2eccff-7741-4ff2-a13a-656cbd78394a         21.0   \n1       1251.0  0f0c75b5-7aa2-4e50-9bce-35ec36397bcf         20.0   \n2       1232.0  52a69be5-95a4-417f-9e44-4e6ca77e47a5         20.0   \n3        478.0  1a98a614-f17d-4714-ad15-975b91e6f84d         20.0   \n4        317.0  43a43bbe-d73d-44be-8e2d-5b8e9a842f19         20.0   \n\n          CODE  Frequency.3                            DESCRIPTION  \\\n0  430193006.0       5632.0  Medication Reconciliation (procedure)   \n1  265764009.0       3389.0             Renal dialysis (procedure)   \n2  274804006.0       2705.0        Auscultation of the fetal heart   \n3  225158009.0       2705.0    Evaluation of uterine fundal height   \n4  180256009.0       1497.0             Subcutaneous immunotherapy   \n\n   Frequency.4  BASE_COST  Frequency.5   REASONCODE  Frequency.6  \\\n0       5632.0     516.65       8031.0          NaN      15544.0   \n1       3389.0     621.45          3.0   72892002.0      14578.0   \n2       2705.0    2280.21          3.0   49436004.0       1231.0   \n3       2705.0    3375.82          3.0  254837009.0        653.0   \n4       1497.0     498.51          3.0  424132000.0        555.0   \n\n                                   REASONDESCRIPTION  Frequency.7  \n0                                                NaN      15544.0  \n1                                   Normal pregnancy      14578.0  \n2                                Atrial Fibrillation       1231.0  \n3            Malignant neoplasm of breast (disorder)        653.0  \n4  Non-small cell carcinoma of lung  TNM stage 1 ...        555.0  ",
      "text/html": "<div>\n<style scoped>\n    .dataframe tbody tr th:only-of-type {\n        vertical-align: middle;\n    }\n\n    .dataframe tbody tr th {\n        vertical-align: top;\n    }\n\n    .dataframe thead th {\n        text-align: right;\n    }\n</style>\n<table border=\"1\" class=\"dataframe\">\n  <thead>\n    <tr style=\"text-align: right;\">\n      <th></th>\n      <th>DATE</th>\n      <th>Frequency</th>\n      <th>PATIENT</th>\n      <th>Frequency.1</th>\n      <th>ENCOUNTER</th>\n      <th>Frequency.2</th>\n      <th>CODE</th>\n      <th>Frequency.3</th>\n      <th>DESCRIPTION</th>\n      <th>Frequency.4</th>\n      <th>BASE_COST</th>\n      <th>Frequency.5</th>\n      <th>REASONCODE</th>\n      <th>Frequency.6</th>\n      <th>REASONDESCRIPTION</th>\n      <th>Frequency.7</th>\n    </tr>\n  </thead>\n  <tbody>\n    <tr>\n      <th>0</th>\n      <td>2016-12-30T13:51:47Z</td>\n      <td>24.0</td>\n      <td>cae10920-f977-48b4-a0d3-4d70ad561fd1</td>\n      <td>1273.0</td>\n      <td>0f2eccff-7741-4ff2-a13a-656cbd78394a</td>\n      <td>21.0</td>\n      <td>430193006.0</td>\n      <td>5632.0</td>\n      <td>Medication Reconciliation (procedure)</td>\n      <td>5632.0</td>\n      <td>516.65</td>\n      <td>8031.0</td>\n      <td>NaN</td>\n      <td>15544.0</td>\n      <td>NaN</td>\n      <td>15544.0</td>\n    </tr>\n    <tr>\n      <th>1</th>\n      <td>2012-04-06T12:19:58Z</td>\n      <td>24.0</td>\n      <td>19d2cfb8-439b-454a-b47e-5274c219005b</td>\n      <td>1251.0</td>\n      <td>0f0c75b5-7aa2-4e50-9bce-35ec36397bcf</td>\n      <td>20.0</td>\n      <td>265764009.0</td>\n      <td>3389.0</td>\n      <td>Renal dialysis (procedure)</td>\n      <td>3389.0</td>\n      <td>621.45</td>\n      <td>3.0</td>\n      <td>72892002.0</td>\n      <td>14578.0</td>\n      <td>Normal pregnancy</td>\n      <td>14578.0</td>\n    </tr>\n    <tr>\n      <th>2</th>\n      <td>2016-12-17T18:46:04Z</td>\n      <td>24.0</td>\n      <td>3f336702-bf73-4fc8-bd59-3ba77fd65d0d</td>\n      <td>1232.0</td>\n      <td>52a69be5-95a4-417f-9e44-4e6ca77e47a5</td>\n      <td>20.0</td>\n      <td>274804006.0</td>\n      <td>2705.0</td>\n      <td>Auscultation of the fetal heart</td>\n      <td>2705.0</td>\n      <td>2280.21</td>\n      <td>3.0</td>\n      <td>49436004.0</td>\n      <td>1231.0</td>\n      <td>Atrial Fibrillation</td>\n      <td>1231.0</td>\n    </tr>\n    <tr>\n      <th>3</th>\n      <td>2012-12-22T06:41:05Z</td>\n      <td>24.0</td>\n      <td>3acf9313-1874-4dff-ab2a-3187516d92d6</td>\n      <td>478.0</td>\n      <td>1a98a614-f17d-4714-ad15-975b91e6f84d</td>\n      <td>20.0</td>\n      <td>225158009.0</td>\n      <td>2705.0</td>\n      <td>Evaluation of uterine fundal height</td>\n      <td>2705.0</td>\n      <td>3375.82</td>\n      <td>3.0</td>\n      <td>254837009.0</td>\n      <td>653.0</td>\n      <td>Malignant neoplasm of breast (disorder)</td>\n      <td>653.0</td>\n    </tr>\n    <tr>\n      <th>4</th>\n      <td>2018-03-29T21:30:58Z</td>\n      <td>24.0</td>\n      <td>10a4a009-2d24-4512-8506-f8d8c36255d5</td>\n      <td>317.0</td>\n      <td>43a43bbe-d73d-44be-8e2d-5b8e9a842f19</td>\n      <td>20.0</td>\n      <td>180256009.0</td>\n      <td>1497.0</td>\n      <td>Subcutaneous immunotherapy</td>\n      <td>1497.0</td>\n      <td>498.51</td>\n      <td>3.0</td>\n      <td>424132000.0</td>\n      <td>555.0</td>\n      <td>Non-small cell carcinoma of lung  TNM stage 1 ...</td>\n      <td>555.0</td>\n    </tr>\n  </tbody>\n</table>\n</div>"
     },
     "execution_count": 13,
     "metadata": {},
     "output_type": "execute_result"
    }
   ],
   "source": [
    "scan_report.parse('procedures.csv').head(5)"
   ],
   "metadata": {
    "collapsed": false,
    "pycharm": {
     "name": "#%%\n"
    }
   }
  },
  {
   "cell_type": "markdown",
   "source": [
    "On retrouve ici toutes les procédures médicales réalisées, ainsi que leurs raisons, dates, patients et praticien.\n",
    "On remarque que les procédures sont sans motif renseigné ou liées à la grossesse, qui représentent à eux seuls 86% des procédures.\n",
    "Le plus grand groupe de patients, 23% d'entre eux, paie la même somme : 516,65 euros.\n",
    "De plus, 3 patients ont à eux seuls presque 11% des traitements."
   ],
   "metadata": {
    "collapsed": false,
    "pycharm": {
     "name": "#%% md\n"
    }
   }
  },
  {
   "cell_type": "markdown",
   "source": [
    "#### Supplies"
   ],
   "metadata": {
    "collapsed": false,
    "pycharm": {
     "name": "#%% md\n"
    }
   }
  },
  {
   "cell_type": "code",
   "execution_count": 14,
   "outputs": [
    {
     "data": {
      "text/plain": "Empty DataFrame\nColumns: [DATE, Frequency, PATIENT, Frequency.1, ENCOUNTER, Frequency.2, CODE, Frequency.3, DESCRIPTION, Frequency.4, QUANTITY, Frequency.5]\nIndex: []",
      "text/html": "<div>\n<style scoped>\n    .dataframe tbody tr th:only-of-type {\n        vertical-align: middle;\n    }\n\n    .dataframe tbody tr th {\n        vertical-align: top;\n    }\n\n    .dataframe thead th {\n        text-align: right;\n    }\n</style>\n<table border=\"1\" class=\"dataframe\">\n  <thead>\n    <tr style=\"text-align: right;\">\n      <th></th>\n      <th>DATE</th>\n      <th>Frequency</th>\n      <th>PATIENT</th>\n      <th>Frequency.1</th>\n      <th>ENCOUNTER</th>\n      <th>Frequency.2</th>\n      <th>CODE</th>\n      <th>Frequency.3</th>\n      <th>DESCRIPTION</th>\n      <th>Frequency.4</th>\n      <th>QUANTITY</th>\n      <th>Frequency.5</th>\n    </tr>\n  </thead>\n  <tbody>\n  </tbody>\n</table>\n</div>"
     },
     "execution_count": 14,
     "metadata": {},
     "output_type": "execute_result"
    }
   ],
   "source": [
    "scan_report.parse(\"supplies.csv\").head(5)"
   ],
   "metadata": {
    "collapsed": false,
    "pycharm": {
     "name": "#%%\n"
    }
   }
  },
  {
   "cell_type": "markdown",
   "source": [
    "La table est vide."
   ],
   "metadata": {
    "collapsed": false,
    "pycharm": {
     "name": "#%% md\n"
    }
   }
  },
  {
   "cell_type": "markdown",
   "source": [
    "#### Payers"
   ],
   "metadata": {
    "collapsed": false,
    "pycharm": {
     "name": "#%% md\n"
    }
   }
  },
  {
   "cell_type": "code",
   "execution_count": 15,
   "outputs": [
    {
     "data": {
      "text/plain": "                                     Id  Frequency           NAME  \\\n0  b3221cfc-24fb-339e-823d-bc4136cbc4ed        1.0  Dual Eligible   \n1  d47b3510-2895-3b70-9897-342d681c769d        1.0          Aetna   \n2  047f6ec3-6215-35eb-9608-f9dda363a44c        1.0       Medicare   \n3  42c4fca7-f8a9-3cd1-982a-dd9751bf3e2a        1.0         Humana   \n4  7c4411ce-02f1-39b5-b9ec-dfbea9ad3c1a        1.0         Anthem   \n\n   Frequency.1               ADDRESS  Frequency.2        CITY  Frequency.3  \\\n0          1.0    7500 Security Blvd          3.0   Baltimore          3.0   \n1          1.0                   NaN          1.0         NaN          1.0   \n2          1.0        Michigan Plaza          1.0  Bloomfield          1.0   \n3          1.0      220 Virginia Ave          1.0     Chicago          1.0   \n4          1.0  900 Cottage Grove Rd          1.0  Minnetonka          1.0   \n\n  STATE_HEADQUARTERED  Frequency.4  ...  COVERED_IMMUNIZATIONS  Frequency.16  \\\n0                  MD          3.0  ...                   7022           1.0   \n1                  CT          2.0  ...                      0           1.0   \n2                 NaN          1.0  ...                   2557           1.0   \n3                  MN          1.0  ...                   6661           1.0   \n4                  IL          1.0  ...                    223           1.0   \n\n  UNCOVERED_IMMUNIZATIONS  Frequency.17  UNIQUE_CUSTOMERS  Frequency.18  \\\n0                     0.0           4.0               198           1.0   \n1                   156.0           1.0               297           1.0   \n2                   160.0           1.0                99           1.0   \n3                  3644.0           1.0                25           1.0   \n4                   195.0           1.0               307           1.0   \n\n   QOLS_AVG  Frequency.19  MEMBER_MONTHS  Frequency.20  \n0  0.932301           1.0          74040           1.0  \n1  1.134518           1.0          29760           1.0  \n2  0.927714           1.0           3348           1.0  \n3  0.931283           1.0          71304           1.0  \n4  0.812137           1.0          84276           1.0  \n\n[5 rows x 42 columns]",
      "text/html": "<div>\n<style scoped>\n    .dataframe tbody tr th:only-of-type {\n        vertical-align: middle;\n    }\n\n    .dataframe tbody tr th {\n        vertical-align: top;\n    }\n\n    .dataframe thead th {\n        text-align: right;\n    }\n</style>\n<table border=\"1\" class=\"dataframe\">\n  <thead>\n    <tr style=\"text-align: right;\">\n      <th></th>\n      <th>Id</th>\n      <th>Frequency</th>\n      <th>NAME</th>\n      <th>Frequency.1</th>\n      <th>ADDRESS</th>\n      <th>Frequency.2</th>\n      <th>CITY</th>\n      <th>Frequency.3</th>\n      <th>STATE_HEADQUARTERED</th>\n      <th>Frequency.4</th>\n      <th>...</th>\n      <th>COVERED_IMMUNIZATIONS</th>\n      <th>Frequency.16</th>\n      <th>UNCOVERED_IMMUNIZATIONS</th>\n      <th>Frequency.17</th>\n      <th>UNIQUE_CUSTOMERS</th>\n      <th>Frequency.18</th>\n      <th>QOLS_AVG</th>\n      <th>Frequency.19</th>\n      <th>MEMBER_MONTHS</th>\n      <th>Frequency.20</th>\n    </tr>\n  </thead>\n  <tbody>\n    <tr>\n      <th>0</th>\n      <td>b3221cfc-24fb-339e-823d-bc4136cbc4ed</td>\n      <td>1.0</td>\n      <td>Dual Eligible</td>\n      <td>1.0</td>\n      <td>7500 Security Blvd</td>\n      <td>3.0</td>\n      <td>Baltimore</td>\n      <td>3.0</td>\n      <td>MD</td>\n      <td>3.0</td>\n      <td>...</td>\n      <td>7022</td>\n      <td>1.0</td>\n      <td>0.0</td>\n      <td>4.0</td>\n      <td>198</td>\n      <td>1.0</td>\n      <td>0.932301</td>\n      <td>1.0</td>\n      <td>74040</td>\n      <td>1.0</td>\n    </tr>\n    <tr>\n      <th>1</th>\n      <td>d47b3510-2895-3b70-9897-342d681c769d</td>\n      <td>1.0</td>\n      <td>Aetna</td>\n      <td>1.0</td>\n      <td>NaN</td>\n      <td>1.0</td>\n      <td>NaN</td>\n      <td>1.0</td>\n      <td>CT</td>\n      <td>2.0</td>\n      <td>...</td>\n      <td>0</td>\n      <td>1.0</td>\n      <td>156.0</td>\n      <td>1.0</td>\n      <td>297</td>\n      <td>1.0</td>\n      <td>1.134518</td>\n      <td>1.0</td>\n      <td>29760</td>\n      <td>1.0</td>\n    </tr>\n    <tr>\n      <th>2</th>\n      <td>047f6ec3-6215-35eb-9608-f9dda363a44c</td>\n      <td>1.0</td>\n      <td>Medicare</td>\n      <td>1.0</td>\n      <td>Michigan Plaza</td>\n      <td>1.0</td>\n      <td>Bloomfield</td>\n      <td>1.0</td>\n      <td>NaN</td>\n      <td>1.0</td>\n      <td>...</td>\n      <td>2557</td>\n      <td>1.0</td>\n      <td>160.0</td>\n      <td>1.0</td>\n      <td>99</td>\n      <td>1.0</td>\n      <td>0.927714</td>\n      <td>1.0</td>\n      <td>3348</td>\n      <td>1.0</td>\n    </tr>\n    <tr>\n      <th>3</th>\n      <td>42c4fca7-f8a9-3cd1-982a-dd9751bf3e2a</td>\n      <td>1.0</td>\n      <td>Humana</td>\n      <td>1.0</td>\n      <td>220 Virginia Ave</td>\n      <td>1.0</td>\n      <td>Chicago</td>\n      <td>1.0</td>\n      <td>MN</td>\n      <td>1.0</td>\n      <td>...</td>\n      <td>6661</td>\n      <td>1.0</td>\n      <td>3644.0</td>\n      <td>1.0</td>\n      <td>25</td>\n      <td>1.0</td>\n      <td>0.931283</td>\n      <td>1.0</td>\n      <td>71304</td>\n      <td>1.0</td>\n    </tr>\n    <tr>\n      <th>4</th>\n      <td>7c4411ce-02f1-39b5-b9ec-dfbea9ad3c1a</td>\n      <td>1.0</td>\n      <td>Anthem</td>\n      <td>1.0</td>\n      <td>900 Cottage Grove Rd</td>\n      <td>1.0</td>\n      <td>Minnetonka</td>\n      <td>1.0</td>\n      <td>IL</td>\n      <td>1.0</td>\n      <td>...</td>\n      <td>223</td>\n      <td>1.0</td>\n      <td>195.0</td>\n      <td>1.0</td>\n      <td>307</td>\n      <td>1.0</td>\n      <td>0.812137</td>\n      <td>1.0</td>\n      <td>84276</td>\n      <td>1.0</td>\n    </tr>\n  </tbody>\n</table>\n<p>5 rows × 42 columns</p>\n</div>"
     },
     "execution_count": 15,
     "metadata": {},
     "output_type": "execute_result"
    }
   ],
   "source": [
    "scan_report.parse(\"payers.csv\").head(5)"
   ],
   "metadata": {
    "collapsed": false,
    "pycharm": {
     "name": "#%%\n"
    }
   }
  },
  {
   "cell_type": "markdown",
   "source": [
    "La table contient toutes les informations des payants.\n",
    "\n",
    "On remarque qu'une entreprise n'a rien couvert, et que pour chaque catégorie à couvrir, un acteur a tout couvert alors qu'un autre n'a rien couvert"
   ],
   "metadata": {
    "collapsed": false,
    "pycharm": {
     "name": "#%% md\n"
    }
   }
  },
  {
   "cell_type": "markdown",
   "source": [
    "#### Careplans"
   ],
   "metadata": {
    "collapsed": false,
    "pycharm": {
     "name": "#%% md\n"
    }
   }
  },
  {
   "cell_type": "code",
   "execution_count": 16,
   "outputs": [
    {
     "data": {
      "text/plain": "                                     Id  Frequency       START  Frequency.1  \\\n0  d7482540-24ef-472e-9d75-a82e153b1b96        1.0  2014-11-12          5.0   \n1  287c943a-8e90-4e6b-be43-10e9dacf9559        1.0  2017-06-01          5.0   \n2  ddc345b1-c0ef-458c-908f-24266287fa3a        1.0  2011-11-13          5.0   \n3  d0747c3d-756c-4745-b9b3-eda8c1dbd189        1.0  2013-10-04          5.0   \n4  0d46ddee-0703-47f1-8e2b-9ae3ba00a192        1.0  1941-07-08          4.0   \n\n         STOP  Frequency.2                               PATIENT  Frequency.3  \\\n0         NaN       1532.0  66135cde-428a-4cf7-bc1d-d5ddce40d9cd         12.0   \n1  2013-01-20          4.0  4f9dcdaa-fb47-412b-8288-03f8cbbc321e         12.0   \n2  2011-01-18          4.0  3acf9313-1874-4dff-ab2a-3187516d92d6         10.0   \n3  2014-01-10          4.0  df7c1d66-eac2-49bd-9d12-ee17e8758f68          9.0   \n4  2019-05-12          4.0  6dafa93d-3698-4124-9bbd-7429cc2a7374          9.0   \n\n                              ENCOUNTER  Frequency.4         CODE  \\\n0  fa9c2111-5159-4d62-8038-b5513af3a337          2.0   53950000.0   \n1  bac29aef-34af-4807-8006-cec4c29f288f          2.0  134435003.0   \n2  3f03fdf7-4c41-462f-b840-a81cfd4143ea          2.0  698360004.0   \n3  26ade70b-82b3-455b-b283-188c9b281811          2.0  443402002.0   \n4  b430fc7d-ffcc-4f5c-83ad-6e7b36681003          2.0   91251008.0   \n\n   Frequency.5                                 DESCRIPTION  Frequency.6  \\\n0        633.0                         Respiratory therapy        633.0   \n1        397.0                      Routine antenatal care        397.0   \n2        339.0               Diabetes self management plan        339.0   \n3        302.0  Lifestyle education regarding hypertension        302.0   \n4        230.0                  Physical therapy procedure        230.0   \n\n   REASONCODE  Frequency.7            REASONDESCRIPTION  Frequency.8  \n0  10509002.0        633.0  Acute bronchitis (disorder)        633.0  \n1  72892002.0        397.0             Normal pregnancy        397.0  \n2         NaN        327.0                          NaN        327.0  \n3  59621000.0        302.0                 Hypertension        302.0  \n4  15777000.0        295.0                  Prediabetes        295.0  ",
      "text/html": "<div>\n<style scoped>\n    .dataframe tbody tr th:only-of-type {\n        vertical-align: middle;\n    }\n\n    .dataframe tbody tr th {\n        vertical-align: top;\n    }\n\n    .dataframe thead th {\n        text-align: right;\n    }\n</style>\n<table border=\"1\" class=\"dataframe\">\n  <thead>\n    <tr style=\"text-align: right;\">\n      <th></th>\n      <th>Id</th>\n      <th>Frequency</th>\n      <th>START</th>\n      <th>Frequency.1</th>\n      <th>STOP</th>\n      <th>Frequency.2</th>\n      <th>PATIENT</th>\n      <th>Frequency.3</th>\n      <th>ENCOUNTER</th>\n      <th>Frequency.4</th>\n      <th>CODE</th>\n      <th>Frequency.5</th>\n      <th>DESCRIPTION</th>\n      <th>Frequency.6</th>\n      <th>REASONCODE</th>\n      <th>Frequency.7</th>\n      <th>REASONDESCRIPTION</th>\n      <th>Frequency.8</th>\n    </tr>\n  </thead>\n  <tbody>\n    <tr>\n      <th>0</th>\n      <td>d7482540-24ef-472e-9d75-a82e153b1b96</td>\n      <td>1.0</td>\n      <td>2014-11-12</td>\n      <td>5.0</td>\n      <td>NaN</td>\n      <td>1532.0</td>\n      <td>66135cde-428a-4cf7-bc1d-d5ddce40d9cd</td>\n      <td>12.0</td>\n      <td>fa9c2111-5159-4d62-8038-b5513af3a337</td>\n      <td>2.0</td>\n      <td>53950000.0</td>\n      <td>633.0</td>\n      <td>Respiratory therapy</td>\n      <td>633.0</td>\n      <td>10509002.0</td>\n      <td>633.0</td>\n      <td>Acute bronchitis (disorder)</td>\n      <td>633.0</td>\n    </tr>\n    <tr>\n      <th>1</th>\n      <td>287c943a-8e90-4e6b-be43-10e9dacf9559</td>\n      <td>1.0</td>\n      <td>2017-06-01</td>\n      <td>5.0</td>\n      <td>2013-01-20</td>\n      <td>4.0</td>\n      <td>4f9dcdaa-fb47-412b-8288-03f8cbbc321e</td>\n      <td>12.0</td>\n      <td>bac29aef-34af-4807-8006-cec4c29f288f</td>\n      <td>2.0</td>\n      <td>134435003.0</td>\n      <td>397.0</td>\n      <td>Routine antenatal care</td>\n      <td>397.0</td>\n      <td>72892002.0</td>\n      <td>397.0</td>\n      <td>Normal pregnancy</td>\n      <td>397.0</td>\n    </tr>\n    <tr>\n      <th>2</th>\n      <td>ddc345b1-c0ef-458c-908f-24266287fa3a</td>\n      <td>1.0</td>\n      <td>2011-11-13</td>\n      <td>5.0</td>\n      <td>2011-01-18</td>\n      <td>4.0</td>\n      <td>3acf9313-1874-4dff-ab2a-3187516d92d6</td>\n      <td>10.0</td>\n      <td>3f03fdf7-4c41-462f-b840-a81cfd4143ea</td>\n      <td>2.0</td>\n      <td>698360004.0</td>\n      <td>339.0</td>\n      <td>Diabetes self management plan</td>\n      <td>339.0</td>\n      <td>NaN</td>\n      <td>327.0</td>\n      <td>NaN</td>\n      <td>327.0</td>\n    </tr>\n    <tr>\n      <th>3</th>\n      <td>d0747c3d-756c-4745-b9b3-eda8c1dbd189</td>\n      <td>1.0</td>\n      <td>2013-10-04</td>\n      <td>5.0</td>\n      <td>2014-01-10</td>\n      <td>4.0</td>\n      <td>df7c1d66-eac2-49bd-9d12-ee17e8758f68</td>\n      <td>9.0</td>\n      <td>26ade70b-82b3-455b-b283-188c9b281811</td>\n      <td>2.0</td>\n      <td>443402002.0</td>\n      <td>302.0</td>\n      <td>Lifestyle education regarding hypertension</td>\n      <td>302.0</td>\n      <td>59621000.0</td>\n      <td>302.0</td>\n      <td>Hypertension</td>\n      <td>302.0</td>\n    </tr>\n    <tr>\n      <th>4</th>\n      <td>0d46ddee-0703-47f1-8e2b-9ae3ba00a192</td>\n      <td>1.0</td>\n      <td>1941-07-08</td>\n      <td>4.0</td>\n      <td>2019-05-12</td>\n      <td>4.0</td>\n      <td>6dafa93d-3698-4124-9bbd-7429cc2a7374</td>\n      <td>9.0</td>\n      <td>b430fc7d-ffcc-4f5c-83ad-6e7b36681003</td>\n      <td>2.0</td>\n      <td>91251008.0</td>\n      <td>230.0</td>\n      <td>Physical therapy procedure</td>\n      <td>230.0</td>\n      <td>15777000.0</td>\n      <td>295.0</td>\n      <td>Prediabetes</td>\n      <td>295.0</td>\n    </tr>\n  </tbody>\n</table>\n</div>"
     },
     "execution_count": 16,
     "metadata": {},
     "output_type": "execute_result"
    }
   ],
   "source": [
    "scan_report.parse(\"careplans.csv\").head(5)"
   ],
   "metadata": {
    "collapsed": false,
    "pycharm": {
     "name": "#%%\n"
    }
   }
  },
  {
   "cell_type": "markdown",
   "source": [
    "Le fichier présente les traitements suivis ou ayant été suivis par les patients.\n",
    "44% des traitements n'ont pas encore de fin.\n",
    "327 traitements n'ont par ailleurs pas de code de raison, ni de description de raison associée. Quel genre de traitement cela peut-il être ?"
   ],
   "metadata": {
    "collapsed": false,
    "pycharm": {
     "name": "#%% md\n"
    }
   }
  },
  {
   "cell_type": "markdown",
   "source": [
    "#### Payer Transitions"
   ],
   "metadata": {
    "collapsed": false,
    "pycharm": {
     "name": "#%% md\n"
    }
   }
  },
  {
   "cell_type": "code",
   "execution_count": 17,
   "outputs": [
    {
     "data": {
      "text/plain": "                                PATIENT  Frequency  START_YEAR  Frequency.1  \\\n0  baffdce5-d444-4c8c-a815-e7d00a01f7ca       23.0      1992.0         85.0   \n1  e974e5c3-9b22-41f2-b3a3-c12848f29a73       21.0      1988.0         77.0   \n2  23365743-e8f2-4aba-8242-15463f81f81b       19.0      1999.0         77.0   \n3  0325261f-61eb-46f8-acc6-89d15053fecd       18.0      1986.0         73.0   \n4  3a645748-8ddc-4876-8674-5c1ac5bf2899       18.0      1981.0         68.0   \n\n   END_YEAR  Frequency.2                                 PAYER  Frequency.3  \\\n0    1998.0         82.0  7c4411ce-02f1-39b5-b9ec-dfbea9ad3c1a       1416.0   \n1    1995.0         80.0  6e2f1a2d-27bd-3701-8d08-dae202c58632        352.0   \n2    2015.0         77.0  5059a55e-5d6e-34d1-b6cb-d83d16e57bcf        340.0   \n3    1991.0         76.0  047f6ec3-6215-35eb-9608-f9dda363a44c        318.0   \n4    2018.0         76.0  d47b3510-2895-3b70-9897-342d681c769d        307.0   \n\n  OWNERSHIP  Frequency.4  \n0      Self       2299.0  \n1  Guardian        779.0  \n2    Spouse        487.0  \n3       NaN        236.0  \n4       NaN          NaN  ",
      "text/html": "<div>\n<style scoped>\n    .dataframe tbody tr th:only-of-type {\n        vertical-align: middle;\n    }\n\n    .dataframe tbody tr th {\n        vertical-align: top;\n    }\n\n    .dataframe thead th {\n        text-align: right;\n    }\n</style>\n<table border=\"1\" class=\"dataframe\">\n  <thead>\n    <tr style=\"text-align: right;\">\n      <th></th>\n      <th>PATIENT</th>\n      <th>Frequency</th>\n      <th>START_YEAR</th>\n      <th>Frequency.1</th>\n      <th>END_YEAR</th>\n      <th>Frequency.2</th>\n      <th>PAYER</th>\n      <th>Frequency.3</th>\n      <th>OWNERSHIP</th>\n      <th>Frequency.4</th>\n    </tr>\n  </thead>\n  <tbody>\n    <tr>\n      <th>0</th>\n      <td>baffdce5-d444-4c8c-a815-e7d00a01f7ca</td>\n      <td>23.0</td>\n      <td>1992.0</td>\n      <td>85.0</td>\n      <td>1998.0</td>\n      <td>82.0</td>\n      <td>7c4411ce-02f1-39b5-b9ec-dfbea9ad3c1a</td>\n      <td>1416.0</td>\n      <td>Self</td>\n      <td>2299.0</td>\n    </tr>\n    <tr>\n      <th>1</th>\n      <td>e974e5c3-9b22-41f2-b3a3-c12848f29a73</td>\n      <td>21.0</td>\n      <td>1988.0</td>\n      <td>77.0</td>\n      <td>1995.0</td>\n      <td>80.0</td>\n      <td>6e2f1a2d-27bd-3701-8d08-dae202c58632</td>\n      <td>352.0</td>\n      <td>Guardian</td>\n      <td>779.0</td>\n    </tr>\n    <tr>\n      <th>2</th>\n      <td>23365743-e8f2-4aba-8242-15463f81f81b</td>\n      <td>19.0</td>\n      <td>1999.0</td>\n      <td>77.0</td>\n      <td>2015.0</td>\n      <td>77.0</td>\n      <td>5059a55e-5d6e-34d1-b6cb-d83d16e57bcf</td>\n      <td>340.0</td>\n      <td>Spouse</td>\n      <td>487.0</td>\n    </tr>\n    <tr>\n      <th>3</th>\n      <td>0325261f-61eb-46f8-acc6-89d15053fecd</td>\n      <td>18.0</td>\n      <td>1986.0</td>\n      <td>73.0</td>\n      <td>1991.0</td>\n      <td>76.0</td>\n      <td>047f6ec3-6215-35eb-9608-f9dda363a44c</td>\n      <td>318.0</td>\n      <td>NaN</td>\n      <td>236.0</td>\n    </tr>\n    <tr>\n      <th>4</th>\n      <td>3a645748-8ddc-4876-8674-5c1ac5bf2899</td>\n      <td>18.0</td>\n      <td>1981.0</td>\n      <td>68.0</td>\n      <td>2018.0</td>\n      <td>76.0</td>\n      <td>d47b3510-2895-3b70-9897-342d681c769d</td>\n      <td>307.0</td>\n      <td>NaN</td>\n      <td>NaN</td>\n    </tr>\n  </tbody>\n</table>\n</div>"
     },
     "execution_count": 17,
     "metadata": {},
     "output_type": "execute_result"
    }
   ],
   "source": [
    "scan_report.parse(\"payer_transitions.csv\").head(5)"
   ],
   "metadata": {
    "collapsed": false,
    "pycharm": {
     "name": "#%%\n"
    }
   }
  },
  {
   "cell_type": "markdown",
   "source": [
    "Le fichier décrit les informations de responsabilité de paiement.\n",
    "La majorité des paiements sont assumés par le patient ou son épouse."
   ],
   "metadata": {
    "collapsed": false,
    "pycharm": {
     "name": "#%% md\n"
    }
   }
  },
  {
   "cell_type": "markdown",
   "source": [
    "#### Immunizations"
   ],
   "metadata": {
    "collapsed": false,
    "pycharm": {
     "name": "#%% md\n"
    }
   }
  },
  {
   "cell_type": "code",
   "execution_count": 18,
   "outputs": [
    {
     "data": {
      "text/plain": "                   DATE  Frequency                               PATIENT  \\\n0  2019-04-03T13:37:35Z       10.0  4217ed61-af8b-47be-80d2-c84336bc01a2   \n1  2018-10-31T13:37:35Z       10.0  8b18172e-bdf3-4998-aa8b-0db6887cdf53   \n2  2019-01-02T13:37:35Z       10.0  17c1cce5-2df1-4597-90fa-60cbe557b210   \n3  2011-12-06T20:46:46Z        7.0  bc95d200-52fc-49cd-b128-8f4150cb4714   \n4  2010-09-04T16:16:46Z        6.0  ee74256b-7850-4a07-9034-6497aee04256   \n\n   Frequency.1                             ENCOUNTER  Frequency.2   CODE  \\\n0         36.0  47d81e79-eac9-4963-aed3-e693a7a2a273          6.0  140.0   \n1         36.0  a93f0907-db09-4855-a220-641b2fa253a1          6.0  113.0   \n2         36.0  589d96f3-d65f-4679-8fa6-e0e67ac4f8dc          6.0  133.0   \n3         36.0  884b05cf-7fd4-4f32-a9ac-815f67ca3d70          6.0   20.0   \n4         36.0  6484f157-8a46-4eb1-86e5-12f162b71db5          6.0   10.0   \n\n   Frequency.3                                        DESCRIPTION  \\\n0       9385.0  Influenza  seasonal  injectable  preservative ...   \n1        830.0                       Td (adult) preservative free   \n2        661.0                      Pneumococcal conjugate PCV 13   \n3        572.0                                               DTaP   \n4        481.0                                                IPV   \n\n   Frequency.4  BASE_COST  Frequency.5  \n0       9385.0     140.52      15478.0  \n1        830.0        NaN          NaN  \n2        661.0        NaN          NaN  \n3        572.0        NaN          NaN  \n4        481.0        NaN          NaN  ",
      "text/html": "<div>\n<style scoped>\n    .dataframe tbody tr th:only-of-type {\n        vertical-align: middle;\n    }\n\n    .dataframe tbody tr th {\n        vertical-align: top;\n    }\n\n    .dataframe thead th {\n        text-align: right;\n    }\n</style>\n<table border=\"1\" class=\"dataframe\">\n  <thead>\n    <tr style=\"text-align: right;\">\n      <th></th>\n      <th>DATE</th>\n      <th>Frequency</th>\n      <th>PATIENT</th>\n      <th>Frequency.1</th>\n      <th>ENCOUNTER</th>\n      <th>Frequency.2</th>\n      <th>CODE</th>\n      <th>Frequency.3</th>\n      <th>DESCRIPTION</th>\n      <th>Frequency.4</th>\n      <th>BASE_COST</th>\n      <th>Frequency.5</th>\n    </tr>\n  </thead>\n  <tbody>\n    <tr>\n      <th>0</th>\n      <td>2019-04-03T13:37:35Z</td>\n      <td>10.0</td>\n      <td>4217ed61-af8b-47be-80d2-c84336bc01a2</td>\n      <td>36.0</td>\n      <td>47d81e79-eac9-4963-aed3-e693a7a2a273</td>\n      <td>6.0</td>\n      <td>140.0</td>\n      <td>9385.0</td>\n      <td>Influenza  seasonal  injectable  preservative ...</td>\n      <td>9385.0</td>\n      <td>140.52</td>\n      <td>15478.0</td>\n    </tr>\n    <tr>\n      <th>1</th>\n      <td>2018-10-31T13:37:35Z</td>\n      <td>10.0</td>\n      <td>8b18172e-bdf3-4998-aa8b-0db6887cdf53</td>\n      <td>36.0</td>\n      <td>a93f0907-db09-4855-a220-641b2fa253a1</td>\n      <td>6.0</td>\n      <td>113.0</td>\n      <td>830.0</td>\n      <td>Td (adult) preservative free</td>\n      <td>830.0</td>\n      <td>NaN</td>\n      <td>NaN</td>\n    </tr>\n    <tr>\n      <th>2</th>\n      <td>2019-01-02T13:37:35Z</td>\n      <td>10.0</td>\n      <td>17c1cce5-2df1-4597-90fa-60cbe557b210</td>\n      <td>36.0</td>\n      <td>589d96f3-d65f-4679-8fa6-e0e67ac4f8dc</td>\n      <td>6.0</td>\n      <td>133.0</td>\n      <td>661.0</td>\n      <td>Pneumococcal conjugate PCV 13</td>\n      <td>661.0</td>\n      <td>NaN</td>\n      <td>NaN</td>\n    </tr>\n    <tr>\n      <th>3</th>\n      <td>2011-12-06T20:46:46Z</td>\n      <td>7.0</td>\n      <td>bc95d200-52fc-49cd-b128-8f4150cb4714</td>\n      <td>36.0</td>\n      <td>884b05cf-7fd4-4f32-a9ac-815f67ca3d70</td>\n      <td>6.0</td>\n      <td>20.0</td>\n      <td>572.0</td>\n      <td>DTaP</td>\n      <td>572.0</td>\n      <td>NaN</td>\n      <td>NaN</td>\n    </tr>\n    <tr>\n      <th>4</th>\n      <td>2010-09-04T16:16:46Z</td>\n      <td>6.0</td>\n      <td>ee74256b-7850-4a07-9034-6497aee04256</td>\n      <td>36.0</td>\n      <td>6484f157-8a46-4eb1-86e5-12f162b71db5</td>\n      <td>6.0</td>\n      <td>10.0</td>\n      <td>481.0</td>\n      <td>IPV</td>\n      <td>481.0</td>\n      <td>NaN</td>\n      <td>NaN</td>\n    </tr>\n  </tbody>\n</table>\n</div>"
     },
     "execution_count": 18,
     "metadata": {},
     "output_type": "execute_result"
    }
   ],
   "source": [
    "scan_report.parse(\"immunizations.csv\").head(5)"
   ],
   "metadata": {
    "collapsed": false,
    "pycharm": {
     "name": "#%%\n"
    }
   }
  },
  {
   "cell_type": "markdown",
   "source": [
    "La feuille regroupe les vaccins injectés aux patients.\n",
    "Le vaccin le plus utilisé, dans 60% des cas, sont des vaccins contre la grippe saisonnière.\n",
    "On note que le coût est toujours le même peu importe le type de vaccin."
   ],
   "metadata": {
    "collapsed": false,
    "pycharm": {
     "name": "#%% md\n"
    }
   }
  },
  {
   "cell_type": "markdown",
   "source": [
    "#### Imaging Studies"
   ],
   "metadata": {
    "collapsed": false,
    "pycharm": {
     "name": "#%% md\n"
    }
   }
  },
  {
   "cell_type": "code",
   "execution_count": 19,
   "outputs": [
    {
     "data": {
      "text/plain": "                                     Id  Frequency                  DATE  \\\n0  501200f8-4cec-4fb6-9b6e-31f2f7553a67        1.0  2020-03-28T12:12:10Z   \n1  4221534c-d379-4c6b-a22e-d7eae3fa2609        1.0  2013-02-26T13:04:22Z   \n2  697f923a-d9f8-4e29-988b-b6345f06a16c        1.0  2016-04-15T13:04:22Z   \n3  68be9f41-c0f6-427e-8cef-b94ea516c31c        1.0  2019-03-21T23:46:24Z   \n4  9767d744-0269-4635-95fa-4c9ae7e63cbb        1.0  2016-10-05T06:04:10Z   \n\n   Frequency.1                               PATIENT  Frequency.2  \\\n0          3.0  941f66eb-5ca6-45cc-b205-6de1f1a59233         59.0   \n1          3.0  d4adfa2e-89ba-4ae6-9770-ef5a7ec4173a         59.0   \n2          3.0  b2b612b0-d4ac-4b83-8d33-4ed6b295c01c         46.0   \n3          3.0  e1b30dc8-2618-42c1-a3f8-9c2d8ac49c5f         36.0   \n4          3.0  36421d27-328e-4b13-9fca-903c19fe49dd         36.0   \n\n                              ENCOUNTER  Frequency.3  BODYSITE_CODE  \\\n0  5f486dd5-9d6b-44c8-b70e-03b46d7d8bc4          3.0     51185008.0   \n1  3b8e60c5-a48f-4467-9acb-c621571fc7cc          3.0    261179002.0   \n2  464acd51-87e3-4487-96c7-1de14d76bf22          2.0     40983000.0   \n3  2c3283e4-7235-4d65-b5bc-27e99bf12561          2.0      8205005.0   \n4  97d800fe-8d91-4f9c-a14c-b70e2669cecd          2.0       344001.0   \n\n   Frequency.4                 BODYSITE_DESCRIPTION  Frequency.5  \\\n0        484.0  Thoracic structure (body structure)        404.0   \n1        172.0                             thoracic        113.0   \n2         48.0                   Thoracic structure         61.0   \n3         47.0                             Thoracic         59.0   \n4         32.0                                  Arm         48.0   \n\n  MODALITY_CODE  Frequency.6  MODALITY_DESCRIPTION  Frequency.7  \\\n0            CT        328.0   Computed Tomography        328.0   \n1            DX        278.0   Digital Radiography        278.0   \n2            US        173.0            Ultrasound        173.0   \n3            CR         76.0  Computed Radiography         76.0   \n4           NaN          NaN                   NaN          NaN   \n\n                      SOP_CODE  Frequency.8  \\\n0  1.2.840.10008.5.1.4.1.1.1.1        354.0   \n1    1.2.840.10008.5.1.4.1.1.2        328.0   \n2  1.2.840.10008.5.1.4.1.1.3.1        172.0   \n3  1.2.840.10008.5.1.4.1.1.6.1          1.0   \n4                          NaN          NaN   \n\n                                  SOP_DESCRIPTION  Frequency.9  \n0                                CT Image Storage        328.0  \n1                     Digital X-Ray Image Storage        217.0  \n2             Ultrasound Multiframe Image Storage        172.0  \n3  Digital X-Ray Image Storage – for Presentation        137.0  \n4                        Ultrasound Image Storage          1.0  ",
      "text/html": "<div>\n<style scoped>\n    .dataframe tbody tr th:only-of-type {\n        vertical-align: middle;\n    }\n\n    .dataframe tbody tr th {\n        vertical-align: top;\n    }\n\n    .dataframe thead th {\n        text-align: right;\n    }\n</style>\n<table border=\"1\" class=\"dataframe\">\n  <thead>\n    <tr style=\"text-align: right;\">\n      <th></th>\n      <th>Id</th>\n      <th>Frequency</th>\n      <th>DATE</th>\n      <th>Frequency.1</th>\n      <th>PATIENT</th>\n      <th>Frequency.2</th>\n      <th>ENCOUNTER</th>\n      <th>Frequency.3</th>\n      <th>BODYSITE_CODE</th>\n      <th>Frequency.4</th>\n      <th>BODYSITE_DESCRIPTION</th>\n      <th>Frequency.5</th>\n      <th>MODALITY_CODE</th>\n      <th>Frequency.6</th>\n      <th>MODALITY_DESCRIPTION</th>\n      <th>Frequency.7</th>\n      <th>SOP_CODE</th>\n      <th>Frequency.8</th>\n      <th>SOP_DESCRIPTION</th>\n      <th>Frequency.9</th>\n    </tr>\n  </thead>\n  <tbody>\n    <tr>\n      <th>0</th>\n      <td>501200f8-4cec-4fb6-9b6e-31f2f7553a67</td>\n      <td>1.0</td>\n      <td>2020-03-28T12:12:10Z</td>\n      <td>3.0</td>\n      <td>941f66eb-5ca6-45cc-b205-6de1f1a59233</td>\n      <td>59.0</td>\n      <td>5f486dd5-9d6b-44c8-b70e-03b46d7d8bc4</td>\n      <td>3.0</td>\n      <td>51185008.0</td>\n      <td>484.0</td>\n      <td>Thoracic structure (body structure)</td>\n      <td>404.0</td>\n      <td>CT</td>\n      <td>328.0</td>\n      <td>Computed Tomography</td>\n      <td>328.0</td>\n      <td>1.2.840.10008.5.1.4.1.1.1.1</td>\n      <td>354.0</td>\n      <td>CT Image Storage</td>\n      <td>328.0</td>\n    </tr>\n    <tr>\n      <th>1</th>\n      <td>4221534c-d379-4c6b-a22e-d7eae3fa2609</td>\n      <td>1.0</td>\n      <td>2013-02-26T13:04:22Z</td>\n      <td>3.0</td>\n      <td>d4adfa2e-89ba-4ae6-9770-ef5a7ec4173a</td>\n      <td>59.0</td>\n      <td>3b8e60c5-a48f-4467-9acb-c621571fc7cc</td>\n      <td>3.0</td>\n      <td>261179002.0</td>\n      <td>172.0</td>\n      <td>thoracic</td>\n      <td>113.0</td>\n      <td>DX</td>\n      <td>278.0</td>\n      <td>Digital Radiography</td>\n      <td>278.0</td>\n      <td>1.2.840.10008.5.1.4.1.1.2</td>\n      <td>328.0</td>\n      <td>Digital X-Ray Image Storage</td>\n      <td>217.0</td>\n    </tr>\n    <tr>\n      <th>2</th>\n      <td>697f923a-d9f8-4e29-988b-b6345f06a16c</td>\n      <td>1.0</td>\n      <td>2016-04-15T13:04:22Z</td>\n      <td>3.0</td>\n      <td>b2b612b0-d4ac-4b83-8d33-4ed6b295c01c</td>\n      <td>46.0</td>\n      <td>464acd51-87e3-4487-96c7-1de14d76bf22</td>\n      <td>2.0</td>\n      <td>40983000.0</td>\n      <td>48.0</td>\n      <td>Thoracic structure</td>\n      <td>61.0</td>\n      <td>US</td>\n      <td>173.0</td>\n      <td>Ultrasound</td>\n      <td>173.0</td>\n      <td>1.2.840.10008.5.1.4.1.1.3.1</td>\n      <td>172.0</td>\n      <td>Ultrasound Multiframe Image Storage</td>\n      <td>172.0</td>\n    </tr>\n    <tr>\n      <th>3</th>\n      <td>68be9f41-c0f6-427e-8cef-b94ea516c31c</td>\n      <td>1.0</td>\n      <td>2019-03-21T23:46:24Z</td>\n      <td>3.0</td>\n      <td>e1b30dc8-2618-42c1-a3f8-9c2d8ac49c5f</td>\n      <td>36.0</td>\n      <td>2c3283e4-7235-4d65-b5bc-27e99bf12561</td>\n      <td>2.0</td>\n      <td>8205005.0</td>\n      <td>47.0</td>\n      <td>Thoracic</td>\n      <td>59.0</td>\n      <td>CR</td>\n      <td>76.0</td>\n      <td>Computed Radiography</td>\n      <td>76.0</td>\n      <td>1.2.840.10008.5.1.4.1.1.6.1</td>\n      <td>1.0</td>\n      <td>Digital X-Ray Image Storage – for Presentation</td>\n      <td>137.0</td>\n    </tr>\n    <tr>\n      <th>4</th>\n      <td>9767d744-0269-4635-95fa-4c9ae7e63cbb</td>\n      <td>1.0</td>\n      <td>2016-10-05T06:04:10Z</td>\n      <td>3.0</td>\n      <td>36421d27-328e-4b13-9fca-903c19fe49dd</td>\n      <td>36.0</td>\n      <td>97d800fe-8d91-4f9c-a14c-b70e2669cecd</td>\n      <td>2.0</td>\n      <td>344001.0</td>\n      <td>32.0</td>\n      <td>Arm</td>\n      <td>48.0</td>\n      <td>NaN</td>\n      <td>NaN</td>\n      <td>NaN</td>\n      <td>NaN</td>\n      <td>NaN</td>\n      <td>NaN</td>\n      <td>Ultrasound Image Storage</td>\n      <td>1.0</td>\n    </tr>\n  </tbody>\n</table>\n</div>"
     },
     "execution_count": 19,
     "metadata": {},
     "output_type": "execute_result"
    }
   ],
   "source": [
    "scan_report.parse(\"imaging_studies.csv\").head(5)"
   ],
   "metadata": {
    "collapsed": false,
    "pycharm": {
     "name": "#%%\n"
    }
   }
  },
  {
   "cell_type": "markdown",
   "source": [
    "Le fichier regroupe toutes les informations liées à une prise d'imagerie sur un patient.\n",
    "On note que 4 catégories du site imagé réfère à la même notion du thorax, mais utilisant des terminologies différentes, ce qui pourrait fausser les études sur ce champ.\n",
    "Ce type d'imagerie représente en plus presque 75% des images prises sur des patients, ce qui aggrave l'impact de l'erreur de terminologie."
   ],
   "metadata": {
    "collapsed": false,
    "pycharm": {
     "name": "#%% md\n"
    }
   }
  },
  {
   "cell_type": "markdown",
   "source": [
    "#### Medications"
   ],
   "metadata": {
    "collapsed": false,
    "pycharm": {
     "name": "#%% md\n"
    }
   }
  },
  {
   "cell_type": "code",
   "execution_count": 20,
   "outputs": [
    {
     "data": {
      "text/plain": "                  START  Frequency                  STOP  Frequency.1  \\\n0  2014-09-22T13:57:11Z       22.0                   NaN       1895.0   \n1  2017-01-13T20:51:21Z       20.0  2017-01-13T20:51:21Z         20.0   \n2  2006-12-08T09:55:43Z       18.0  2006-12-08T09:55:43Z         18.0   \n3  2007-02-02T09:55:43Z       18.0  2007-02-02T09:55:43Z         18.0   \n4  2001-10-09T15:08:21Z       16.0  2014-09-22T13:57:11Z         18.0   \n\n                                PATIENT  Frequency.2  \\\n0  3f336702-bf73-4fc8-bd59-3ba77fd65d0d       3313.0   \n1  19d2cfb8-439b-454a-b47e-5274c219005b       1614.0   \n2  2c71dd97-7085-416a-aa07-d675bbe3adf2       1563.0   \n3  cae10920-f977-48b4-a0d3-4d70ad561fd1       1551.0   \n4  3acf9313-1874-4dff-ab2a-3187516d92d6       1237.0   \n\n                                  PAYER  Frequency.3  \\\n0  7caa7254-5050-3b5e-9eae-bd5ea30e809c      12641.0   \n1  b1c428d6-4f07-31e0-90f0-68ffa6ff8c76       8495.0   \n2  6e2f1a2d-27bd-3701-8d08-dae202c58632       4882.0   \n3  7c4411ce-02f1-39b5-b9ec-dfbea9ad3c1a       4459.0   \n4  5059a55e-5d6e-34d1-b6cb-d83d16e57bcf       3056.0   \n\n                              ENCOUNTER  Frequency.4  ...  PAYER_COVERAGE  \\\n0  2d8c1eef-6b08-4c6e-a594-86569d33c5d6         12.0  ...            0.00   \n1  15f2338a-d5ab-425f-8878-ba9f51872e66         11.0  ...          223.49   \n2  2f09cd6e-8a42-4a82-ae77-a752e1fb7a59         11.0  ...          188.49   \n3  f00f74ce-349b-44ba-b64e-e7503c6e64e2         10.0  ...          203.49   \n4  ba010d7f-1b45-4c85-b246-ee4a3d59038a         10.0  ...          163.49   \n\n   Frequency.8 DISPENSES  Frequency.9  TOTALCOST  Frequency.10   REASONCODE  \\\n0      25738.0      12.0      17680.0    3161.88       10284.0   59621000.0   \n1       4375.0       1.0      16678.0     263.49        5135.0          NaN   \n2       1628.0       2.0       2139.0     526.98         386.0   44054006.0   \n3       1605.0       3.0       1693.0     790.47         344.0  233678006.0   \n4         88.0       4.0        693.0    2898.39         185.0  271737000.0   \n\n   Frequency.11  REASONDESCRIPTION  Frequency.12  \n0       11766.0       Hypertension       11766.0  \n1       11117.0                NaN       11117.0  \n2        7007.0           Diabetes        7007.0  \n3        4144.0   Childhood asthma        4144.0  \n4        3388.0  Anemia (disorder)        3388.0  \n\n[5 rows x 26 columns]",
      "text/html": "<div>\n<style scoped>\n    .dataframe tbody tr th:only-of-type {\n        vertical-align: middle;\n    }\n\n    .dataframe tbody tr th {\n        vertical-align: top;\n    }\n\n    .dataframe thead th {\n        text-align: right;\n    }\n</style>\n<table border=\"1\" class=\"dataframe\">\n  <thead>\n    <tr style=\"text-align: right;\">\n      <th></th>\n      <th>START</th>\n      <th>Frequency</th>\n      <th>STOP</th>\n      <th>Frequency.1</th>\n      <th>PATIENT</th>\n      <th>Frequency.2</th>\n      <th>PAYER</th>\n      <th>Frequency.3</th>\n      <th>ENCOUNTER</th>\n      <th>Frequency.4</th>\n      <th>...</th>\n      <th>PAYER_COVERAGE</th>\n      <th>Frequency.8</th>\n      <th>DISPENSES</th>\n      <th>Frequency.9</th>\n      <th>TOTALCOST</th>\n      <th>Frequency.10</th>\n      <th>REASONCODE</th>\n      <th>Frequency.11</th>\n      <th>REASONDESCRIPTION</th>\n      <th>Frequency.12</th>\n    </tr>\n  </thead>\n  <tbody>\n    <tr>\n      <th>0</th>\n      <td>2014-09-22T13:57:11Z</td>\n      <td>22.0</td>\n      <td>NaN</td>\n      <td>1895.0</td>\n      <td>3f336702-bf73-4fc8-bd59-3ba77fd65d0d</td>\n      <td>3313.0</td>\n      <td>7caa7254-5050-3b5e-9eae-bd5ea30e809c</td>\n      <td>12641.0</td>\n      <td>2d8c1eef-6b08-4c6e-a594-86569d33c5d6</td>\n      <td>12.0</td>\n      <td>...</td>\n      <td>0.00</td>\n      <td>25738.0</td>\n      <td>12.0</td>\n      <td>17680.0</td>\n      <td>3161.88</td>\n      <td>10284.0</td>\n      <td>59621000.0</td>\n      <td>11766.0</td>\n      <td>Hypertension</td>\n      <td>11766.0</td>\n    </tr>\n    <tr>\n      <th>1</th>\n      <td>2017-01-13T20:51:21Z</td>\n      <td>20.0</td>\n      <td>2017-01-13T20:51:21Z</td>\n      <td>20.0</td>\n      <td>19d2cfb8-439b-454a-b47e-5274c219005b</td>\n      <td>1614.0</td>\n      <td>b1c428d6-4f07-31e0-90f0-68ffa6ff8c76</td>\n      <td>8495.0</td>\n      <td>15f2338a-d5ab-425f-8878-ba9f51872e66</td>\n      <td>11.0</td>\n      <td>...</td>\n      <td>223.49</td>\n      <td>4375.0</td>\n      <td>1.0</td>\n      <td>16678.0</td>\n      <td>263.49</td>\n      <td>5135.0</td>\n      <td>NaN</td>\n      <td>11117.0</td>\n      <td>NaN</td>\n      <td>11117.0</td>\n    </tr>\n    <tr>\n      <th>2</th>\n      <td>2006-12-08T09:55:43Z</td>\n      <td>18.0</td>\n      <td>2006-12-08T09:55:43Z</td>\n      <td>18.0</td>\n      <td>2c71dd97-7085-416a-aa07-d675bbe3adf2</td>\n      <td>1563.0</td>\n      <td>6e2f1a2d-27bd-3701-8d08-dae202c58632</td>\n      <td>4882.0</td>\n      <td>2f09cd6e-8a42-4a82-ae77-a752e1fb7a59</td>\n      <td>11.0</td>\n      <td>...</td>\n      <td>188.49</td>\n      <td>1628.0</td>\n      <td>2.0</td>\n      <td>2139.0</td>\n      <td>526.98</td>\n      <td>386.0</td>\n      <td>44054006.0</td>\n      <td>7007.0</td>\n      <td>Diabetes</td>\n      <td>7007.0</td>\n    </tr>\n    <tr>\n      <th>3</th>\n      <td>2007-02-02T09:55:43Z</td>\n      <td>18.0</td>\n      <td>2007-02-02T09:55:43Z</td>\n      <td>18.0</td>\n      <td>cae10920-f977-48b4-a0d3-4d70ad561fd1</td>\n      <td>1551.0</td>\n      <td>7c4411ce-02f1-39b5-b9ec-dfbea9ad3c1a</td>\n      <td>4459.0</td>\n      <td>f00f74ce-349b-44ba-b64e-e7503c6e64e2</td>\n      <td>10.0</td>\n      <td>...</td>\n      <td>203.49</td>\n      <td>1605.0</td>\n      <td>3.0</td>\n      <td>1693.0</td>\n      <td>790.47</td>\n      <td>344.0</td>\n      <td>233678006.0</td>\n      <td>4144.0</td>\n      <td>Childhood asthma</td>\n      <td>4144.0</td>\n    </tr>\n    <tr>\n      <th>4</th>\n      <td>2001-10-09T15:08:21Z</td>\n      <td>16.0</td>\n      <td>2014-09-22T13:57:11Z</td>\n      <td>18.0</td>\n      <td>3acf9313-1874-4dff-ab2a-3187516d92d6</td>\n      <td>1237.0</td>\n      <td>5059a55e-5d6e-34d1-b6cb-d83d16e57bcf</td>\n      <td>3056.0</td>\n      <td>ba010d7f-1b45-4c85-b246-ee4a3d59038a</td>\n      <td>10.0</td>\n      <td>...</td>\n      <td>163.49</td>\n      <td>88.0</td>\n      <td>4.0</td>\n      <td>693.0</td>\n      <td>2898.39</td>\n      <td>185.0</td>\n      <td>271737000.0</td>\n      <td>3388.0</td>\n      <td>Anemia (disorder)</td>\n      <td>3388.0</td>\n    </tr>\n  </tbody>\n</table>\n<p>5 rows × 26 columns</p>\n</div>"
     },
     "execution_count": 20,
     "metadata": {},
     "output_type": "execute_result"
    }
   ],
   "source": [
    "scan_report.parse(\"medications.csv\").head(5)"
   ],
   "metadata": {
    "collapsed": false,
    "pycharm": {
     "name": "#%%\n"
    }
   }
  },
  {
   "cell_type": "markdown",
   "source": [
    "La feuille contient les informations des prises de médicaments.\n",
    "\n",
    "La majorité des médicaments délivrés sont des médicaments pour traiter l'hypertension et le diabète. On note également que plus d'un quart des médicaments sont données sans raison particulière.\n",
    "Environ 60% des médicaments ne sont par ailleurs pas couverts aux États-Unis."
   ],
   "metadata": {
    "collapsed": false,
    "pycharm": {
     "name": "#%% md\n"
    }
   }
  },
  {
   "cell_type": "markdown",
   "source": [
    "#### Encounters"
   ],
   "metadata": {
    "collapsed": false,
    "pycharm": {
     "name": "#%% md\n"
    }
   }
  },
  {
   "cell_type": "code",
   "execution_count": 21,
   "outputs": [
    {
     "data": {
      "text/plain": "                                     Id  Frequency                 START  \\\n0  2d495f23-a3dd-4175-8e71-fed82b24d7f7        1.0  1973-07-27T23:35:03Z   \n1  bac8ad91-863f-43b1-a4fc-79783ef9d9e0        1.0  1990-02-05T20:06:53Z   \n2  e963e35c-3798-4b48-b53e-7e4e74853851        1.0  1986-11-07T19:13:29Z   \n3  8366230c-d15b-4f29-af4c-3fbfe4e4194f        1.0  1985-10-04T23:35:03Z   \n4  0bdf59f3-7572-45c6-b405-f7e89c304757        1.0  2011-11-09T06:09:18Z   \n\n   Frequency.1                  STOP  Frequency.2  \\\n0          7.0  1990-02-06T20:06:53Z          4.0   \n1          6.0  1954-02-27T17:57:52Z          4.0   \n2          5.0  1947-01-18T17:42:52Z          4.0   \n3          5.0  1980-07-26T17:57:52Z          4.0   \n4          5.0  1967-05-13T17:42:52Z          4.0   \n\n                                PATIENT  Frequency.3  \\\n0  cae10920-f977-48b4-a0d3-4d70ad561fd1       2006.0   \n1  19d2cfb8-439b-454a-b47e-5274c219005b       1606.0   \n2  3f336702-bf73-4fc8-bd59-3ba77fd65d0d       1538.0   \n3  3acf9313-1874-4dff-ab2a-3187516d92d6        826.0   \n4  cecb7ece-fb70-4a7f-b51d-6e8dd1506ad9        452.0   \n\n                           ORGANIZATION  Frequency.4  ... BASE_ENCOUNTER_COST  \\\n0  be4c63f3-8d38-3fa9-a183-62045b5c85f6       3217.0  ...              129.16   \n1  d311e70d-86e7-3c03-b115-53892bcf7ef1       1972.0  ...               77.49   \n2  d692e283-0833-3201-8e55-4f868a9c0736       1658.0  ...                 NaN   \n3  e002090d-4e92-300e-b41e-7d1f21dee4c6       1028.0  ...                 NaN   \n4  3d10019f-c88e-3de5-9916-6107b9c0263d        955.0  ...                 NaN   \n\n   Frequency.10 TOTAL_CLAIM_COST  Frequency.11 PAYER_COVERAGE  Frequency.12  \\\n0       52923.0           129.16       52923.0           0.00       13085.0   \n1         423.0            77.49         423.0         129.16        9616.0   \n2           NaN              NaN           NaN          69.16        8921.0   \n3           NaN              NaN           NaN          89.16        7133.0   \n4           NaN              NaN           NaN          54.16        4860.0   \n\n    REASONCODE  Frequency.13                   REASONDESCRIPTION  Frequency.14  \n0          NaN       39569.0                                 NaN       39569.0  \n1   72892002.0        3779.0                    Normal pregnancy        3779.0  \n2   55822004.0        2273.0                      Hyperlipidemia        2273.0  \n3  444814009.0        1378.0          Viral sinusitis (disorder)        1378.0  \n4  195662009.0         691.0  Acute viral pharyngitis (disorder)         691.0  \n\n[5 rows x 30 columns]",
      "text/html": "<div>\n<style scoped>\n    .dataframe tbody tr th:only-of-type {\n        vertical-align: middle;\n    }\n\n    .dataframe tbody tr th {\n        vertical-align: top;\n    }\n\n    .dataframe thead th {\n        text-align: right;\n    }\n</style>\n<table border=\"1\" class=\"dataframe\">\n  <thead>\n    <tr style=\"text-align: right;\">\n      <th></th>\n      <th>Id</th>\n      <th>Frequency</th>\n      <th>START</th>\n      <th>Frequency.1</th>\n      <th>STOP</th>\n      <th>Frequency.2</th>\n      <th>PATIENT</th>\n      <th>Frequency.3</th>\n      <th>ORGANIZATION</th>\n      <th>Frequency.4</th>\n      <th>...</th>\n      <th>BASE_ENCOUNTER_COST</th>\n      <th>Frequency.10</th>\n      <th>TOTAL_CLAIM_COST</th>\n      <th>Frequency.11</th>\n      <th>PAYER_COVERAGE</th>\n      <th>Frequency.12</th>\n      <th>REASONCODE</th>\n      <th>Frequency.13</th>\n      <th>REASONDESCRIPTION</th>\n      <th>Frequency.14</th>\n    </tr>\n  </thead>\n  <tbody>\n    <tr>\n      <th>0</th>\n      <td>2d495f23-a3dd-4175-8e71-fed82b24d7f7</td>\n      <td>1.0</td>\n      <td>1973-07-27T23:35:03Z</td>\n      <td>7.0</td>\n      <td>1990-02-06T20:06:53Z</td>\n      <td>4.0</td>\n      <td>cae10920-f977-48b4-a0d3-4d70ad561fd1</td>\n      <td>2006.0</td>\n      <td>be4c63f3-8d38-3fa9-a183-62045b5c85f6</td>\n      <td>3217.0</td>\n      <td>...</td>\n      <td>129.16</td>\n      <td>52923.0</td>\n      <td>129.16</td>\n      <td>52923.0</td>\n      <td>0.00</td>\n      <td>13085.0</td>\n      <td>NaN</td>\n      <td>39569.0</td>\n      <td>NaN</td>\n      <td>39569.0</td>\n    </tr>\n    <tr>\n      <th>1</th>\n      <td>bac8ad91-863f-43b1-a4fc-79783ef9d9e0</td>\n      <td>1.0</td>\n      <td>1990-02-05T20:06:53Z</td>\n      <td>6.0</td>\n      <td>1954-02-27T17:57:52Z</td>\n      <td>4.0</td>\n      <td>19d2cfb8-439b-454a-b47e-5274c219005b</td>\n      <td>1606.0</td>\n      <td>d311e70d-86e7-3c03-b115-53892bcf7ef1</td>\n      <td>1972.0</td>\n      <td>...</td>\n      <td>77.49</td>\n      <td>423.0</td>\n      <td>77.49</td>\n      <td>423.0</td>\n      <td>129.16</td>\n      <td>9616.0</td>\n      <td>72892002.0</td>\n      <td>3779.0</td>\n      <td>Normal pregnancy</td>\n      <td>3779.0</td>\n    </tr>\n    <tr>\n      <th>2</th>\n      <td>e963e35c-3798-4b48-b53e-7e4e74853851</td>\n      <td>1.0</td>\n      <td>1986-11-07T19:13:29Z</td>\n      <td>5.0</td>\n      <td>1947-01-18T17:42:52Z</td>\n      <td>4.0</td>\n      <td>3f336702-bf73-4fc8-bd59-3ba77fd65d0d</td>\n      <td>1538.0</td>\n      <td>d692e283-0833-3201-8e55-4f868a9c0736</td>\n      <td>1658.0</td>\n      <td>...</td>\n      <td>NaN</td>\n      <td>NaN</td>\n      <td>NaN</td>\n      <td>NaN</td>\n      <td>69.16</td>\n      <td>8921.0</td>\n      <td>55822004.0</td>\n      <td>2273.0</td>\n      <td>Hyperlipidemia</td>\n      <td>2273.0</td>\n    </tr>\n    <tr>\n      <th>3</th>\n      <td>8366230c-d15b-4f29-af4c-3fbfe4e4194f</td>\n      <td>1.0</td>\n      <td>1985-10-04T23:35:03Z</td>\n      <td>5.0</td>\n      <td>1980-07-26T17:57:52Z</td>\n      <td>4.0</td>\n      <td>3acf9313-1874-4dff-ab2a-3187516d92d6</td>\n      <td>826.0</td>\n      <td>e002090d-4e92-300e-b41e-7d1f21dee4c6</td>\n      <td>1028.0</td>\n      <td>...</td>\n      <td>NaN</td>\n      <td>NaN</td>\n      <td>NaN</td>\n      <td>NaN</td>\n      <td>89.16</td>\n      <td>7133.0</td>\n      <td>444814009.0</td>\n      <td>1378.0</td>\n      <td>Viral sinusitis (disorder)</td>\n      <td>1378.0</td>\n    </tr>\n    <tr>\n      <th>4</th>\n      <td>0bdf59f3-7572-45c6-b405-f7e89c304757</td>\n      <td>1.0</td>\n      <td>2011-11-09T06:09:18Z</td>\n      <td>5.0</td>\n      <td>1967-05-13T17:42:52Z</td>\n      <td>4.0</td>\n      <td>cecb7ece-fb70-4a7f-b51d-6e8dd1506ad9</td>\n      <td>452.0</td>\n      <td>3d10019f-c88e-3de5-9916-6107b9c0263d</td>\n      <td>955.0</td>\n      <td>...</td>\n      <td>NaN</td>\n      <td>NaN</td>\n      <td>NaN</td>\n      <td>NaN</td>\n      <td>54.16</td>\n      <td>4860.0</td>\n      <td>195662009.0</td>\n      <td>691.0</td>\n      <td>Acute viral pharyngitis (disorder)</td>\n      <td>691.0</td>\n    </tr>\n  </tbody>\n</table>\n<p>5 rows × 30 columns</p>\n</div>"
     },
     "execution_count": 21,
     "metadata": {},
     "output_type": "execute_result"
    }
   ],
   "source": [
    "scan_report.parse(\"encounters.csv\").head(5)"
   ],
   "metadata": {
    "collapsed": false,
    "pycharm": {
     "name": "#%%\n"
    }
   }
  },
  {
   "cell_type": "markdown",
   "source": [
    "La feuille décrit la liste des rencontres avec un patient.\n",
    "Le motif le plus répandu est l'examination d'ordre général, avec près de 30% d'apparition.\n",
    "La raison la plus répandue n'est pas remplie, et représente environ les trois quarts des rencontres.\n",
    "L'immense majorité (99%) des rencontres sont facturées à 129,16 dollars, et à peine 25% d'entre elles sont entièrement couvertes."
   ],
   "metadata": {
    "collapsed": false,
    "pycharm": {
     "name": "#%% md\n"
    }
   }
  },
  {
   "cell_type": "markdown",
   "source": [
    "#### Organizations"
   ],
   "metadata": {
    "collapsed": false,
    "pycharm": {
     "name": "#%% md\n"
    }
   }
  },
  {
   "cell_type": "code",
   "execution_count": 22,
   "outputs": [
    {
     "data": {
      "text/plain": "                                     Id  Frequency  \\\n0  db0acede-4abe-3c01-8d03-5c68a190d8c7        1.0   \n1  6f8f02cd-5231-36b6-8174-1cb9cb653c01        1.0   \n2  eb41a4ec-fbbe-336c-9987-cae575551845        1.0   \n3  1ac92984-69ab-3c07-9b52-73736930a1b5        1.0   \n4  95f1fe9a-3755-3b65-b23f-b6fdb9cc713d        1.0   \n\n                                            NAME  Frequency.1  \\\n0  MINUTECLINIC DIAGNOSTIC OF MASSACHUSETTS  LLC         13.0   \n1             UMASS MEMORIAL MEDICAL GROUP  INC.         12.0   \n2  MEDICAL CARE OF BOSTON MANAGEMENT CORPORATION          9.0   \n3             SOUTHCOAST PHYSICIANS GROUP  INC..          7.0   \n4                     STEWARD MEDICAL GROUP  INC          7.0   \n\n            ADDRESS  Frequency.2        CITY  Frequency.3 STATE  Frequency.4  \\\n0    1180 BEACON ST          6.0   BROOKLINE         32.0    MA       1119.0   \n1       955 MAIN ST          5.0   CAMBRIDGE         29.0   NaN          NaN   \n2  199 REEDSDALE RD          5.0      BOSTON         25.0   NaN          NaN   \n3     3 WOODLAND RD          4.0      MILTON         18.0   NaN          NaN   \n4    1 BROOKLINE PL          3.0  SOMERVILLE         17.0   NaN          NaN   \n\n   ...        LAT  Frequency.6        LON  Frequency.7         PHONE  \\\n0  ...  42.331960         34.0 -71.020173         34.0           NaN   \n1  ...  42.323853         32.0 -71.142003         32.0  866-389-2727   \n2  ...  42.376043         27.0 -71.118680         27.0  800-865-3384   \n3  ...  42.390445         17.0 -71.101033         17.0  800-838-6331   \n4  ...  42.241557         17.0 -71.082432         17.0  617-912-7900   \n\n   Frequency.8  REVENUE  Frequency.9  UTILIZATION  Frequency.10  \n0        184.0  3616.48         70.0         28.0          68.0  \n1         13.0     0.00         43.0         30.0          33.0  \n2          5.0  3874.80         33.0         31.0          31.0  \n3          3.0  4003.96         29.0         29.0          25.0  \n4          2.0  3745.64         24.0         34.0          23.0  \n\n[5 rows x 22 columns]",
      "text/html": "<div>\n<style scoped>\n    .dataframe tbody tr th:only-of-type {\n        vertical-align: middle;\n    }\n\n    .dataframe tbody tr th {\n        vertical-align: top;\n    }\n\n    .dataframe thead th {\n        text-align: right;\n    }\n</style>\n<table border=\"1\" class=\"dataframe\">\n  <thead>\n    <tr style=\"text-align: right;\">\n      <th></th>\n      <th>Id</th>\n      <th>Frequency</th>\n      <th>NAME</th>\n      <th>Frequency.1</th>\n      <th>ADDRESS</th>\n      <th>Frequency.2</th>\n      <th>CITY</th>\n      <th>Frequency.3</th>\n      <th>STATE</th>\n      <th>Frequency.4</th>\n      <th>...</th>\n      <th>LAT</th>\n      <th>Frequency.6</th>\n      <th>LON</th>\n      <th>Frequency.7</th>\n      <th>PHONE</th>\n      <th>Frequency.8</th>\n      <th>REVENUE</th>\n      <th>Frequency.9</th>\n      <th>UTILIZATION</th>\n      <th>Frequency.10</th>\n    </tr>\n  </thead>\n  <tbody>\n    <tr>\n      <th>0</th>\n      <td>db0acede-4abe-3c01-8d03-5c68a190d8c7</td>\n      <td>1.0</td>\n      <td>MINUTECLINIC DIAGNOSTIC OF MASSACHUSETTS  LLC</td>\n      <td>13.0</td>\n      <td>1180 BEACON ST</td>\n      <td>6.0</td>\n      <td>BROOKLINE</td>\n      <td>32.0</td>\n      <td>MA</td>\n      <td>1119.0</td>\n      <td>...</td>\n      <td>42.331960</td>\n      <td>34.0</td>\n      <td>-71.020173</td>\n      <td>34.0</td>\n      <td>NaN</td>\n      <td>184.0</td>\n      <td>3616.48</td>\n      <td>70.0</td>\n      <td>28.0</td>\n      <td>68.0</td>\n    </tr>\n    <tr>\n      <th>1</th>\n      <td>6f8f02cd-5231-36b6-8174-1cb9cb653c01</td>\n      <td>1.0</td>\n      <td>UMASS MEMORIAL MEDICAL GROUP  INC.</td>\n      <td>12.0</td>\n      <td>955 MAIN ST</td>\n      <td>5.0</td>\n      <td>CAMBRIDGE</td>\n      <td>29.0</td>\n      <td>NaN</td>\n      <td>NaN</td>\n      <td>...</td>\n      <td>42.323853</td>\n      <td>32.0</td>\n      <td>-71.142003</td>\n      <td>32.0</td>\n      <td>866-389-2727</td>\n      <td>13.0</td>\n      <td>0.00</td>\n      <td>43.0</td>\n      <td>30.0</td>\n      <td>33.0</td>\n    </tr>\n    <tr>\n      <th>2</th>\n      <td>eb41a4ec-fbbe-336c-9987-cae575551845</td>\n      <td>1.0</td>\n      <td>MEDICAL CARE OF BOSTON MANAGEMENT CORPORATION</td>\n      <td>9.0</td>\n      <td>199 REEDSDALE RD</td>\n      <td>5.0</td>\n      <td>BOSTON</td>\n      <td>25.0</td>\n      <td>NaN</td>\n      <td>NaN</td>\n      <td>...</td>\n      <td>42.376043</td>\n      <td>27.0</td>\n      <td>-71.118680</td>\n      <td>27.0</td>\n      <td>800-865-3384</td>\n      <td>5.0</td>\n      <td>3874.80</td>\n      <td>33.0</td>\n      <td>31.0</td>\n      <td>31.0</td>\n    </tr>\n    <tr>\n      <th>3</th>\n      <td>1ac92984-69ab-3c07-9b52-73736930a1b5</td>\n      <td>1.0</td>\n      <td>SOUTHCOAST PHYSICIANS GROUP  INC..</td>\n      <td>7.0</td>\n      <td>3 WOODLAND RD</td>\n      <td>4.0</td>\n      <td>MILTON</td>\n      <td>18.0</td>\n      <td>NaN</td>\n      <td>NaN</td>\n      <td>...</td>\n      <td>42.390445</td>\n      <td>17.0</td>\n      <td>-71.101033</td>\n      <td>17.0</td>\n      <td>800-838-6331</td>\n      <td>3.0</td>\n      <td>4003.96</td>\n      <td>29.0</td>\n      <td>29.0</td>\n      <td>25.0</td>\n    </tr>\n    <tr>\n      <th>4</th>\n      <td>95f1fe9a-3755-3b65-b23f-b6fdb9cc713d</td>\n      <td>1.0</td>\n      <td>STEWARD MEDICAL GROUP  INC</td>\n      <td>7.0</td>\n      <td>1 BROOKLINE PL</td>\n      <td>3.0</td>\n      <td>SOMERVILLE</td>\n      <td>17.0</td>\n      <td>NaN</td>\n      <td>NaN</td>\n      <td>...</td>\n      <td>42.241557</td>\n      <td>17.0</td>\n      <td>-71.082432</td>\n      <td>17.0</td>\n      <td>617-912-7900</td>\n      <td>2.0</td>\n      <td>3745.64</td>\n      <td>24.0</td>\n      <td>34.0</td>\n      <td>23.0</td>\n    </tr>\n  </tbody>\n</table>\n<p>5 rows × 22 columns</p>\n</div>"
     },
     "execution_count": 22,
     "metadata": {},
     "output_type": "execute_result"
    }
   ],
   "source": [
    "scan_report.parse(\"organizations.csv\").head(5)"
   ],
   "metadata": {
    "collapsed": false,
    "pycharm": {
     "name": "#%%\n"
    }
   }
  },
  {
   "cell_type": "markdown",
   "source": [
    "Le fichier présente la liste des établissements de santé et leurs informations administratives.\n",
    "On remarque 43 établissements au revenu nul, est-ce une codification pour un revenu négatif ?\n",
    "Beaucoup de numéros ne sont pas renseignés.\n",
    "On remarque que 13 organisations qui utilisent le même nom, mais seulement 6 au plus ont la même adresse, alors que 34 ont la même latitude et la même longitude..."
   ],
   "metadata": {
    "collapsed": false,
    "pycharm": {
     "name": "#%% md\n"
    }
   }
  },
  {
   "cell_type": "markdown",
   "source": [
    "### Remarques générales sur les feuilles"
   ],
   "metadata": {
    "collapsed": false,
    "pycharm": {
     "name": "#%% md\n"
    }
   }
  },
  {
   "cell_type": "markdown",
   "source": [
    "L'usage du champ \"Frequency\", qui groupe les colonnes par valeurs apparaissant de multiples fois pour en sortir la somme, pourrait permettre de savoir quels encodages / mapping développer en priorité si le problème était posé.\n",
    "Cependant, son utilisation casse la continuité au sein des lignes, et il est alors impossible de vérifier si les lignes sont cohérentes, par exemple :\n",
    "- La date de début est-elle plus ancienne que la date de fin ?\n",
    "- Les unités d'une observation sont elles cohérentes avec le type et la valeur de la mesure ?\n",
    "\n",
    "Nous partirons donc du principe ne contiennent pas d'erreur, à part la colonne \"STOP\" de la feuille device qui est vide.\n",
    "\n",
    "Le rapport contient également une feuille \"_\" qui contient les informations liées à la version de WhiteRabbit, qui peut être utile pour vérifier les conditions de génération du rapport en cas de résultats aberrants dans ce dernier."
   ],
   "metadata": {
    "collapsed": false,
    "pycharm": {
     "name": "#%% md\n"
    }
   }
  },
  {
   "cell_type": "markdown",
   "source": [],
   "metadata": {
    "collapsed": false,
    "pycharm": {
     "name": "#%% md\n"
    }
   }
  }
 ],
 "metadata": {
  "kernelspec": {
   "display_name": "Python 3",
   "language": "python",
   "name": "python3"
  },
  "language_info": {
   "codemirror_mode": {
    "name": "ipython",
    "version": 2
   },
   "file_extension": ".py",
   "mimetype": "text/x-python",
   "name": "python",
   "nbconvert_exporter": "python",
   "pygments_lexer": "ipython2",
   "version": "2.7.6"
  }
 },
 "nbformat": 4,
 "nbformat_minor": 0
}